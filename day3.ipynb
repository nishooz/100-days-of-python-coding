{
 "cells": [
  {
   "cell_type": "code",
   "execution_count": 3,
   "id": "fc325262",
   "metadata": {},
   "outputs": [],
   "source": [
    "#SI\n",
    "#principle + interest\n"
   ]
  },
  {
   "cell_type": "code",
   "execution_count": 4,
   "id": "34bf5f2a",
   "metadata": {},
   "outputs": [],
   "source": [
    "#cylinder volume.cost 40 rs milk"
   ]
  },
  {
   "cell_type": "code",
   "execution_count": 5,
   "id": "f5256dcf",
   "metadata": {},
   "outputs": [],
   "source": [
    "#no. divisible by 6&3"
   ]
  },
  {
   "cell_type": "code",
   "execution_count": 6,
   "id": "302c4f01",
   "metadata": {},
   "outputs": [],
   "source": [
    "#temperature and humidity input. determine weather\n"
   ]
  },
  {
   "cell_type": "code",
   "execution_count": 7,
   "id": "8cb23f21",
   "metadata": {},
   "outputs": [],
   "source": [
    "#three digit number .square of each digit addition"
   ]
  },
  {
   "cell_type": "code",
   "execution_count": 9,
   "id": "0e8f7bf2",
   "metadata": {},
   "outputs": [],
   "source": [
    "#armstrong number()"
   ]
  },
  {
   "cell_type": "code",
   "execution_count": 10,
   "id": "fd7265eb",
   "metadata": {},
   "outputs": [],
   "source": [
    "#narcissist num four digit."
   ]
  },
  {
   "cell_type": "code",
   "execution_count": 13,
   "id": "5d9129a1",
   "metadata": {},
   "outputs": [],
   "source": [
    "#in hand salary. deduct hra10%,da5%,pf3%,tax(5-10l - 10%),(11-20l -20%)(20< 30%)(0-1l print k)"
   ]
  },
  {
   "cell_type": "code",
   "execution_count": 14,
   "id": "54f29c3c",
   "metadata": {},
   "outputs": [],
   "source": [
    "#menu driven program- 1.cm to ft  2.kl to miles  3.usd to rs  4.exit"
   ]
  },
  {
   "cell_type": "markdown",
   "id": "a4eb9f74",
   "metadata": {},
   "source": [
    "# 1. S.I"
   ]
  },
  {
   "cell_type": "code",
   "execution_count": 8,
   "id": "2b10b9aa",
   "metadata": {},
   "outputs": [
    {
     "name": "stdout",
     "output_type": "stream",
     "text": [
      "Enter the principle7000\n",
      "Enter rate of interest6\n",
      "Enter number of days8\n",
      "Your Simple Interest is- 3360.0\n",
      "Your amount is- 10360.0\n"
     ]
    }
   ],
   "source": [
    "p = int(input('Enter the principle'))\n",
    "r = int(input('Enter rate of interest'))\n",
    "t = int(input('Enter number of days'))\n",
    "\n",
    "si = (p * r * t)/100\n",
    "print('Your Simple Interest is-',si)\n",
    "\n",
    "a = p + si\n",
    "print('Your amount is-',a)\n",
    "\n"
   ]
  },
  {
   "cell_type": "markdown",
   "id": "ced17f80",
   "metadata": {},
   "source": [
    "# 2. Volume of cylinder"
   ]
  },
  {
   "cell_type": "code",
   "execution_count": 1,
   "id": "adc6aa01",
   "metadata": {},
   "outputs": [
    {
     "name": "stdout",
     "output_type": "stream",
     "text": [
      "Enter radius7\n",
      "Enter height8\n",
      "Your volume is- 1230.88\n",
      "Your cost is- Rs 49.235200000000006\n"
     ]
    }
   ],
   "source": [
    "r = float(input('Enter radius'))\n",
    "h = float(input('Enter height'))\n",
    "\n",
    "v = 3.14*(r**2)*h\n",
    "print('Your volume is-',v)\n",
    "\n",
    "cost = v/1000 * 40\n",
    "print('Your cost is-','Rs',cost)"
   ]
  },
  {
   "cell_type": "markdown",
   "id": "74e6c781",
   "metadata": {},
   "source": [
    "# 3. number divisible by 3 & 6"
   ]
  },
  {
   "cell_type": "code",
   "execution_count": 23,
   "id": "fe767d98",
   "metadata": {},
   "outputs": [
    {
     "name": "stdout",
     "output_type": "stream",
     "text": [
      "Enter your number45\n",
      "Not dividible by 3 & 6\n"
     ]
    }
   ],
   "source": [
    "user_input = int(input('Enter your number'))\n",
    "if user_input % 3 ==0  and user_input % 6 == 0:\n",
    "    print('Divisible by 3 & 6')\n",
    "else:\n",
    "    print('Not dividible by 3 & 6')"
   ]
  },
  {
   "cell_type": "markdown",
   "id": "74869a6a",
   "metadata": {},
   "source": [
    "# 4. Weather"
   ]
  },
  {
   "cell_type": "code",
   "execution_count": 10,
   "id": "e392c0e0",
   "metadata": {},
   "outputs": [
    {
     "name": "stdout",
     "output_type": "stream",
     "text": [
      "Enter temperature10\n",
      "Enter humidity10\n",
      "cool\n"
     ]
    }
   ],
   "source": [
    "temp = int(input('Enter temperature'))\n",
    "humid = int(input('Enter humidity'))\n",
    "\n",
    "if temp>=30 and humid>=90:\n",
    "    print('Hot and Humid')\n",
    "elif temp>=30 and humid<90:\n",
    "    print('Hot')\n",
    "elif temp<30 and humid>=90:\n",
    "    print('Cool and Humid')\n",
    "else:\n",
    "    print('cool')"
   ]
  },
  {
   "cell_type": "markdown",
   "id": "6b2afc26",
   "metadata": {},
   "source": [
    "# 5. addition of square of three digit number"
   ]
  },
  {
   "cell_type": "code",
   "execution_count": 1,
   "id": "f5c836f2",
   "metadata": {},
   "outputs": [
    {
     "name": "stdout",
     "output_type": "stream",
     "text": [
      "Enter your three digit number234\n",
      "Required number is- 29\n"
     ]
    }
   ],
   "source": [
    "user_input = int(input('Enter your three digit number'))\n",
    "num = user_input\n",
    "\n",
    "a = num % 10\n",
    "num = num // 10\n",
    "b = num % 10\n",
    "c = num // 10\n",
    "\n",
    "add = (a**2)+(b**2)+(c**2)\n",
    "print('Required number is-',add)"
   ]
  },
  {
   "cell_type": "markdown",
   "id": "cf10c7f5",
   "metadata": {},
   "source": [
    "# 6.Armstrong Number "
   ]
  },
  {
   "cell_type": "code",
   "execution_count": 2,
   "id": "3268180c",
   "metadata": {},
   "outputs": [
    {
     "name": "stdout",
     "output_type": "stream",
     "text": [
      "Enter a three digit number153\n",
      "Yes it is an Armstrong number\n"
     ]
    }
   ],
   "source": [
    "user_input = int(input('Enter a three digit number'))\n",
    "num = user_input\n",
    "\n",
    "a = num % 10\n",
    "num = num // 10\n",
    "b = num % 10\n",
    "c = num // 10\n",
    "\n",
    "if (a**3)+(b**3)+(c**3) == user_input:\n",
    "    print('Yes it is an Armstrong number')\n",
    "else:\n",
    "    print('nope not an Armstrong number')"
   ]
  },
  {
   "cell_type": "markdown",
   "id": "2d521753",
   "metadata": {},
   "source": [
    "# 7. Narcissistic number four digit"
   ]
  },
  {
   "cell_type": "code",
   "execution_count": 3,
   "id": "b2e911b3",
   "metadata": {},
   "outputs": [
    {
     "name": "stdout",
     "output_type": "stream",
     "text": [
      "Enter a four digit number1634\n",
      "yes,narcissistic num\n"
     ]
    }
   ],
   "source": [
    "user_input = int(input('Enter a four digit number'))\n",
    "num = user_input\n",
    "\n",
    "a = num % 10\n",
    "num = num // 10\n",
    "b = num % 10\n",
    "num = num // 10\n",
    "c = num % 10\n",
    "d = num // 10\n",
    "           \n",
    "if (a**4)+(b**4)+(c**4)+(d**4) == user_input:\n",
    "    print('yes,narcissistic num')\n",
    "else:\n",
    "    print('no,not a narcissistic num')"
   ]
  },
  {
   "cell_type": "markdown",
   "id": "0c613ce8",
   "metadata": {},
   "source": [
    "# 8. Salary program"
   ]
  },
  {
   "cell_type": "code",
   "execution_count": 5,
   "id": "a4e3ba66",
   "metadata": {},
   "outputs": [
    {
     "name": "stdout",
     "output_type": "stream",
     "text": [
      "Enter your annual salary600000000\n",
      "after tax reduction- 420000000.0\n",
      "In_Handsalary- 28700000.0\n",
      "2.87 cr\n"
     ]
    }
   ],
   "source": [
    "user_input = float(input('Enter your annual salary'))\n",
    "if user_input>500000 and user_input<1000000:\n",
    "    tax = (10/100)*user_input\n",
    "    temp_salary = user_input - tax\n",
    "    \n",
    "elif user_input>1000000 and user_input<2000000:\n",
    "    tax = (20/100)*user_input\n",
    "    temp_salary = user_input - tax\n",
    "else:\n",
    "    tax =(30/100)*user_input\n",
    "    temp_salary = user_input - tax\n",
    "    \n",
    "print('after tax reduction-',temp_salary)\n",
    "\n",
    "hra = (10/100)*temp_salary\n",
    "da = (5/100)*temp_salary\n",
    "pf = (3/100)*temp_salary\n",
    "    \n",
    "in_handsalary = (temp_salary - hra - da - pf)/12\n",
    "print('In_Handsalary-',in_handsalary)\n",
    "\n",
    "if in_handsalary<=999:\n",
    "    print(in_handsalary)\n",
    "elif in_handsalary>=1000 and in_handsalary<=9999:\n",
    "    print((in_handsalary/1000),'K')\n",
    "elif in_handsalary>=100000 and in_handsalary<=9999999:\n",
    "    print((in_handsalary/100000),'l')\n",
    "else:\n",
    "    print((in_handsalary/10000000),'cr')\n",
    "    "
   ]
  },
  {
   "cell_type": "markdown",
   "id": "d889b6af",
   "metadata": {},
   "source": [
    "# 9. Menu driven program"
   ]
  },
  {
   "cell_type": "code",
   "execution_count": 5,
   "id": "fb687d36",
   "metadata": {},
   "outputs": [
    {
     "name": "stdout",
     "output_type": "stream",
     "text": [
      "\n",
      "Hi! Welcome to my page.\n",
      "What would you like to do?\n",
      "\n",
      "1. Convert cm to inches\n",
      "2. Convert km to miles\n",
      "3. Convert usd to inr\n",
      "4. Exit\n",
      "4\n",
      "Exit\n"
     ]
    }
   ],
   "source": [
    "user_input = input('''\n",
    "Hi! Welcome to my page.\n",
    "What would you like to do?\n",
    "\n",
    "1. Convert cm to inches\n",
    "2. Convert km to miles\n",
    "3. Convert usd to inr\n",
    "4. Exit\n",
    "''')\n",
    "if user_input == '1':\n",
    "    cm = float(input('Enter cm value'))\n",
    "    inch = cm * 0.394\n",
    "    print(inch)\n",
    "\n",
    "elif user_input == '2':\n",
    "    km = float(input('Enter km value'))\n",
    "    miles = km * 0.621\n",
    "    print(miles)\n",
    "    \n",
    "elif user_input == '3':\n",
    "    usd = float(input('Enter usd value'))\n",
    "    inr = usd * 76.63\n",
    "    print(inr)\n",
    "    \n",
    "else:\n",
    "    print('Exit')\n",
    "    \n",
    "    \n",
    "    \n",
    "\n",
    "    "
   ]
  },
  {
   "cell_type": "code",
   "execution_count": null,
   "id": "5ffde145",
   "metadata": {},
   "outputs": [],
   "source": []
  }
 ],
 "metadata": {
  "kernelspec": {
   "display_name": "Python 3 (ipykernel)",
   "language": "python",
   "name": "python3"
  },
  "language_info": {
   "codemirror_mode": {
    "name": "ipython",
    "version": 3
   },
   "file_extension": ".py",
   "mimetype": "text/x-python",
   "name": "python",
   "nbconvert_exporter": "python",
   "pygments_lexer": "ipython3",
   "version": "3.9.7"
  }
 },
 "nbformat": 4,
 "nbformat_minor": 5
}

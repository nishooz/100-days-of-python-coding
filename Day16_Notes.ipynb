{
 "cells": [
  {
   "cell_type": "markdown",
   "id": "3ca4b3c0",
   "metadata": {},
   "source": [
    "### Lambda functions"
   ]
  },
  {
   "cell_type": "code",
   "execution_count": 1,
   "id": "45b08d38",
   "metadata": {},
   "outputs": [
    {
     "data": {
      "text/plain": [
       "<function __main__.<lambda>(input)>"
      ]
     },
     "execution_count": 1,
     "metadata": {},
     "output_type": "execute_result"
    }
   ],
   "source": [
    "lambda input:expression"
   ]
  },
  {
   "cell_type": "code",
   "execution_count": 5,
   "id": "96e05d4b",
   "metadata": {},
   "outputs": [
    {
     "data": {
      "text/plain": [
       "81"
      ]
     },
     "execution_count": 5,
     "metadata": {},
     "output_type": "execute_result"
    }
   ],
   "source": [
    "x = lambda x:x**2\n",
    "x(9)\n"
   ]
  },
  {
   "cell_type": "code",
   "execution_count": 7,
   "id": "dced4228",
   "metadata": {},
   "outputs": [
    {
     "data": {
      "text/plain": [
       "9"
      ]
     },
     "execution_count": 7,
     "metadata": {},
     "output_type": "execute_result"
    }
   ],
   "source": [
    "a = lambda x,y:x+y\n",
    "a(4,5)"
   ]
  },
  {
   "cell_type": "markdown",
   "id": "a43706f3",
   "metadata": {},
   "source": [
    "### Difference"
   ]
  },
  {
   "cell_type": "markdown",
   "id": "a110cc0b",
   "metadata": {},
   "source": [
    "##### 1.Lambda has no return value\n",
    "##### 2.One line\n",
    "##### 3.Not used for code reusability\n",
    "##### 4.No name"
   ]
  },
  {
   "cell_type": "code",
   "execution_count": 8,
   "id": "9d54d2e0",
   "metadata": {},
   "outputs": [
    {
     "data": {
      "text/plain": [
       "True"
      ]
     },
     "execution_count": 8,
     "metadata": {},
     "output_type": "execute_result"
    }
   ],
   "source": [
    "b = lambda x:x[0]=='a'\n",
    "b('apple')"
   ]
  },
  {
   "cell_type": "code",
   "execution_count": 9,
   "id": "95893c9b",
   "metadata": {},
   "outputs": [
    {
     "data": {
      "text/plain": [
       "False"
      ]
     },
     "execution_count": 9,
     "metadata": {},
     "output_type": "execute_result"
    }
   ],
   "source": [
    "b('banana')"
   ]
  },
  {
   "cell_type": "code",
   "execution_count": 10,
   "id": "99ae9e6a",
   "metadata": {},
   "outputs": [
    {
     "data": {
      "text/plain": [
       "'odd'"
      ]
     },
     "execution_count": 10,
     "metadata": {},
     "output_type": "execute_result"
    }
   ],
   "source": [
    "b = lambda x:'Even' if x%2== 0 else 'odd'\n",
    "b(3)"
   ]
  },
  {
   "cell_type": "code",
   "execution_count": 11,
   "id": "37f137e4",
   "metadata": {},
   "outputs": [
    {
     "data": {
      "text/plain": [
       "'Even'"
      ]
     },
     "execution_count": 11,
     "metadata": {},
     "output_type": "execute_result"
    }
   ],
   "source": [
    "b(2)"
   ]
  },
  {
   "cell_type": "markdown",
   "id": "f2a09f34",
   "metadata": {},
   "source": [
    "#### Higher order function"
   ]
  },
  {
   "cell_type": "code",
   "execution_count": 12,
   "id": "1e6fa210",
   "metadata": {},
   "outputs": [
    {
     "name": "stdout",
     "output_type": "stream",
     "text": [
      "176\n",
      "129\n",
      "144\n"
     ]
    }
   ],
   "source": [
    "def return_sum(func,L):\n",
    "    \n",
    "    result = 0\n",
    "    \n",
    "    for i in L:\n",
    "        \n",
    "        if func(i):\n",
    "            result = result + i\n",
    "    return result\n",
    "\n",
    "L = [11,14,21,23,56,78,45,29,28]\n",
    "\n",
    "x = lambda x:x%2 == 0\n",
    "y = lambda x:x%2 != 0\n",
    "z = lambda x:x%3 == 0\n",
    "\n",
    "print(return_sum(x,L))\n",
    "print(return_sum(y,L))\n",
    "print(return_sum(z,L))"
   ]
  },
  {
   "cell_type": "markdown",
   "id": "c2c12706",
   "metadata": {},
   "source": [
    "#### Map"
   ]
  },
  {
   "cell_type": "code",
   "execution_count": 14,
   "id": "73fa5058",
   "metadata": {},
   "outputs": [
    {
     "data": {
      "text/plain": [
       "[2, 4, 6, 8, 10, 12]"
      ]
     },
     "execution_count": 14,
     "metadata": {},
     "output_type": "execute_result"
    }
   ],
   "source": [
    "L = [1,2,3,4,5,6]\n",
    "list(map(lambda x:x*2,L))"
   ]
  },
  {
   "cell_type": "code",
   "execution_count": 15,
   "id": "d002d9a8",
   "metadata": {},
   "outputs": [
    {
     "data": {
      "text/plain": [
       "[False, True, False, True, False, True]"
      ]
     },
     "execution_count": 15,
     "metadata": {},
     "output_type": "execute_result"
    }
   ],
   "source": [
    "list(map(lambda x:x%2==0,L))"
   ]
  },
  {
   "cell_type": "code",
   "execution_count": 20,
   "id": "85401603",
   "metadata": {},
   "outputs": [
    {
     "data": {
      "text/plain": [
       "['jacob Martin', 'Ricky Smart', 'Angela Stevens']"
      ]
     },
     "execution_count": 20,
     "metadata": {},
     "output_type": "execute_result"
    }
   ],
   "source": [
    "student = [\n",
    "    {\n",
    "        'name':'jacob Martin',\n",
    "        'father name':'Robert Stevens',\n",
    "        'Address':'123 Hill Street',\n",
    "    },{\n",
    "        'name':'Ricky Smart',\n",
    "        'father name':'William Smart',\n",
    "        'Address':'Unknown',\n",
    "    },{\n",
    "        'name':'Angela Stevens',\n",
    "        'father name':'Ros Martin',\n",
    "        'Address':'3 Upper Street London'\n",
    "    }\n",
    "]\n",
    "\n",
    "list(map(lambda student:student['name'],student))"
   ]
  },
  {
   "cell_type": "markdown",
   "id": "f19c3d16",
   "metadata": {},
   "source": [
    "#### Filter"
   ]
  },
  {
   "cell_type": "code",
   "execution_count": 22,
   "id": "dbf63f5a",
   "metadata": {},
   "outputs": [
    {
     "data": {
      "text/plain": [
       "[5, 6, 7]"
      ]
     },
     "execution_count": 22,
     "metadata": {},
     "output_type": "execute_result"
    }
   ],
   "source": [
    "L = [1,2,3,4,5,6,7]\n",
    "list(filter(lambda x:x>4,L))"
   ]
  },
  {
   "cell_type": "code",
   "execution_count": 24,
   "id": "6ecdfe3e",
   "metadata": {},
   "outputs": [
    {
     "data": {
      "text/plain": [
       "['Apple', 'orange']"
      ]
     },
     "execution_count": 24,
     "metadata": {},
     "output_type": "execute_result"
    }
   ],
   "source": [
    "fruits = ['Apple','orange','mango','Guava']\n",
    "list(filter(lambda fruit:'e'in fruit,fruits))"
   ]
  },
  {
   "cell_type": "markdown",
   "id": "f9e2ffa1",
   "metadata": {},
   "source": [
    "#### Reduce"
   ]
  },
  {
   "cell_type": "code",
   "execution_count": 25,
   "id": "40d36dc1",
   "metadata": {},
   "outputs": [
    {
     "data": {
      "text/plain": [
       "[1, 2, 3, 4, 5, 6, 7]"
      ]
     },
     "execution_count": 25,
     "metadata": {},
     "output_type": "execute_result"
    }
   ],
   "source": [
    "import functools\n",
    "L"
   ]
  },
  {
   "cell_type": "code",
   "execution_count": 27,
   "id": "1fe89bb0",
   "metadata": {},
   "outputs": [
    {
     "data": {
      "text/plain": [
       "28"
      ]
     },
     "execution_count": 27,
     "metadata": {},
     "output_type": "execute_result"
    }
   ],
   "source": [
    "functools.reduce(lambda x,y:x+y,L)"
   ]
  },
  {
   "cell_type": "code",
   "execution_count": 31,
   "id": "91e758d6",
   "metadata": {},
   "outputs": [
    {
     "data": {
      "text/plain": [
       "58"
      ]
     },
     "execution_count": 31,
     "metadata": {},
     "output_type": "execute_result"
    }
   ],
   "source": [
    "L1 =[12,34,56,11,21,58]\n",
    "functools.reduce(lambda x,y:x if x>y else y,L1)"
   ]
  },
  {
   "cell_type": "code",
   "execution_count": 32,
   "id": "e640591f",
   "metadata": {},
   "outputs": [
    {
     "data": {
      "text/plain": [
       "11"
      ]
     },
     "execution_count": 32,
     "metadata": {},
     "output_type": "execute_result"
    }
   ],
   "source": [
    "functools.reduce(lambda x,y:x if x<y else y,L1)"
   ]
  },
  {
   "cell_type": "code",
   "execution_count": 33,
   "id": "86492a18",
   "metadata": {},
   "outputs": [
    {
     "data": {
      "text/plain": [
       "[1, 2, 3, 4, 5, 6, 7]"
      ]
     },
     "execution_count": 33,
     "metadata": {},
     "output_type": "execute_result"
    }
   ],
   "source": [
    "L"
   ]
  },
  {
   "cell_type": "code",
   "execution_count": 34,
   "id": "138e9a11",
   "metadata": {},
   "outputs": [
    {
     "data": {
      "text/plain": [
       "[2, 4, 6, 8, 10, 12, 14]"
      ]
     },
     "execution_count": 34,
     "metadata": {},
     "output_type": "execute_result"
    }
   ],
   "source": [
    "L1 = [item * 2 for item in L]\n",
    "L1"
   ]
  },
  {
   "cell_type": "code",
   "execution_count": 35,
   "id": "4ffee964",
   "metadata": {},
   "outputs": [
    {
     "data": {
      "text/plain": [
       "[0, 1, 4, 9, 16, 25, 36, 49, 64, 81]"
      ]
     },
     "execution_count": 35,
     "metadata": {},
     "output_type": "execute_result"
    }
   ],
   "source": [
    "L2 = [i**2 for i in range(10)]\n",
    "L2"
   ]
  },
  {
   "cell_type": "code",
   "execution_count": 36,
   "id": "e9d4397e",
   "metadata": {},
   "outputs": [
    {
     "data": {
      "text/plain": [
       "[1, 9, 25, 49, 81]"
      ]
     },
     "execution_count": 36,
     "metadata": {},
     "output_type": "execute_result"
    }
   ],
   "source": [
    "L3 = [i**2 for i in range(10)if i % 2 != 0]\n",
    "L3"
   ]
  },
  {
   "cell_type": "code",
   "execution_count": 37,
   "id": "e121185d",
   "metadata": {},
   "outputs": [
    {
     "data": {
      "text/plain": [
       "['Apple', 'orange', 'mango', 'Guava']"
      ]
     },
     "execution_count": 37,
     "metadata": {},
     "output_type": "execute_result"
    }
   ],
   "source": [
    "fruits"
   ]
  },
  {
   "cell_type": "code",
   "execution_count": 40,
   "id": "5dea38b8",
   "metadata": {},
   "outputs": [
    {
     "data": {
      "text/plain": [
       "[]"
      ]
     },
     "execution_count": 40,
     "metadata": {},
     "output_type": "execute_result"
    }
   ],
   "source": [
    "L4 = [fruit for fruit in fruits if fruit[0]=='O']\n",
    "L4"
   ]
  },
  {
   "cell_type": "code",
   "execution_count": 46,
   "id": "15c7c4fa",
   "metadata": {},
   "outputs": [
    {
     "data": {
      "text/plain": [
       "{'Name': 'Vartika', 'Gender': 'Female'}"
      ]
     },
     "execution_count": 46,
     "metadata": {},
     "output_type": "execute_result"
    }
   ],
   "source": [
    "D = {'Name':'Vartika','Gender':'Female','Age':24}\n",
    "D.items\n",
    "\n",
    "D1 = {key:value for key,value in D.items()if len(key) >3}\n",
    "D1"
   ]
  },
  {
   "cell_type": "code",
   "execution_count": 47,
   "id": "5a044138",
   "metadata": {},
   "outputs": [
    {
     "data": {
      "text/plain": [
       "[1, 2, 3, 4, 5, 6, 7]"
      ]
     },
     "execution_count": 47,
     "metadata": {},
     "output_type": "execute_result"
    }
   ],
   "source": [
    "L"
   ]
  },
  {
   "cell_type": "markdown",
   "id": "5841d829",
   "metadata": {},
   "source": [
    "D2 = {it "
   ]
  }
 ],
 "metadata": {
  "kernelspec": {
   "display_name": "Python 3 (ipykernel)",
   "language": "python",
   "name": "python3"
  },
  "language_info": {
   "codemirror_mode": {
    "name": "ipython",
    "version": 3
   },
   "file_extension": ".py",
   "mimetype": "text/x-python",
   "name": "python",
   "nbconvert_exporter": "python",
   "pygments_lexer": "ipython3",
   "version": "3.9.7"
  }
 },
 "nbformat": 4,
 "nbformat_minor": 5
}

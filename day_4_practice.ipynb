{
 "cells": [
  {
   "cell_type": "code",
   "execution_count": 30,
   "id": "e6294c75",
   "metadata": {},
   "outputs": [
    {
     "name": "stdout",
     "output_type": "stream",
     "text": [
      "Enter your first number45\n",
      "Enter your second number67\n",
      "After swapping-\n",
      "value of a- 67 value of b- 45\n"
     ]
    }
   ],
   "source": [
    "a = input('Enter your first number')\n",
    "b = input('Enter your second number')\n",
    "a , b = b , a\n",
    "print('After swapping-')\n",
    "print('value of a-', a , 'value of b-', b)"
   ]
  },
  {
   "cell_type": "markdown",
   "id": "3273c7ec",
   "metadata": {},
   "source": [
    "# Head and Leg"
   ]
  },
  {
   "cell_type": "code",
   "execution_count": 50,
   "id": "ba28669c",
   "metadata": {},
   "outputs": [
    {
     "name": "stdout",
     "output_type": "stream",
     "text": [
      "Enter number of heads700\n",
      "Enter number of legs759\n",
      "Number of chicken- 1020.5\n",
      "Number of dog- -320.5\n",
      "Which is not possible\n"
     ]
    }
   ],
   "source": [
    "h = int(input('Enter number of heads'))\n",
    "l = int(input('Enter number of legs'))\n",
    "\n",
    "c = ('chicken')\n",
    "d = ('dog')\n",
    "\n",
    "\n",
    "\n",
    "if h <= l: \n",
    "    c = 2*h - (l/2)\n",
    "    print('Number of chicken-',c)\n",
    "    d = (l/2)-h\n",
    "    print('Number of dog-',d)\n",
    "    import sys\n",
    "    if (d < 0):\n",
    "        print('Which is not possible')\n",
    " \n",
    "else:\n",
    "    print('Not possible')\n",
    "   \n",
    "    \n",
    "     \n"
   ]
  },
  {
   "cell_type": "markdown",
   "id": "802c7b52",
   "metadata": {},
   "source": [
    "# Swap"
   ]
  },
  {
   "cell_type": "code",
   "execution_count": 33,
   "id": "5dc681b4",
   "metadata": {},
   "outputs": [
    {
     "name": "stdout",
     "output_type": "stream",
     "text": [
      "Enter your first number56\n",
      "Enter your second number89\n",
      "After swapping\n",
      "Your a becomes- 89\n",
      "Your b becomes- 56\n"
     ]
    }
   ],
   "source": [
    "a = int(input('Enter your first number'))\n",
    "b = int(input('Enter your second number'))\n",
    "\n",
    "a = a + b\n",
    "b = a - b\n",
    "a = a - b\n",
    "print('After swapping')\n",
    "print('Your a becomes-',a)\n",
    "print('Your b becomes-',b)"
   ]
  },
  {
   "cell_type": "code",
   "execution_count": null,
   "id": "3f2d2f7f",
   "metadata": {},
   "outputs": [],
   "source": []
  }
 ],
 "metadata": {
  "kernelspec": {
   "display_name": "Python 3 (ipykernel)",
   "language": "python",
   "name": "python3"
  },
  "language_info": {
   "codemirror_mode": {
    "name": "ipython",
    "version": 3
   },
   "file_extension": ".py",
   "mimetype": "text/x-python",
   "name": "python",
   "nbconvert_exporter": "python",
   "pygments_lexer": "ipython3",
   "version": "3.9.7"
  }
 },
 "nbformat": 4,
 "nbformat_minor": 5
}

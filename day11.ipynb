{
 "cells": [
  {
   "cell_type": "markdown",
   "id": "1fb7ac2b",
   "metadata": {},
   "source": [
    "# 1.Write a program to merge 2 list without using the + operator"
   ]
  },
  {
   "cell_type": "code",
   "execution_count": 12,
   "id": "e9efe19c",
   "metadata": {},
   "outputs": [
    {
     "name": "stdout",
     "output_type": "stream",
     "text": [
      "[1, 2, 3, 4, 5, 6, 7]\n"
     ]
    }
   ],
   "source": [
    "L1 = [1,2,3,4]\n",
    "L2 = [5,6,7]\n",
    "result = []\n",
    "\n",
    "for i in L1:\n",
    "    result.append(i)\n",
    "for j in L2:\n",
    "    result.append(j)\n",
    "print(result)\n",
    "\n"
   ]
  },
  {
   "cell_type": "markdown",
   "id": "c31557b6",
   "metadata": {},
   "source": [
    "# 2.Write a program to replace an item with a different item if found in the list \n"
   ]
  },
  {
   "cell_type": "code",
   "execution_count": 2,
   "id": "ecc0a5c6",
   "metadata": {},
   "outputs": [
    {
     "name": "stdout",
     "output_type": "stream",
     "text": [
      "Enter your number35\n",
      "Enter number to be replaced13\n",
      "[15, 13, 47, 28]\n"
     ]
    }
   ],
   "source": [
    "L = [15,35,47,28]\n",
    "find = int(input('Enter your number'))\n",
    "replace = int(input('Enter number to be replaced'))\n",
    "\n",
    "for i in range(0,len(L)):\n",
    "    if find == L[i]:\n",
    "        L[i] = replace\n",
    "        print(L)\n",
    "        \n",
    "        break\n",
    "else:\n",
    "    print('Not found')\n",
    "    "
   ]
  },
  {
   "cell_type": "markdown",
   "id": "cc19859f",
   "metadata": {},
   "source": [
    "# 3.Write a program that can convert a 2D list to 1D list\n"
   ]
  },
  {
   "cell_type": "code",
   "execution_count": 1,
   "id": "dbf6aa49",
   "metadata": {},
   "outputs": [
    {
     "name": "stdout",
     "output_type": "stream",
     "text": [
      "[1, 2, 3, 4, 5, 89, 90, 68]\n"
     ]
    }
   ],
   "source": [
    "L = [1,2,3,4,5,[89,90,68]]\n",
    "rev = []\n",
    "for i in L:\n",
    "    if type(i) == list:\n",
    "        rev.extend(i)\n",
    "    else:\n",
    "        rev.append(i)\n",
    "print(rev)\n",
    "\n",
    "\n",
    "\n",
    "\n",
    "\n",
    "\n",
    "\n"
   ]
  },
  {
   "cell_type": "markdown",
   "id": "ff831047",
   "metadata": {},
   "source": [
    "# 4.Write a program that can perform union and intersection on 2 given list. \n"
   ]
  },
  {
   "cell_type": "code",
   "execution_count": 50,
   "id": "53a45dbd",
   "metadata": {},
   "outputs": [
    {
     "name": "stdout",
     "output_type": "stream",
     "text": [
      "Your union is: [1, 2, 3, 4, 5, 6, 7]\n",
      "Your intersection is: [3, 4, 5]\n"
     ]
    }
   ],
   "source": [
    "L1 = [1,2,3,4,5]\n",
    "L2 = [3,4,5,6,7]\n",
    "union = []\n",
    "intersection = []\n",
    "#union\n",
    "for i in L1:\n",
    "    if i not in union:\n",
    "        union.append(i)\n",
    "for j in L2:\n",
    "    if j not in union:\n",
    "        union.append(j)\n",
    "\n",
    "        \n",
    "#intersection\n",
    "for i in L1:\n",
    "    if i in L2:\n",
    "        intersection.append(i)\n",
    "        \n",
    "        \n",
    "        \n",
    "print('Your union is:',union)\n",
    "print('Your intersection is:',intersection)"
   ]
  },
  {
   "cell_type": "markdown",
   "id": "9134d556",
   "metadata": {},
   "source": [
    "# 5.Write a program that can print the max item of each row of a matrix. \n"
   ]
  },
  {
   "cell_type": "code",
   "execution_count": 4,
   "id": "5be500f3",
   "metadata": {},
   "outputs": [
    {
     "name": "stdout",
     "output_type": "stream",
     "text": [
      "3\n",
      "6\n",
      "9\n"
     ]
    }
   ],
   "source": [
    "matrix = [\n",
    "    [1,2,3],\n",
    "    [4,5,6],\n",
    "    [7,8,9]\n",
    "    ]\n",
    "\n",
    "for i in matrix:\n",
    "    max = i[0]\n",
    "    for j in i:\n",
    "        if j > max:\n",
    "            max = j\n",
    "    print(max)"
   ]
  },
  {
   "cell_type": "markdown",
   "id": "31777762",
   "metadata": {},
   "source": [
    "# 6.Write a program that can convert an integer to string. \n"
   ]
  },
  {
   "cell_type": "code",
   "execution_count": null,
   "id": "9173e065",
   "metadata": {},
   "outputs": [],
   "source": []
  },
  {
   "cell_type": "markdown",
   "id": "db313f87",
   "metadata": {},
   "source": [
    "# 7.Write a program to print the shape of a matrix"
   ]
  },
  {
   "cell_type": "code",
   "execution_count": 11,
   "id": "ca63c98e",
   "metadata": {},
   "outputs": [
    {
     "name": "stdout",
     "output_type": "stream",
     "text": [
      "The shape of the matrix is: 2 * 2\n"
     ]
    }
   ],
   "source": [
    "matrix = [\n",
    "    [1,2],\n",
    "    [4,5]\n",
    "    ]\n",
    "\n",
    "rows = 0\n",
    "for i in matrix:\n",
    "    rows = rows + 1\n",
    "    \n",
    "print('The shape of the matrix is:',rows,'*',len(i))"
   ]
  },
  {
   "cell_type": "markdown",
   "id": "693c3151",
   "metadata": {},
   "source": [
    "# 8.Write a program that can check if you can perform matrix multiplication on 2 matrices "
   ]
  },
  {
   "cell_type": "code",
   "execution_count": 17,
   "id": "28b16d9e",
   "metadata": {},
   "outputs": [
    {
     "name": "stdout",
     "output_type": "stream",
     "text": [
      "Matrix_1: [1, 2, 3]\n",
      "Matrix_1: [4, 6, 8]\n",
      "Matrix_1: [2, 8, 0]\n",
      "Rows1: 3\n",
      "Column1: 3\n",
      "Matrix_2: [6, 9]\n",
      "Matrix_2: [7, 0]\n",
      "Matrix_2: [1, 3]\n",
      "Rows2: 3\n",
      "Column2: 2\n",
      "Multiplication can be performed\n",
      "Shape of the matrix is: 3 * 2\n"
     ]
    }
   ],
   "source": [
    "matrix_1 = [\n",
    "    [1,2,3],\n",
    "    [4,6,8],\n",
    "    [2,8,0]\n",
    "]\n",
    "\n",
    "rows_1 = 0\n",
    "for i in matrix_1:\n",
    "    rows_1 = rows_1 + 1\n",
    "    column_1 = len(i)\n",
    "    print('Matrix_1:',i)\n",
    "print('Rows1:',rows_1)\n",
    "print('Column1:',column_1)\n",
    "\n",
    "matrix_2 = [ \n",
    "    [6,9],\n",
    "    [7,0],\n",
    "    [1,3]\n",
    "]\n",
    "\n",
    "rows_2 = 0\n",
    "for j in matrix_2:\n",
    "    rows_2 = rows_2 + 1\n",
    "    column_2 = len(j)\n",
    "    print('Matrix_2:',j)\n",
    "print('Rows2:',rows_2)\n",
    "print('Column2:',column_2)\n",
    "\n",
    "if column_1 == rows_2:\n",
    "    print('Multiplication can be performed')\n",
    "    print('Shape of the matrix is:',rows_1, '*',column_2)\n",
    "else:\n",
    "    print('Not possible')\n",
    "\n",
    "    "
   ]
  },
  {
   "cell_type": "markdown",
   "id": "59f93f5a",
   "metadata": {},
   "source": [
    "# 9.Write a program to perform matrix multiplication on 2 matrices\n"
   ]
  },
  {
   "cell_type": "code",
   "execution_count": null,
   "id": "cbe6de7a",
   "metadata": {},
   "outputs": [],
   "source": []
  }
 ],
 "metadata": {
  "kernelspec": {
   "display_name": "Python 3 (ipykernel)",
   "language": "python",
   "name": "python3"
  },
  "language_info": {
   "codemirror_mode": {
    "name": "ipython",
    "version": 3
   },
   "file_extension": ".py",
   "mimetype": "text/x-python",
   "name": "python",
   "nbconvert_exporter": "python",
   "pygments_lexer": "ipython3",
   "version": "3.9.7"
  }
 },
 "nbformat": 4,
 "nbformat_minor": 5
}

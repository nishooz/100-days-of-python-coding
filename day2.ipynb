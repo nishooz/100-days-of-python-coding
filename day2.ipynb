{
 "cells": [
  {
   "cell_type": "markdown",
   "id": "7a7ecf49",
   "metadata": {},
   "source": [
    " 1.user input(3ages).\n",
    " find the oldest one\n",
    " \n"
   ]
  },
  {
   "cell_type": "markdown",
   "id": "5d9a8c8a",
   "metadata": {},
   "source": [
    "2.celcius to fahreinheit"
   ]
  },
  {
   "cell_type": "markdown",
   "id": "600c67cb",
   "metadata": {},
   "source": [
    "3.user input(2 no.).swap"
   ]
  },
  {
   "cell_type": "markdown",
   "id": "2ebff724",
   "metadata": {},
   "source": [
    "4.user will give 3 digit no.(addition)"
   ]
  },
  {
   "cell_type": "markdown",
   "id": "fa0f2865",
   "metadata": {},
   "source": [
    "5.4 digit no. reverse.check reverse is true"
   ]
  },
  {
   "cell_type": "markdown",
   "id": "3f06d447",
   "metadata": {},
   "source": [
    "6.odd even"
   ]
  },
  {
   "cell_type": "markdown",
   "id": "5caa70bc",
   "metadata": {},
   "source": [
    "7.leap year"
   ]
  },
  {
   "cell_type": "markdown",
   "id": "a78c921d",
   "metadata": {},
   "source": [
    "8.euclidean distance between two coordinates\n"
   ]
  },
  {
   "cell_type": "markdown",
   "id": "99cf6d53",
   "metadata": {},
   "source": [
    "9.user will give 3 angles.find whether it is a triangle"
   ]
  },
  {
   "cell_type": "markdown",
   "id": "714c2d1a",
   "metadata": {},
   "source": [
    "10.user will give the value of cp and sp.determine loss or profit"
   ]
  },
  {
   "cell_type": "markdown",
   "id": "21fe6c8f",
   "metadata": {},
   "source": [
    "# 1)oldest age"
   ]
  },
  {
   "cell_type": "code",
   "execution_count": 2,
   "id": "19f20f5f",
   "metadata": {},
   "outputs": [
    {
     "name": "stdout",
     "output_type": "stream",
     "text": [
      "Enter the first age89\n",
      "Enter the second age90\n",
      "Enter the third age688\n",
      "688\n"
     ]
    }
   ],
   "source": [
    "a = int(input('Enter the first age'))\n",
    "b = int(input('Enter the second age'))\n",
    "c = int(input('Enter the third age'))\n",
    "\n",
    "maxi = a\n",
    "if maxi < b:\n",
    "    maxi = b\n",
    "if maxi < c:\n",
    "    maxi = c\n",
    "    print(maxi)\n",
    "    "
   ]
  },
  {
   "cell_type": "markdown",
   "id": "945d9a01",
   "metadata": {},
   "source": [
    "# 2)temperature conversion"
   ]
  },
  {
   "cell_type": "code",
   "execution_count": null,
   "id": "65fae73e",
   "metadata": {},
   "outputs": [],
   "source": [
    "#user input(celsius)\n",
    "temp = float(input('Enter temperature in celsius'))\n",
    "#formula\n",
    "fahrenheit = (temp * 1.8)+32\n",
    "#print value\n",
    "\n",
    "print(fahrenheit)"
   ]
  },
  {
   "cell_type": "markdown",
   "id": "19850d9d",
   "metadata": {},
   "source": [
    "# 3)swap"
   ]
  },
  {
   "cell_type": "code",
   "execution_count": 6,
   "id": "7d18ba40",
   "metadata": {},
   "outputs": [
    {
     "name": "stdout",
     "output_type": "stream",
     "text": [
      "Enter your first number23\n",
      "Enter your second number89\n",
      "a =  89 b =  23\n"
     ]
    }
   ],
   "source": [
    "#user input\n",
    "a = input('Enter your first number')\n",
    "b = input('Enter your second number')\n",
    "temp = a\n",
    "a = b\n",
    "b = temp\n",
    "print('a = ',a,'b = ',b)\n"
   ]
  },
  {
   "cell_type": "markdown",
   "id": "1ebd636c",
   "metadata": {},
   "source": [
    "# 4) three digit conversion"
   ]
  },
  {
   "cell_type": "code",
   "execution_count": 4,
   "id": "e8f73c2f",
   "metadata": {},
   "outputs": [
    {
     "name": "stdout",
     "output_type": "stream",
     "text": [
      "Enter a three digit number532\n",
      "10\n"
     ]
    }
   ],
   "source": [
    "num = int(input('Enter a three digit number'))\n",
    "a = num % 10\n",
    "num = num // 10\n",
    "b = num % 10\n",
    "c = num // 10\n",
    "print(a + b + c)"
   ]
  },
  {
   "cell_type": "markdown",
   "id": "cb7589fd",
   "metadata": {},
   "source": [
    "# 5)four digit number reverse"
   ]
  },
  {
   "cell_type": "code",
   "execution_count": 14,
   "id": "849bc128",
   "metadata": {},
   "outputs": [
    {
     "name": "stdout",
     "output_type": "stream",
     "text": [
      "Enter a four digit number2345\n",
      "original num- 2345\n",
      "reverse num- 5432\n",
      "False\n"
     ]
    }
   ],
   "source": [
    "user_input = int(input('Enter a four digit number'))\n",
    "\n",
    "num = user_input\n",
    "\n",
    "a = num % 10\n",
    "num = num // 10\n",
    "b = num % 10\n",
    "num = num // 10\n",
    "c = num % 10\n",
    "d = num // 10\n",
    "\n",
    "rev = 1000*a + 100*b + 10*c + d\n",
    "\n",
    "print('original num-',user_input)\n",
    "print('reverse num-',rev)\n",
    "\n",
    "if user_input == rev:\n",
    "    print('True')\n",
    "else:\n",
    "    print('False')\n"
   ]
  },
  {
   "cell_type": "markdown",
   "id": "d724b899",
   "metadata": {},
   "source": [
    "# 6)even or odd"
   ]
  },
  {
   "cell_type": "code",
   "execution_count": 18,
   "id": "9f8ec90f",
   "metadata": {},
   "outputs": [
    {
     "name": "stdout",
     "output_type": "stream",
     "text": [
      "enter a number123456789\n",
      "odd\n"
     ]
    }
   ],
   "source": [
    "x = int(input('enter a number'))\n",
    "if x%2 == 0:\n",
    "    print('even')\n",
    "else:\n",
    "    print('odd')"
   ]
  },
  {
   "cell_type": "markdown",
   "id": "6409aa77",
   "metadata": {},
   "source": [
    "# 7)leap year"
   ]
  },
  {
   "cell_type": "code",
   "execution_count": 4,
   "id": "84f2860a",
   "metadata": {},
   "outputs": [
    {
     "name": "stdout",
     "output_type": "stream",
     "text": [
      "Enter the year2037\n",
      "not a leap year\n"
     ]
    }
   ],
   "source": [
    "year = int(input('Enter the year'))\n",
    "if year % 4 == 0:\n",
    "    print('leap year')\n",
    "else:\n",
    "    print('not a leap year')"
   ]
  },
  {
   "cell_type": "markdown",
   "id": "34974ed0",
   "metadata": {},
   "source": [
    "# 8)euclidean distance formula"
   ]
  },
  {
   "cell_type": "code",
   "execution_count": 2,
   "id": "92821d9c",
   "metadata": {},
   "outputs": [
    {
     "name": "stdout",
     "output_type": "stream",
     "text": [
      "Enter x of x coordinate3\n",
      "Enter y of y coordinate2\n",
      "Enter x of x coordinate4\n",
      "Enter y of y coordinate1\n",
      "1.4142135623730951\n"
     ]
    }
   ],
   "source": [
    "x1 = float(input('Enter x of x coordinate'))\n",
    "y1 = float(input('Enter y of y coordinate'))\n",
    "\n",
    "x2 = float(input('Enter x of x coordinate'))\n",
    "y2 = float(input('Enter y of y coordinate'))\n",
    "\n",
    "\n",
    "d = ((x2-x1)**2 + (y2-y1)**2)**0.5\n",
    "print(d)"
   ]
  },
  {
   "cell_type": "markdown",
   "id": "9ed87ea4",
   "metadata": {},
   "source": [
    "# 9)triangle"
   ]
  },
  {
   "cell_type": "code",
   "execution_count": null,
   "id": "f450b427",
   "metadata": {},
   "outputs": [],
   "source": [
    "a = float(input('Enter your first angle'))\n",
    "b = float(input('Enter yur second angle'))\n",
    "c = float(input('Enter your third angle'))\n",
    "if a + b + c == 180 and a != 0 and b != 0 and c != 0:\n",
    "    print('triangle')\n",
    "else:\n",
    "    print('not a triangle')"
   ]
  },
  {
   "cell_type": "markdown",
   "id": "1df09fae",
   "metadata": {},
   "source": [
    "# 10)cp sp"
   ]
  },
  {
   "cell_type": "code",
   "execution_count": 8,
   "id": "222032cf",
   "metadata": {},
   "outputs": [
    {
     "name": "stdout",
     "output_type": "stream",
     "text": [
      "Enter the cp90\n",
      "Enter the selling price70\n",
      "loss 20.0\n"
     ]
    }
   ],
   "source": [
    "cost_price = float(input('Enter the cp'))\n",
    "selling_price = float(input('Enter the selling price'))\n",
    "if cost_price > selling_price:\n",
    "    amount = cost_price - selling_price\n",
    "    print('loss',amount)\n",
    "else:\n",
    "    amount = selling_price - cost_price\n",
    "    print('profit',amount)\n"
   ]
  },
  {
   "cell_type": "code",
   "execution_count": 2,
   "id": "bea51836",
   "metadata": {},
   "outputs": [
    {
     "name": "stdout",
     "output_type": "stream",
     "text": [
      "Enter your four digit number1234\n",
      "original num- 1234\n",
      "reverse num- 4321\n",
      "False\n"
     ]
    }
   ],
   "source": [
    "#user input\n",
    "user_input = int(input('Enter your four digit number'))\n",
    "num = user_input\n",
    "#digits\n",
    "\n",
    "a = num % 10\n",
    "num = num //10\n",
    "\n",
    "b = num % 10\n",
    "num = num //10\n",
    "\n",
    "c = num % 10\n",
    "d = num // 10\n",
    "\n",
    "# formula\n",
    "rev = 1000*a + 100*b + 10*c + d\n",
    "print('original num-',user_input)\n",
    "print('reverse num-',rev)\n",
    "\n",
    "\n",
    "#check\n",
    "if user_input == rev:\n",
    "    print('True')\n",
    "else:\n",
    "    print('False')"
   ]
  },
  {
   "cell_type": "code",
   "execution_count": null,
   "id": "6776f940",
   "metadata": {},
   "outputs": [],
   "source": []
  },
  {
   "cell_type": "code",
   "execution_count": null,
   "id": "f65b8677",
   "metadata": {},
   "outputs": [],
   "source": []
  }
 ],
 "metadata": {
  "kernelspec": {
   "display_name": "Python 3 (ipykernel)",
   "language": "python",
   "name": "python3"
  },
  "language_info": {
   "codemirror_mode": {
    "name": "ipython",
    "version": 3
   },
   "file_extension": ".py",
   "mimetype": "text/x-python",
   "name": "python",
   "nbconvert_exporter": "python",
   "pygments_lexer": "ipython3",
   "version": "3.9.7"
  }
 },
 "nbformat": 4,
 "nbformat_minor": 5
}

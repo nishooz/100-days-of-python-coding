{
 "cells": [
  {
   "cell_type": "markdown",
   "id": "18bc6c24",
   "metadata": {},
   "source": [
    "### 1.Variable and memory references"
   ]
  },
  {
   "cell_type": "markdown",
   "id": "9f283fc5",
   "metadata": {},
   "source": [
    "There are two components in a register:\n",
    "1) Storage location\n",
    "2) Memory address(which is continuous)"
   ]
  },
  {
   "cell_type": "markdown",
   "id": "4212ab69",
   "metadata": {},
   "source": [
    "- Memory address is shown in hexadecimal."
   ]
  },
  {
   "cell_type": "markdown",
   "id": "1cb7617b",
   "metadata": {},
   "source": [
    "- Variable is known as name in python"
   ]
  },
  {
   "cell_type": "code",
   "execution_count": 1,
   "id": "3353bb18",
   "metadata": {},
   "outputs": [
    {
     "ename": "NameError",
     "evalue": "name 'a' is not defined",
     "output_type": "error",
     "traceback": [
      "\u001b[1;31m---------------------------------------------------------------------------\u001b[0m",
      "\u001b[1;31mNameError\u001b[0m                                 Traceback (most recent call last)",
      "\u001b[1;32mC:\\Users\\VARTIK~1\\AppData\\Local\\Temp/ipykernel_10460/2167009006.py\u001b[0m in \u001b[0;36m<module>\u001b[1;34m\u001b[0m\n\u001b[1;32m----> 1\u001b[1;33m \u001b[0ma\u001b[0m\u001b[1;33m\u001b[0m\u001b[1;33m\u001b[0m\u001b[0m\n\u001b[0m",
      "\u001b[1;31mNameError\u001b[0m: name 'a' is not defined"
     ]
    }
   ],
   "source": [
    "a"
   ]
  },
  {
   "cell_type": "code",
   "execution_count": 2,
   "id": "cb4e7354",
   "metadata": {},
   "outputs": [
    {
     "data": {
      "text/plain": [
       "1873031227792"
      ]
     },
     "execution_count": 2,
     "metadata": {},
     "output_type": "execute_result"
    }
   ],
   "source": [
    "a = 4\n",
    "id(a)"
   ]
  },
  {
   "cell_type": "code",
   "execution_count": 4,
   "id": "c89e70d3",
   "metadata": {},
   "outputs": [
    {
     "data": {
      "text/plain": [
       "'0x1b4195c6990'"
      ]
     },
     "execution_count": 4,
     "metadata": {},
     "output_type": "execute_result"
    }
   ],
   "source": [
    "hex(1873031227792)"
   ]
  },
  {
   "cell_type": "code",
   "execution_count": 5,
   "id": "1208d83a",
   "metadata": {},
   "outputs": [
    {
     "data": {
      "text/plain": [
       "1873031227792"
      ]
     },
     "execution_count": 5,
     "metadata": {},
     "output_type": "execute_result"
    }
   ],
   "source": [
    "id(4)"
   ]
  },
  {
   "cell_type": "markdown",
   "id": "a2d66605",
   "metadata": {},
   "source": [
    "- Call by object reference is when name is pointing towards to the value saved in memory address."
   ]
  },
  {
   "cell_type": "markdown",
   "id": "3400de27",
   "metadata": {},
   "source": [
    "### 2.Aliasing"
   ]
  },
  {
   "cell_type": "code",
   "execution_count": 8,
   "id": "71c0cf02",
   "metadata": {},
   "outputs": [
    {
     "data": {
      "text/plain": [
       "1873031227824"
      ]
     },
     "execution_count": 8,
     "metadata": {},
     "output_type": "execute_result"
    }
   ],
   "source": [
    "a = 5\n",
    "b = a\n",
    "id(a)"
   ]
  },
  {
   "cell_type": "code",
   "execution_count": 7,
   "id": "8dc33428",
   "metadata": {},
   "outputs": [
    {
     "data": {
      "text/plain": [
       "1873031227824"
      ]
     },
     "execution_count": 7,
     "metadata": {},
     "output_type": "execute_result"
    }
   ],
   "source": [
    "id(b)"
   ]
  },
  {
   "cell_type": "code",
   "execution_count": 9,
   "id": "912084a2",
   "metadata": {},
   "outputs": [
    {
     "data": {
      "text/plain": [
       "1873031227824"
      ]
     },
     "execution_count": 9,
     "metadata": {},
     "output_type": "execute_result"
    }
   ],
   "source": [
    "c = b\n",
    "id(c)"
   ]
  },
  {
   "cell_type": "code",
   "execution_count": 10,
   "id": "cad1a1bd",
   "metadata": {},
   "outputs": [],
   "source": [
    "del a"
   ]
  },
  {
   "cell_type": "code",
   "execution_count": 11,
   "id": "df35d408",
   "metadata": {},
   "outputs": [
    {
     "ename": "NameError",
     "evalue": "name 'a' is not defined",
     "output_type": "error",
     "traceback": [
      "\u001b[1;31m---------------------------------------------------------------------------\u001b[0m",
      "\u001b[1;31mNameError\u001b[0m                                 Traceback (most recent call last)",
      "\u001b[1;32mC:\\Users\\VARTIK~1\\AppData\\Local\\Temp/ipykernel_10460/56049622.py\u001b[0m in \u001b[0;36m<module>\u001b[1;34m\u001b[0m\n\u001b[1;32m----> 1\u001b[1;33m \u001b[0mid\u001b[0m\u001b[1;33m(\u001b[0m\u001b[0ma\u001b[0m\u001b[1;33m)\u001b[0m\u001b[1;33m\u001b[0m\u001b[1;33m\u001b[0m\u001b[0m\n\u001b[0m",
      "\u001b[1;31mNameError\u001b[0m: name 'a' is not defined"
     ]
    }
   ],
   "source": [
    "id(a)"
   ]
  },
  {
   "cell_type": "code",
   "execution_count": 12,
   "id": "4e9f7ac3",
   "metadata": {},
   "outputs": [
    {
     "name": "stdout",
     "output_type": "stream",
     "text": [
      "5\n"
     ]
    }
   ],
   "source": [
    "print(b)"
   ]
  },
  {
   "cell_type": "code",
   "execution_count": 13,
   "id": "f0d4784c",
   "metadata": {},
   "outputs": [],
   "source": [
    "del b"
   ]
  },
  {
   "cell_type": "code",
   "execution_count": 14,
   "id": "8de7e203",
   "metadata": {},
   "outputs": [
    {
     "name": "stdout",
     "output_type": "stream",
     "text": [
      "5\n"
     ]
    }
   ],
   "source": [
    "print(c)"
   ]
  },
  {
   "cell_type": "code",
   "execution_count": 16,
   "id": "9dad53a4",
   "metadata": {},
   "outputs": [
    {
     "name": "stdout",
     "output_type": "stream",
     "text": [
      "5\n"
     ]
    }
   ],
   "source": [
    "a = 5\n",
    "b = a\n",
    "a = 6\n",
    "print(b)"
   ]
  },
  {
   "cell_type": "markdown",
   "id": "04ef618a",
   "metadata": {},
   "source": [
    "### 3.Reference counting\n"
   ]
  },
  {
   "cell_type": "markdown",
   "id": "275dcb4b",
   "metadata": {},
   "source": [
    "- To count the number of variables pointing towards the memory,Reference counting is used."
   ]
  },
  {
   "cell_type": "code",
   "execution_count": 17,
   "id": "78569363",
   "metadata": {},
   "outputs": [],
   "source": [
    "import sys"
   ]
  },
  {
   "cell_type": "code",
   "execution_count": 18,
   "id": "858ed39f",
   "metadata": {},
   "outputs": [
    {
     "data": {
      "text/plain": [
       "1873112442992"
      ]
     },
     "execution_count": 18,
     "metadata": {},
     "output_type": "execute_result"
    }
   ],
   "source": [
    "a = 'corona'\n",
    "b = a\n",
    "c = b\n",
    "id(a)"
   ]
  },
  {
   "cell_type": "code",
   "execution_count": 19,
   "id": "8c1fbafb",
   "metadata": {},
   "outputs": [
    {
     "data": {
      "text/plain": [
       "1873112442992"
      ]
     },
     "execution_count": 19,
     "metadata": {},
     "output_type": "execute_result"
    }
   ],
   "source": [
    "id(b)"
   ]
  },
  {
   "cell_type": "code",
   "execution_count": 20,
   "id": "8ed4dc11",
   "metadata": {},
   "outputs": [
    {
     "data": {
      "text/plain": [
       "1873112442992"
      ]
     },
     "execution_count": 20,
     "metadata": {},
     "output_type": "execute_result"
    }
   ],
   "source": [
    "id(c)"
   ]
  },
  {
   "cell_type": "code",
   "execution_count": 21,
   "id": "e081da38",
   "metadata": {},
   "outputs": [
    {
     "data": {
      "text/plain": [
       "4"
      ]
     },
     "execution_count": 21,
     "metadata": {},
     "output_type": "execute_result"
    }
   ],
   "source": [
    "sys.getrefcount(a)"
   ]
  },
  {
   "cell_type": "markdown",
   "id": "13dcbf19",
   "metadata": {},
   "source": [
    "- The total number of reference count is total variable pointing towards the memory + 1(because while checking it also points towards the memory address)"
   ]
  },
  {
   "cell_type": "code",
   "execution_count": 26,
   "id": "4001b5bb",
   "metadata": {},
   "outputs": [
    {
     "data": {
      "text/plain": [
       "5"
      ]
     },
     "execution_count": 26,
     "metadata": {},
     "output_type": "execute_result"
    }
   ],
   "source": [
    "a = 'vartika'\n",
    "b = a\n",
    "c = b\n",
    "sys.getrefcount(a)"
   ]
  },
  {
   "cell_type": "markdown",
   "id": "59db481a",
   "metadata": {},
   "source": [
    "### 4.Garbage collection"
   ]
  },
  {
   "cell_type": "markdown",
   "id": "73d4efbf",
   "metadata": {},
   "source": [
    "- Python doesn't provide the feature of deleting anything from the memory address.It checks whether any variable is pointing towards the memory.The inbuilt program of python called Garbage Collector,checks periodically, whether any variable is pointing towards the memory.If unused,it free ups  the space for further computation.This process is known as Garbage collection."
   ]
  },
  {
   "cell_type": "markdown",
   "id": "76687402",
   "metadata": {},
   "source": [
    "### 5.Weird behaviours of Python"
   ]
  },
  {
   "cell_type": "markdown",
   "id": "9200a8df",
   "metadata": {},
   "source": [
    "##### WB 1."
   ]
  },
  {
   "cell_type": "code",
   "execution_count": 27,
   "id": "4aa54022",
   "metadata": {},
   "outputs": [
    {
     "data": {
      "text/plain": [
       "1677"
      ]
     },
     "execution_count": 27,
     "metadata": {},
     "output_type": "execute_result"
    }
   ],
   "source": [
    "a = 2\n",
    "b = a\n",
    "c = b\n",
    "sys.getrefcount(a)"
   ]
  },
  {
   "cell_type": "markdown",
   "id": "48d94fd5",
   "metadata": {},
   "source": [
    "- There are 1677 extra variables pointing towards the memory address."
   ]
  },
  {
   "cell_type": "code",
   "execution_count": 31,
   "id": "dbbc60a5",
   "metadata": {},
   "outputs": [
    {
     "data": {
      "text/plain": [
       "6"
      ]
     },
     "execution_count": 31,
     "metadata": {},
     "output_type": "execute_result"
    }
   ],
   "source": [
    "a = 5354\n",
    "b = a  \n",
    "c = b\n",
    "d = c\n",
    "sys.getrefcount(a)"
   ]
  },
  {
   "cell_type": "code",
   "execution_count": 32,
   "id": "21a75d08",
   "metadata": {},
   "outputs": [
    {
     "data": {
      "text/plain": [
       "5"
      ]
     },
     "execution_count": 32,
     "metadata": {},
     "output_type": "execute_result"
    }
   ],
   "source": [
    "d = c\n",
    "sys.getrefcount(a)"
   ]
  },
  {
   "cell_type": "code",
   "execution_count": 33,
   "id": "00dce67e",
   "metadata": {},
   "outputs": [
    {
     "data": {
      "text/plain": [
       "1873031227792"
      ]
     },
     "execution_count": 33,
     "metadata": {},
     "output_type": "execute_result"
    }
   ],
   "source": [
    "a = 4\n",
    "b = 4\n",
    "id(a)"
   ]
  },
  {
   "cell_type": "code",
   "execution_count": 34,
   "id": "a226b818",
   "metadata": {},
   "outputs": [
    {
     "data": {
      "text/plain": [
       "1873031227792"
      ]
     },
     "execution_count": 34,
     "metadata": {},
     "output_type": "execute_result"
    }
   ],
   "source": [
    "id(b)"
   ]
  },
  {
   "cell_type": "markdown",
   "id": "00a78368",
   "metadata": {},
   "source": [
    "##### WB 2."
   ]
  },
  {
   "cell_type": "markdown",
   "id": "1f62dd22",
   "metadata": {},
   "source": [
    "a = 257\n",
    "b = 257\n",
    "id(a)\n",
    "id(b)"
   ]
  },
  {
   "cell_type": "code",
   "execution_count": 36,
   "id": "98d299ce",
   "metadata": {},
   "outputs": [
    {
     "data": {
      "text/plain": [
       "1873112358128"
      ]
     },
     "execution_count": 36,
     "metadata": {},
     "output_type": "execute_result"
    }
   ],
   "source": [
    "id(a)"
   ]
  },
  {
   "cell_type": "code",
   "execution_count": 37,
   "id": "57263f3b",
   "metadata": {},
   "outputs": [
    {
     "data": {
      "text/plain": [
       "1873112357072"
      ]
     },
     "execution_count": 37,
     "metadata": {},
     "output_type": "execute_result"
    }
   ],
   "source": [
    "id(b)"
   ]
  },
  {
   "cell_type": "code",
   "execution_count": 40,
   "id": "aa80625a",
   "metadata": {},
   "outputs": [
    {
     "data": {
      "text/plain": [
       "1873112358192"
      ]
     },
     "execution_count": 40,
     "metadata": {},
     "output_type": "execute_result"
    }
   ],
   "source": [
    "a = -6\n",
    "id(a)"
   ]
  },
  {
   "cell_type": "code",
   "execution_count": 41,
   "id": "94fe843e",
   "metadata": {},
   "outputs": [
    {
     "data": {
      "text/plain": [
       "1873112356976"
      ]
     },
     "execution_count": 41,
     "metadata": {},
     "output_type": "execute_result"
    }
   ],
   "source": [
    "b = -6\n",
    "id(b)"
   ]
  },
  {
   "cell_type": "code",
   "execution_count": 43,
   "id": "442641bc",
   "metadata": {},
   "outputs": [],
   "source": [
    "# <-5 to 256< (different ids are generated)\n",
    "# this is known as software optimisation.The numbers in this range is used often"
   ]
  },
  {
   "cell_type": "markdown",
   "id": "4d88a595",
   "metadata": {},
   "source": [
    "##### WB3."
   ]
  },
  {
   "cell_type": "code",
   "execution_count": 45,
   "id": "d7a567de",
   "metadata": {},
   "outputs": [
    {
     "data": {
      "text/plain": [
       "1873113240816"
      ]
     },
     "execution_count": 45,
     "metadata": {},
     "output_type": "execute_result"
    }
   ],
   "source": [
    "a = 'haldia'\n",
    "id(a)"
   ]
  },
  {
   "cell_type": "code",
   "execution_count": 46,
   "id": "3bd68bc8",
   "metadata": {},
   "outputs": [
    {
     "data": {
      "text/plain": [
       "1873113240816"
      ]
     },
     "execution_count": 46,
     "metadata": {},
     "output_type": "execute_result"
    }
   ],
   "source": [
    "b = 'haldia'\n",
    "id(b)"
   ]
  },
  {
   "cell_type": "code",
   "execution_count": 47,
   "id": "da4742e4",
   "metadata": {},
   "outputs": [
    {
     "data": {
      "text/plain": [
       "1873113218064"
      ]
     },
     "execution_count": 47,
     "metadata": {},
     "output_type": "execute_result"
    }
   ],
   "source": [
    "a = 'haldia inst tech'\n",
    "id(a)"
   ]
  },
  {
   "cell_type": "code",
   "execution_count": 48,
   "id": "1d4fbd47",
   "metadata": {},
   "outputs": [
    {
     "data": {
      "text/plain": [
       "1873113256944"
      ]
     },
     "execution_count": 48,
     "metadata": {},
     "output_type": "execute_result"
    }
   ],
   "source": [
    "b = 'haldia inst tech'\n",
    "id(b)"
   ]
  },
  {
   "cell_type": "code",
   "execution_count": 49,
   "id": "721fc969",
   "metadata": {},
   "outputs": [
    {
     "data": {
      "text/plain": [
       "1873113256384"
      ]
     },
     "execution_count": 49,
     "metadata": {},
     "output_type": "execute_result"
    }
   ],
   "source": [
    "a = 'haldia_inst_tech'\n",
    "id(a)"
   ]
  },
  {
   "cell_type": "code",
   "execution_count": 50,
   "id": "4f0cbcbf",
   "metadata": {},
   "outputs": [
    {
     "data": {
      "text/plain": [
       "1873113256384"
      ]
     },
     "execution_count": 50,
     "metadata": {},
     "output_type": "execute_result"
    }
   ],
   "source": [
    "b = 'haldia_inst_tech'\n",
    "id(b)"
   ]
  },
  {
   "cell_type": "code",
   "execution_count": 51,
   "id": "3a7aa186",
   "metadata": {},
   "outputs": [],
   "source": [
    "# string should be valid identifier(shouldn't start with number and shouldn't have space)"
   ]
  },
  {
   "cell_type": "code",
   "execution_count": 52,
   "id": "f040f65c",
   "metadata": {},
   "outputs": [],
   "source": [
    "# valid identifier same identities\n"
   ]
  },
  {
   "cell_type": "markdown",
   "id": "d5889279",
   "metadata": {},
   "source": [
    "### 6.Mutability"
   ]
  },
  {
   "cell_type": "code",
   "execution_count": 53,
   "id": "e6642545",
   "metadata": {},
   "outputs": [
    {
     "data": {
      "text/plain": [
       "1873113241216"
      ]
     },
     "execution_count": 53,
     "metadata": {},
     "output_type": "execute_result"
    }
   ],
   "source": [
    "L = [1,2,3]\n",
    "id(L)"
   ]
  },
  {
   "cell_type": "code",
   "execution_count": 54,
   "id": "54496f12",
   "metadata": {},
   "outputs": [
    {
     "data": {
      "text/plain": [
       "1873031227696"
      ]
     },
     "execution_count": 54,
     "metadata": {},
     "output_type": "execute_result"
    }
   ],
   "source": [
    "id(1)"
   ]
  },
  {
   "cell_type": "code",
   "execution_count": 55,
   "id": "1722c61c",
   "metadata": {},
   "outputs": [
    {
     "data": {
      "text/plain": [
       "1873031227696"
      ]
     },
     "execution_count": 55,
     "metadata": {},
     "output_type": "execute_result"
    }
   ],
   "source": [
    "id(L[0])"
   ]
  },
  {
   "cell_type": "code",
   "execution_count": 56,
   "id": "0d588293",
   "metadata": {},
   "outputs": [
    {
     "name": "stdout",
     "output_type": "stream",
     "text": [
      "[1, 2, 1]\n"
     ]
    }
   ],
   "source": [
    "L[2] = 1\n",
    "print(L)"
   ]
  },
  {
   "cell_type": "code",
   "execution_count": 57,
   "id": "7102a1c4",
   "metadata": {},
   "outputs": [
    {
     "data": {
      "text/plain": [
       "1873031227696"
      ]
     },
     "execution_count": 57,
     "metadata": {},
     "output_type": "execute_result"
    }
   ],
   "source": [
    "id(L[2])"
   ]
  },
  {
   "cell_type": "markdown",
   "id": "09bd6940",
   "metadata": {},
   "source": [
    "- Mutability refers to the ability to change or edit data in it's memory location"
   ]
  },
  {
   "cell_type": "markdown",
   "id": "44bf6156",
   "metadata": {},
   "source": [
    "- Mutability depends on the datatype\n"
   ]
  },
  {
   "cell_type": "code",
   "execution_count": 58,
   "id": "c8598a08",
   "metadata": {},
   "outputs": [
    {
     "data": {
      "text/plain": [
       "1873112384880"
      ]
     },
     "execution_count": 58,
     "metadata": {},
     "output_type": "execute_result"
    }
   ],
   "source": [
    "a = 'Hello'\n",
    "id(a)"
   ]
  },
  {
   "cell_type": "code",
   "execution_count": 2,
   "id": "2ee873f8",
   "metadata": {},
   "outputs": [
    {
     "name": "stdout",
     "output_type": "stream",
     "text": [
      "HelloWorld\n"
     ]
    }
   ],
   "source": [
    "a = 'Hello'\n",
    "a =a +'World'\n",
    "print(a)"
   ]
  },
  {
   "cell_type": "code",
   "execution_count": 3,
   "id": "bee816eb",
   "metadata": {},
   "outputs": [
    {
     "data": {
      "text/plain": [
       "1905531528240"
      ]
     },
     "execution_count": 3,
     "metadata": {},
     "output_type": "execute_result"
    }
   ],
   "source": [
    "id(a)"
   ]
  },
  {
   "cell_type": "code",
   "execution_count": 4,
   "id": "365e0f7f",
   "metadata": {},
   "outputs": [
    {
     "data": {
      "text/plain": [
       "1905526154240"
      ]
     },
     "execution_count": 4,
     "metadata": {},
     "output_type": "execute_result"
    }
   ],
   "source": [
    "T = (1,2,3)\n",
    "id(T)"
   ]
  },
  {
   "cell_type": "code",
   "execution_count": 5,
   "id": "e554b4dd",
   "metadata": {},
   "outputs": [
    {
     "name": "stdout",
     "output_type": "stream",
     "text": [
      "(1, 2, 3, 5, 6)\n"
     ]
    }
   ],
   "source": [
    "T = T + (5,6)\n",
    "print(T)"
   ]
  },
  {
   "cell_type": "code",
   "execution_count": 6,
   "id": "bb8401e3",
   "metadata": {},
   "outputs": [
    {
     "data": {
      "text/plain": [
       "1905530537360"
      ]
     },
     "execution_count": 6,
     "metadata": {},
     "output_type": "execute_result"
    }
   ],
   "source": [
    "id(T)"
   ]
  },
  {
   "cell_type": "code",
   "execution_count": 7,
   "id": "19a1c415",
   "metadata": {},
   "outputs": [
    {
     "data": {
      "text/plain": [
       "1905531579136"
      ]
     },
     "execution_count": 7,
     "metadata": {},
     "output_type": "execute_result"
    }
   ],
   "source": [
    "L = [1,2,3]\n",
    "id(L)"
   ]
  },
  {
   "cell_type": "code",
   "execution_count": 8,
   "id": "53e3aadf",
   "metadata": {},
   "outputs": [
    {
     "name": "stdout",
     "output_type": "stream",
     "text": [
      "[1, 2, 3, 4]\n"
     ]
    }
   ],
   "source": [
    "L.append(4)\n",
    "print(L)"
   ]
  },
  {
   "cell_type": "code",
   "execution_count": 9,
   "id": "517ca2ff",
   "metadata": {},
   "outputs": [
    {
     "data": {
      "text/plain": [
       "1905531579136"
      ]
     },
     "execution_count": 9,
     "metadata": {},
     "output_type": "execute_result"
    }
   ],
   "source": [
    "id(L)"
   ]
  },
  {
   "cell_type": "code",
   "execution_count": 10,
   "id": "2641704f",
   "metadata": {},
   "outputs": [],
   "source": [
    "# Side effects of mutability"
   ]
  },
  {
   "cell_type": "code",
   "execution_count": 18,
   "id": "7e4e32ed",
   "metadata": {},
   "outputs": [
    {
     "name": "stdout",
     "output_type": "stream",
     "text": [
      "[1, 2, 3]\n",
      "[1, 2, 3]\n"
     ]
    }
   ],
   "source": [
    "L = [1,2,3]\n",
    "L1 = L\n",
    "print(L)\n",
    "print(L1)"
   ]
  },
  {
   "cell_type": "code",
   "execution_count": 19,
   "id": "ef60b080",
   "metadata": {},
   "outputs": [
    {
     "data": {
      "text/plain": [
       "1905531555328"
      ]
     },
     "execution_count": 19,
     "metadata": {},
     "output_type": "execute_result"
    }
   ],
   "source": [
    "id(L)"
   ]
  },
  {
   "cell_type": "code",
   "execution_count": 20,
   "id": "f993d883",
   "metadata": {},
   "outputs": [
    {
     "data": {
      "text/plain": [
       "1905531555328"
      ]
     },
     "execution_count": 20,
     "metadata": {},
     "output_type": "execute_result"
    }
   ],
   "source": [
    "id(L1)"
   ]
  },
  {
   "cell_type": "code",
   "execution_count": 21,
   "id": "99009ea4",
   "metadata": {},
   "outputs": [
    {
     "name": "stdout",
     "output_type": "stream",
     "text": [
      "[1, 2, 3, 4]\n"
     ]
    }
   ],
   "source": [
    "L1.append(4)\n",
    "print(L1)"
   ]
  },
  {
   "cell_type": "code",
   "execution_count": 22,
   "id": "297d294d",
   "metadata": {},
   "outputs": [
    {
     "data": {
      "text/plain": [
       "1905531555328"
      ]
     },
     "execution_count": 22,
     "metadata": {},
     "output_type": "execute_result"
    }
   ],
   "source": [
    "id(L1)"
   ]
  },
  {
   "cell_type": "code",
   "execution_count": 23,
   "id": "265c94e9",
   "metadata": {},
   "outputs": [
    {
     "data": {
      "text/plain": [
       "1905531561472"
      ]
     },
     "execution_count": 23,
     "metadata": {},
     "output_type": "execute_result"
    }
   ],
   "source": [
    "L1 = L[:]\n",
    "id(L1)"
   ]
  },
  {
   "cell_type": "code",
   "execution_count": 24,
   "id": "5055e6ed",
   "metadata": {},
   "outputs": [
    {
     "data": {
      "text/plain": [
       "1905531555328"
      ]
     },
     "execution_count": 24,
     "metadata": {},
     "output_type": "execute_result"
    }
   ],
   "source": [
    "id(L)"
   ]
  },
  {
   "cell_type": "code",
   "execution_count": 25,
   "id": "7a6e5a86",
   "metadata": {},
   "outputs": [],
   "source": [
    "# This is known as cloning"
   ]
  },
  {
   "cell_type": "code",
   "execution_count": 26,
   "id": "da2b3d48",
   "metadata": {},
   "outputs": [
    {
     "name": "stdout",
     "output_type": "stream",
     "text": [
      "((1, 2, 3), [4, 5])\n"
     ]
    }
   ],
   "source": [
    "a = (1,2,3),[4,5]\n",
    "print(a)"
   ]
  },
  {
   "cell_type": "code",
   "execution_count": 28,
   "id": "353ca5b3",
   "metadata": {},
   "outputs": [
    {
     "name": "stdout",
     "output_type": "stream",
     "text": [
      "((1, 2, 3), [4, 500])\n"
     ]
    }
   ],
   "source": [
    "a[-1][-1] = 500\n",
    "print(a)"
   ]
  },
  {
   "cell_type": "code",
   "execution_count": 29,
   "id": "f9303ec3",
   "metadata": {},
   "outputs": [
    {
     "ename": "TypeError",
     "evalue": "'tuple' object does not support item assignment",
     "output_type": "error",
     "traceback": [
      "\u001b[1;31m---------------------------------------------------------------------------\u001b[0m",
      "\u001b[1;31mTypeError\u001b[0m                                 Traceback (most recent call last)",
      "\u001b[1;32mC:\\Users\\VARTIK~1\\AppData\\Local\\Temp/ipykernel_12164/4159201116.py\u001b[0m in \u001b[0;36m<module>\u001b[1;34m\u001b[0m\n\u001b[0;32m      1\u001b[0m \u001b[0ma\u001b[0m \u001b[1;33m=\u001b[0m \u001b[1;33m[\u001b[0m\u001b[1;36m1\u001b[0m\u001b[1;33m,\u001b[0m\u001b[1;36m2\u001b[0m\u001b[1;33m,\u001b[0m\u001b[1;36m3\u001b[0m\u001b[1;33m,\u001b[0m\u001b[1;33m(\u001b[0m\u001b[1;36m4\u001b[0m\u001b[1;33m,\u001b[0m\u001b[1;36m5\u001b[0m\u001b[1;33m)\u001b[0m\u001b[1;33m]\u001b[0m\u001b[1;33m\u001b[0m\u001b[1;33m\u001b[0m\u001b[0m\n\u001b[1;32m----> 2\u001b[1;33m \u001b[0ma\u001b[0m\u001b[1;33m[\u001b[0m\u001b[1;33m-\u001b[0m\u001b[1;36m1\u001b[0m\u001b[1;33m]\u001b[0m\u001b[1;33m[\u001b[0m\u001b[1;33m-\u001b[0m\u001b[1;36m1\u001b[0m\u001b[1;33m]\u001b[0m \u001b[1;33m=\u001b[0m \u001b[1;36m500\u001b[0m\u001b[1;33m\u001b[0m\u001b[1;33m\u001b[0m\u001b[0m\n\u001b[0m",
      "\u001b[1;31mTypeError\u001b[0m: 'tuple' object does not support item assignment"
     ]
    }
   ],
   "source": [
    "a = [1,2,3,(4,5)]\n",
    "a[-1][-1] = 500"
   ]
  },
  {
   "cell_type": "code",
   "execution_count": 30,
   "id": "2c2be2bc",
   "metadata": {},
   "outputs": [
    {
     "data": {
      "text/plain": [
       "1905531579136"
      ]
     },
     "execution_count": 30,
     "metadata": {},
     "output_type": "execute_result"
    }
   ],
   "source": [
    "a = [1,2]\n",
    "b = [3,4]\n",
    "c = (a,b)\n",
    "id(a)"
   ]
  },
  {
   "cell_type": "code",
   "execution_count": 31,
   "id": "ada49b65",
   "metadata": {},
   "outputs": [
    {
     "data": {
      "text/plain": [
       "1905532372864"
      ]
     },
     "execution_count": 31,
     "metadata": {},
     "output_type": "execute_result"
    }
   ],
   "source": [
    "id(b)"
   ]
  },
  {
   "cell_type": "code",
   "execution_count": 32,
   "id": "677613bf",
   "metadata": {},
   "outputs": [
    {
     "data": {
      "text/plain": [
       "1905530391808"
      ]
     },
     "execution_count": 32,
     "metadata": {},
     "output_type": "execute_result"
    }
   ],
   "source": [
    "id(c)"
   ]
  },
  {
   "cell_type": "code",
   "execution_count": 35,
   "id": "0e8f7b1e",
   "metadata": {},
   "outputs": [
    {
     "name": "stdout",
     "output_type": "stream",
     "text": [
      "([100, 2], [3, 4])\n"
     ]
    }
   ],
   "source": [
    "c[0][0] = 100\n",
    "print(c)"
   ]
  },
  {
   "cell_type": "code",
   "execution_count": 36,
   "id": "e865d82e",
   "metadata": {},
   "outputs": [
    {
     "data": {
      "text/plain": [
       "1905531579136"
      ]
     },
     "execution_count": 36,
     "metadata": {},
     "output_type": "execute_result"
    }
   ],
   "source": [
    "id(a)"
   ]
  },
  {
   "cell_type": "code",
   "execution_count": 37,
   "id": "69e5c1a5",
   "metadata": {},
   "outputs": [
    {
     "data": {
      "text/plain": [
       "1905530391808"
      ]
     },
     "execution_count": 37,
     "metadata": {},
     "output_type": "execute_result"
    }
   ],
   "source": [
    "id(c)"
   ]
  },
  {
   "cell_type": "code",
   "execution_count": 40,
   "id": "5fc812de",
   "metadata": {},
   "outputs": [
    {
     "data": {
      "text/plain": [
       "1905532384384"
      ]
     },
     "execution_count": 40,
     "metadata": {},
     "output_type": "execute_result"
    }
   ],
   "source": [
    "L = [1,2,3]\n",
    "id(L)"
   ]
  },
  {
   "cell_type": "code",
   "execution_count": 2,
   "id": "2c409365",
   "metadata": {},
   "outputs": [
    {
     "name": "stdout",
     "output_type": "stream",
     "text": [
      "[1, 2, 3, 4, 5]\n"
     ]
    }
   ],
   "source": [
    "L = [1,2,3]\n",
    "L = L + [4,5]\n",
    "print(L)"
   ]
  },
  {
   "cell_type": "code",
   "execution_count": null,
   "id": "8746af34",
   "metadata": {},
   "outputs": [],
   "source": []
  }
 ],
 "metadata": {
  "kernelspec": {
   "display_name": "Python 3 (ipykernel)",
   "language": "python",
   "name": "python3"
  },
  "language_info": {
   "codemirror_mode": {
    "name": "ipython",
    "version": 3
   },
   "file_extension": ".py",
   "mimetype": "text/x-python",
   "name": "python",
   "nbconvert_exporter": "python",
   "pygments_lexer": "ipython3",
   "version": "3.9.7"
  }
 },
 "nbformat": 4,
 "nbformat_minor": 5
}

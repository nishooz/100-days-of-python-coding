{
 "cells": [
  {
   "cell_type": "markdown",
   "id": "03df2620",
   "metadata": {},
   "source": [
    "# 1.Print first 25 prime numbers"
   ]
  },
  {
   "cell_type": "code",
   "execution_count": 2,
   "id": "4aea1907",
   "metadata": {},
   "outputs": [
    {
     "name": "stdout",
     "output_type": "stream",
     "text": [
      "2\n",
      "3\n",
      "5\n",
      "7\n",
      "11\n",
      "13\n",
      "17\n",
      "19\n",
      "23\n",
      "29\n",
      "31\n",
      "37\n",
      "41\n",
      "43\n",
      "47\n",
      "53\n",
      "59\n",
      "61\n",
      "67\n",
      "71\n",
      "73\n",
      "79\n",
      "83\n",
      "89\n",
      "97\n",
      "101\n"
     ]
    }
   ],
   "source": [
    "counter = 0\n",
    "num = 2\n",
    "\n",
    "while (counter <=25 ):\n",
    "    for i in range(2,num):\n",
    "        if num % i == 0:\n",
    "            break\n",
    "            \n",
    "    else:\n",
    "        print(num)\n",
    "        counter = counter + 1\n",
    "            \n",
    "        \n",
    "    num = num + 1\n",
    "    \n"
   ]
  },
  {
   "cell_type": "markdown",
   "id": "31d9e536",
   "metadata": {},
   "source": [
    "# 2.Print first 20  fibonacci series"
   ]
  },
  {
   "cell_type": "code",
   "execution_count": 50,
   "id": "8196140c",
   "metadata": {},
   "outputs": [
    {
     "name": "stdout",
     "output_type": "stream",
     "text": [
      "0\n",
      "1\n",
      "1\n",
      "2\n",
      "3\n",
      "5\n",
      "8\n",
      "13\n",
      "21\n",
      "34\n",
      "55\n",
      "89\n",
      "144\n",
      "233\n",
      "377\n",
      "610\n",
      "987\n",
      "1597\n",
      "2584\n",
      "4181\n"
     ]
    }
   ],
   "source": [
    "count = 0\n",
    "a = 0\n",
    "b = 1\n",
    "print(a)\n",
    "print(b)\n",
    "while True:\n",
    "    c = a + b\n",
    "    a = b\n",
    "    b = c\n",
    "    print(c)\n",
    "    count = count + 1\n",
    "    if count == 18:\n",
    "        break\n",
    "    \n",
    "        "
   ]
  },
  {
   "cell_type": "markdown",
   "id": "d22b8c6e",
   "metadata": {},
   "source": [
    "# 3.Compound interest"
   ]
  },
  {
   "cell_type": "code",
   "execution_count": 1,
   "id": "38706725",
   "metadata": {},
   "outputs": [
    {
     "name": "stdout",
     "output_type": "stream",
     "text": [
      "Enter Principal5000\n",
      "Enter rate of interest8\n",
      "Enter number of time periods elapsed20\n",
      "Your amount is: 23304.78571924654\n",
      "Your compound interest is: 18304.78571924654\n"
     ]
    }
   ],
   "source": [
    "p = int(input('Enter Principal'))\n",
    "r = int(input('Enter rate of interest'))\n",
    "t = int(input('Enter number of time periods elapsed'))\n",
    "\n",
    "a = p*(1 + r/100)**t\n",
    "print('Your amount is:',a)\n",
    "ci = a - p\n",
    "print('Your compound interest is:',ci)"
   ]
  },
  {
   "cell_type": "markdown",
   "id": "c125b077",
   "metadata": {},
   "source": [
    "# 4.Write a program that computes the value of n + nn +nnn"
   ]
  },
  {
   "cell_type": "code",
   "execution_count": 38,
   "id": "1a0f55d0",
   "metadata": {},
   "outputs": [
    {
     "name": "stdout",
     "output_type": "stream",
     "text": [
      "Enter your number2\n",
      "n is: 2\n",
      "nn is: 22\n",
      "nnn is: 222\n",
      "246\n"
     ]
    }
   ],
   "source": [
    "n = (input('Enter your number'))\n",
    "print('n is:',n)\n",
    "nn = n + n\n",
    "print('nn is:',nn)\n",
    "nnn = n + n + n\n",
    "print('nnn is:',nnn)\n",
    "c = int(n) + int(nn) + int(nnn)\n",
    "print(c)\n",
    "\n",
    "\n",
    "\n"
   ]
  },
  {
   "cell_type": "markdown",
   "id": "759fa1f8",
   "metadata": {},
   "source": [
    "# 5.identify number of digits"
   ]
  },
  {
   "cell_type": "code",
   "execution_count": 1,
   "id": "c24220f4",
   "metadata": {},
   "outputs": [
    {
     "name": "stdout",
     "output_type": "stream",
     "text": [
      "Enter your number312\n",
      "number of digits are: 3\n"
     ]
    }
   ],
   "source": [
    "a = int(input('Enter your number'))\n",
    "count = 0\n",
    "while(a>0):\n",
    "    a = a // 10\n",
    "    count = count + 1\n",
    "print('number of digits are:',count)"
   ]
  },
  {
   "cell_type": "markdown",
   "id": "28054c66",
   "metadata": {},
   "source": [
    "# 6.Factors of a given number"
   ]
  },
  {
   "cell_type": "code",
   "execution_count": 7,
   "id": "3ba38da0",
   "metadata": {},
   "outputs": [
    {
     "name": "stdout",
     "output_type": "stream",
     "text": [
      "Enter your number678\n",
      "Your factors are: 1\n",
      "Your factors are: 2\n",
      "Your factors are: 3\n",
      "Your factors are: 6\n",
      "Your factors are: 113\n",
      "Your factors are: 226\n",
      "Your factors are: 339\n",
      "Your factors are: 678\n"
     ]
    }
   ],
   "source": [
    "num = int(input('Enter your number'))\n",
    "\n",
    "for i in range(1,num+1):\n",
    "    if num % i == 0:\n",
    "        print('Your factors are:',i)"
   ]
  },
  {
   "cell_type": "markdown",
   "id": "12a7fa5c",
   "metadata": {},
   "source": [
    "# 7. Reverse of a given number"
   ]
  },
  {
   "cell_type": "code",
   "execution_count": 2,
   "id": "b2fc5d11",
   "metadata": {},
   "outputs": [
    {
     "name": "stdout",
     "output_type": "stream",
     "text": [
      "Enter your number657\n",
      "Your reversed number is: 756\n"
     ]
    }
   ],
   "source": [
    "a = int(input('Enter your number'))\n",
    "rev = 0\n",
    "while a > 0:\n",
    "    rem = a % 10\n",
    "    a = a // 10\n",
    "    rev = (rev * 10)+(rem)\n",
    "print('Your reversed number is:',rev)\n",
    "    \n",
    "    \n",
    "\n",
    "\n"
   ]
  },
  {
   "cell_type": "code",
   "execution_count": null,
   "id": "ec64637b",
   "metadata": {},
   "outputs": [],
   "source": []
  },
  {
   "cell_type": "code",
   "execution_count": null,
   "id": "2632f07b",
   "metadata": {},
   "outputs": [],
   "source": []
  }
 ],
 "metadata": {
  "kernelspec": {
   "display_name": "Python 3 (ipykernel)",
   "language": "python",
   "name": "python3"
  },
  "language_info": {
   "codemirror_mode": {
    "name": "ipython",
    "version": 3
   },
   "file_extension": ".py",
   "mimetype": "text/x-python",
   "name": "python",
   "nbconvert_exporter": "python",
   "pygments_lexer": "ipython3",
   "version": "3.9.7"
  }
 },
 "nbformat": 4,
 "nbformat_minor": 5
}

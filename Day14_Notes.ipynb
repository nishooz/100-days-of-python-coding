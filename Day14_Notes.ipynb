{
 "cells": [
  {
   "cell_type": "markdown",
   "id": "e4164c47",
   "metadata": {},
   "source": [
    "### 1.Functions"
   ]
  },
  {
   "cell_type": "markdown",
   "id": "2aafe300",
   "metadata": {},
   "source": [
    "- Function is a block of code which has its own function"
   ]
  },
  {
   "cell_type": "markdown",
   "id": "806a9a6d",
   "metadata": {},
   "source": [
    "### 2.Components of function"
   ]
  },
  {
   "cell_type": "markdown",
   "id": "eb948e4b",
   "metadata": {},
   "source": [
    "def is_even(i):\n",
    "''''''\n",
    "\n",
    "\n",
    "Docstring is a reading manual.\n",
    "\n",
    "\n",
    "[the body]\n",
    "  \n",
    "  \n",
    "  x = i% == 0\n",
    "  \n",
    "  \n",
    "  return x\n",
    "\n",
    "\n",
    "is_even(7) "
   ]
  },
  {
   "cell_type": "code",
   "execution_count": 1,
   "id": "68b2a747",
   "metadata": {},
   "outputs": [],
   "source": [
    "#def is a keyword\n",
    "#is_even is a name\n",
    "#i is a parameters or arguements\n",
    "#print and return is body"
   ]
  },
  {
   "cell_type": "markdown",
   "id": "c73eff0e",
   "metadata": {},
   "source": [
    "### Create function"
   ]
  },
  {
   "cell_type": "code",
   "execution_count": 3,
   "id": "57b295e1",
   "metadata": {},
   "outputs": [
    {
     "name": "stdout",
     "output_type": "stream",
     "text": [
      "Odd\n",
      "Even\n",
      "Odd\n",
      "Even\n",
      "Odd\n",
      "Even\n",
      "Odd\n",
      "Even\n",
      "Odd\n",
      "Even\n",
      "\n",
      "    This function tells if a given number is odd or even.\n",
      "    Input - any valid integer\n",
      "    Output - odd/even\n",
      "    Created By -Vartika Singh\n",
      "    Last edited - 13 May 2022\n",
      "    \n"
     ]
    }
   ],
   "source": [
    "def is_even(number):\n",
    "    '''\n",
    "    This function tells if a given number is odd or even.\n",
    "    Input - any valid integer\n",
    "    Output - odd/even\n",
    "    Created By -Vartika Singh\n",
    "    Last edited - 13 May 2022\n",
    "    '''\n",
    "  \n",
    "    if number % 2 == 0:\n",
    "        return'Even'\n",
    "    else:\n",
    "        return'Odd'\n",
    "    \n",
    "for i in range(1,11):\n",
    "    print(is_even(i))\n",
    "print(is_even.__doc__)\n",
    "        "
   ]
  },
  {
   "cell_type": "markdown",
   "id": "debaecb8",
   "metadata": {},
   "source": [
    "##### Parameters Vs Arguements\n",
    "\n",
    "- Default Arguements\n",
    "- Positional Arguements\n",
    "- Keyword Arguements\n",
    "- Arbitary Arguements"
   ]
  },
  {
   "cell_type": "code",
   "execution_count": 1,
   "id": "2bcacf71",
   "metadata": {},
   "outputs": [
    {
     "name": "stdout",
     "output_type": "stream",
     "text": [
      "<function power at 0x000002277C688B80>\n"
     ]
    }
   ],
   "source": [
    "def power(a,b):\n",
    "    return a**b\n",
    "power(2,3)\n",
    "print(power)"
   ]
  },
  {
   "cell_type": "code",
   "execution_count": null,
   "id": "9d64cf6f",
   "metadata": {},
   "outputs": [],
   "source": [
    "#default"
   ]
  },
  {
   "cell_type": "code",
   "execution_count": 9,
   "id": "e2be6275",
   "metadata": {},
   "outputs": [],
   "source": [
    "def power(a=1,b=1):\n",
    "    return a**b\n"
   ]
  },
  {
   "cell_type": "code",
   "execution_count": 10,
   "id": "c14fa3a1",
   "metadata": {},
   "outputs": [
    {
     "data": {
      "text/plain": [
       "8"
      ]
     },
     "execution_count": 10,
     "metadata": {},
     "output_type": "execute_result"
    }
   ],
   "source": [
    "power(2,3)"
   ]
  },
  {
   "cell_type": "code",
   "execution_count": 8,
   "id": "67ab870e",
   "metadata": {},
   "outputs": [
    {
     "data": {
      "text/plain": [
       "2"
      ]
     },
     "execution_count": 8,
     "metadata": {},
     "output_type": "execute_result"
    }
   ],
   "source": [
    "power(2,1)"
   ]
  },
  {
   "cell_type": "code",
   "execution_count": 4,
   "id": "4f66da56",
   "metadata": {},
   "outputs": [],
   "source": [
    "#positional arguement"
   ]
  },
  {
   "cell_type": "code",
   "execution_count": null,
   "id": "59f1431f",
   "metadata": {},
   "outputs": [],
   "source": [
    "#keyword arguement(overrides positional arguement)"
   ]
  },
  {
   "cell_type": "code",
   "execution_count": 13,
   "id": "4723b2c2",
   "metadata": {},
   "outputs": [
    {
     "data": {
      "text/plain": [
       "9"
      ]
     },
     "execution_count": 13,
     "metadata": {},
     "output_type": "execute_result"
    }
   ],
   "source": [
    "power(b=2,a=3)"
   ]
  },
  {
   "cell_type": "code",
   "execution_count": 14,
   "id": "bd1f6bbd",
   "metadata": {},
   "outputs": [],
   "source": [
    "#Arbitary"
   ]
  },
  {
   "cell_type": "code",
   "execution_count": 18,
   "id": "72179fe3",
   "metadata": {},
   "outputs": [],
   "source": [
    "def flexi(*number):\n",
    "    product = 1\n",
    "    print(number)\n",
    "    print(type(number))\n",
    "    for i in number:\n",
    "        product = product * i\n",
    "    print(product)"
   ]
  },
  {
   "cell_type": "code",
   "execution_count": 19,
   "id": "fac97543",
   "metadata": {},
   "outputs": [
    {
     "name": "stdout",
     "output_type": "stream",
     "text": [
      "(1,)\n",
      "<class 'tuple'>\n",
      "1\n"
     ]
    }
   ],
   "source": [
    "flexi(1)"
   ]
  },
  {
   "cell_type": "code",
   "execution_count": 20,
   "id": "c6b1f49f",
   "metadata": {},
   "outputs": [
    {
     "name": "stdout",
     "output_type": "stream",
     "text": [
      "(1, 2, 3, 4, 5)\n",
      "<class 'tuple'>\n",
      "120\n"
     ]
    }
   ],
   "source": [
    "flexi(1,2,3,4,5)"
   ]
  },
  {
   "cell_type": "code",
   "execution_count": null,
   "id": "14c83719",
   "metadata": {},
   "outputs": [],
   "source": []
  },
  {
   "cell_type": "code",
   "execution_count": null,
   "id": "2326f151",
   "metadata": {},
   "outputs": [],
   "source": []
  }
 ],
 "metadata": {
  "kernelspec": {
   "display_name": "Python 3 (ipykernel)",
   "language": "python",
   "name": "python3"
  },
  "language_info": {
   "codemirror_mode": {
    "name": "ipython",
    "version": 3
   },
   "file_extension": ".py",
   "mimetype": "text/x-python",
   "name": "python",
   "nbconvert_exporter": "python",
   "pygments_lexer": "ipython3",
   "version": "3.9.7"
  }
 },
 "nbformat": 4,
 "nbformat_minor": 5
}

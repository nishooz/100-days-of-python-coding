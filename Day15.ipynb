{
 "cells": [
  {
   "cell_type": "markdown",
   "id": "e7533b2c",
   "metadata": {},
   "source": [
    "### 1.Write a program that can sort a given unsorted list\n"
   ]
  },
  {
   "cell_type": "code",
   "execution_count": 3,
   "id": "9db85d08",
   "metadata": {},
   "outputs": [
    {
     "name": "stdout",
     "output_type": "stream",
     "text": [
      "[0, 1, 2, 4, 5, 6, 9]\n"
     ]
    }
   ],
   "source": [
    "L = [5,4,2,6,1]\n",
    "for i in range(len(L)):\n",
    "    for k in range(0,len(L)-1):\n",
    "        if L[k] > L[k+1]:\n",
    "            temp = L[k]\n",
    "            L[k] = L[k+1]\n",
    "            L[k+1] = temp\n",
    "print(L)\n",
    "        "
   ]
  },
  {
   "cell_type": "markdown",
   "id": "e08a2140",
   "metadata": {},
   "source": [
    "### 2.Write a program that can find the most used word in a bollywood song\n"
   ]
  },
  {
   "cell_type": "code",
   "execution_count": 5,
   "id": "a65db558",
   "metadata": {},
   "outputs": [
    {
     "name": "stdout",
     "output_type": "stream",
     "text": [
      "away, 15\n"
     ]
    }
   ],
   "source": [
    "lyrics = '''\n",
    "We couldn't turn around\n",
    "'Til we were upside down\n",
    "I'll be the bad guy now\n",
    "But no, I ain't too proud\n",
    "I couldn't be there\n",
    "Even when I tried\n",
    "You don't believe it\n",
    "We do this every time\n",
    "Seasons change and our love went cold\n",
    "Feed the flame 'cause we can't let it go\n",
    "Run away, but we're running in circles\n",
    "Run away, run away\n",
    "I dare you to do something\n",
    "I'm waiting on you again\n",
    "So I don't take the blame\n",
    "Run away, but we're running in circles\n",
    "Run away, run away, run away\n",
    "Let go\n",
    "I got a feeling that it's time to let go\n",
    "I say so\n",
    "I knew that this was doomed from the get-go\n",
    "You thought that it was special, special\n",
    "But it was just the sex though, the sex though\n",
    "And I still hear the echoes (the echoes)\n",
    "I got a feeling that it's time to let it go, let it go\n",
    "Seasons change and our love went cold\n",
    "Feed the flame 'cause we can't let it go\n",
    "Run away, but we're running in circles\n",
    "Run away, run away\n",
    "I dare you to do something\n",
    "I'm waiting on you again\n",
    "So I don't take the blame\n",
    "Run away, but we're running in circles\n",
    "Run away, run away, run away\n",
    "Maybe you don't understand what I'm going through\n",
    "It's only me\n",
    "What you got to lose?\n",
    "Make up your mind, tell me\n",
    "What are you gonna do?\n",
    "It's only me\n",
    "Let it go\n",
    "Seasons change and our love went cold\n",
    "Feed the flame 'cause we can't let it go\n",
    "Run away, but we're running in circles\n",
    "Run away, run away\n",
    "I dare you to do something\n",
    "I'm waiting on you again\n",
    "So I don't take the blame\n",
    "Run away, but we're running in circles\n",
    "Run away, run away, run away'''\n",
    "\n",
    "D = {}\n",
    "\n",
    "for word in lyrics.split():\n",
    "    if word in D:\n",
    "        D[word] = D[word] + 1\n",
    "    else:\n",
    "        D[word] = 1\n",
    "max_val = (max(D.values()))\n",
    "\n",
    "for i in D:\n",
    "    if D[i] == max_val:\n",
    "        print(i,max_val)\n",
    "        break"
   ]
  },
  {
   "cell_type": "markdown",
   "id": "548b72f3",
   "metadata": {},
   "source": [
    "### 3.Assume a list with numbers from 1 to 10 and then convert it into a dictionary where the key would be the numbers of the list and the values would be the square of those numbers."
   ]
  },
  {
   "cell_type": "code",
   "execution_count": 2,
   "id": "e2d0fa7c",
   "metadata": {},
   "outputs": [
    {
     "name": "stdout",
     "output_type": "stream",
     "text": [
      "{1: 1, 2: 4, 3: 9, 4: 16, 5: 25, 6: 36, 7: 49, 8: 64, 9: 81, 10: 100}\n"
     ]
    }
   ],
   "source": [
    "L = [1,2,3,4,5,6,7,8,9,10]\n",
    "D = {}\n",
    "\n",
    "for i in L:\n",
    "    D[i] = i**2\n",
    "print(D)"
   ]
  },
  {
   "cell_type": "markdown",
   "id": "5734d6bd",
   "metadata": {},
   "source": [
    "### 4.Write a program to merge to given dictionary"
   ]
  },
  {
   "cell_type": "code",
   "execution_count": 8,
   "id": "995b11cd",
   "metadata": {},
   "outputs": [
    {
     "name": "stdout",
     "output_type": "stream",
     "text": [
      "{'a': 2, 'b': 3, 'c': 5, 'd': 4}\n"
     ]
    }
   ],
   "source": [
    "D1 = {'a':2,'b':3}\n",
    "D2 = {'c':5,'d':4}\n",
    "D = {}\n",
    "\n",
    "for i in D1:\n",
    "    D[i]=D1[i]\n",
    "\n",
    "for k in D2:\n",
    "    D[k]=D2[k]\n",
    "    \n",
    "print(D)\n",
    "\n"
   ]
  },
  {
   "cell_type": "markdown",
   "id": "a00b86c5",
   "metadata": {},
   "source": [
    "### 6.Write a program to swap the key value pair for max and min values\n",
    "Eg if the dict is like this {‘a’:1,’b’:2,’c’:3}\n",
    "Output should be {a:3,b:2,c:1}\n"
   ]
  },
  {
   "cell_type": "code",
   "execution_count": 27,
   "id": "1b238d56",
   "metadata": {},
   "outputs": [
    {
     "name": "stdout",
     "output_type": "stream",
     "text": [
      "900\n",
      "0\n",
      "{'a': 2, 'b': 80, 'c': 100, 'd': 900, 'e': 0}\n"
     ]
    }
   ],
   "source": [
    "D = {'a':2,'b':80,'c':100,'d':0,'e':900}\n",
    "\n",
    "max_val = max(D.values())\n",
    "min_val = min(D.values())\n",
    "\n",
    "for i in D:\n",
    "    if D[i] == max_val:\n",
    "        print(D[i])\n",
    "        break\n",
    "        \n",
    "        \n",
    "for j in D:\n",
    "    if D[j] == min_val:\n",
    "        print(D[j])\n",
    "        break\n",
    "        \n",
    "        \n",
    "D[i] = min_val\n",
    "D[j] = max_val\n",
    "print(D)"
   ]
  },
  {
   "cell_type": "markdown",
   "id": "60a14855",
   "metadata": {},
   "source": [
    "### 7.Write a program to find histogram of a given set of numbers. Take bin size from user.\n"
   ]
  },
  {
   "cell_type": "code",
   "execution_count": 7,
   "id": "478c0c1c",
   "metadata": {},
   "outputs": [
    {
     "name": "stdout",
     "output_type": "stream",
     "text": [
      "['0-10', '10-20', '20-30', '30-40', '40-50', '50-60', '60-70', '70-80', '80-90', '90-100']\n"
     ]
    }
   ],
   "source": [
    "L =[21,56,12,98,54,34,23,78,89,45,47,68,57,9,7,5,3]\n",
    "import math\n",
    "lower_range = math.floor(min(L)/10)*10\n",
    "upper_range = math.ceil(max(L)/10)*10\n",
    "\n",
    "bracket = []\n",
    "i = lower_range\n",
    "\n",
    "while i <= (upper_range-10):\n",
    "    temp = str(i) + '-' + str(i+10)\n",
    "    bracket.append(temp)\n",
    "    i = i + 10\n",
    "print(bracket)\n",
    "\n",
    "D = {}\n",
    "\n",
    "for i in bracket:\n",
    "    lower = int(i.split('-')[0])\n",
    "    upper = int(i.split('-')[1])\n",
    "    counter = 0\n",
    "    \n",
    "    for j in L:\n",
    "        if j > lower and j < upper:\n",
    "            counter = counter + 1\n",
    "    D[i] = counter"
   ]
  },
  {
   "cell_type": "code",
   "execution_count": null,
   "id": "41d1f61e",
   "metadata": {},
   "outputs": [],
   "source": []
  }
 ],
 "metadata": {
  "kernelspec": {
   "display_name": "Python 3 (ipykernel)",
   "language": "python",
   "name": "python3"
  },
  "language_info": {
   "codemirror_mode": {
    "name": "ipython",
    "version": 3
   },
   "file_extension": ".py",
   "mimetype": "text/x-python",
   "name": "python",
   "nbconvert_exporter": "python",
   "pygments_lexer": "ipython3",
   "version": "3.9.7"
  }
 },
 "nbformat": 4,
 "nbformat_minor": 5
}

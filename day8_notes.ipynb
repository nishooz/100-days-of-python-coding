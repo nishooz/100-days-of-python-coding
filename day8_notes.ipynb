{
 "cells": [
  {
   "cell_type": "markdown",
   "id": "6511ea19",
   "metadata": {},
   "source": [
    "# - Built in functions"
   ]
  },
  {
   "cell_type": "markdown",
   "id": "7b092d8f",
   "metadata": {},
   "source": [
    "### Function is a block of code that gives output"
   ]
  },
  {
   "cell_type": "markdown",
   "id": "931db273",
   "metadata": {},
   "source": [
    "### 1. Print"
   ]
  },
  {
   "cell_type": "code",
   "execution_count": 2,
   "id": "1c591f59",
   "metadata": {},
   "outputs": [
    {
     "name": "stdout",
     "output_type": "stream",
     "text": [
      "Hello\n"
     ]
    }
   ],
   "source": [
    "print('Hello')"
   ]
  },
  {
   "cell_type": "markdown",
   "id": "f2b70499",
   "metadata": {},
   "source": [
    "### 2. Input"
   ]
  },
  {
   "cell_type": "code",
   "execution_count": 3,
   "id": "c659a079",
   "metadata": {},
   "outputs": [
    {
     "name": "stdout",
     "output_type": "stream",
     "text": [
      "Enter your namevartika\n"
     ]
    },
    {
     "data": {
      "text/plain": [
       "'vartika'"
      ]
     },
     "execution_count": 3,
     "metadata": {},
     "output_type": "execute_result"
    }
   ],
   "source": [
    "input('Enter your name')"
   ]
  },
  {
   "cell_type": "markdown",
   "id": "ca049586",
   "metadata": {},
   "source": [
    "### 3.Type"
   ]
  },
  {
   "cell_type": "code",
   "execution_count": 4,
   "id": "0f597bc6",
   "metadata": {},
   "outputs": [
    {
     "data": {
      "text/plain": [
       "float"
      ]
     },
     "execution_count": 4,
     "metadata": {},
     "output_type": "execute_result"
    }
   ],
   "source": [
    "a = 3.5\n",
    "type(a)"
   ]
  },
  {
   "cell_type": "markdown",
   "id": "a69cde22",
   "metadata": {},
   "source": [
    "### 4. Int etc"
   ]
  },
  {
   "cell_type": "code",
   "execution_count": 5,
   "id": "33a06927",
   "metadata": {},
   "outputs": [
    {
     "data": {
      "text/plain": [
       "5"
      ]
     },
     "execution_count": 5,
     "metadata": {},
     "output_type": "execute_result"
    }
   ],
   "source": [
    "int(5.6)"
   ]
  },
  {
   "cell_type": "markdown",
   "id": "c27df269",
   "metadata": {},
   "source": [
    "### 5.abs\n",
    "modulus function"
   ]
  },
  {
   "cell_type": "code",
   "execution_count": 6,
   "id": "bb9361a2",
   "metadata": {},
   "outputs": [
    {
     "data": {
      "text/plain": [
       "4"
      ]
     },
     "execution_count": 6,
     "metadata": {},
     "output_type": "execute_result"
    }
   ],
   "source": [
    "abs(-4)"
   ]
  },
  {
   "cell_type": "markdown",
   "id": "425b0f67",
   "metadata": {},
   "source": [
    "### 6.pow"
   ]
  },
  {
   "cell_type": "code",
   "execution_count": 8,
   "id": "01a3e542",
   "metadata": {},
   "outputs": [
    {
     "data": {
      "text/plain": [
       "0.125"
      ]
     },
     "execution_count": 8,
     "metadata": {},
     "output_type": "execute_result"
    }
   ],
   "source": [
    "pow(2,-3)"
   ]
  },
  {
   "cell_type": "markdown",
   "id": "3a361436",
   "metadata": {},
   "source": [
    "### min/max"
   ]
  },
  {
   "cell_type": "code",
   "execution_count": 9,
   "id": "ae1abdd6",
   "metadata": {},
   "outputs": [
    {
     "data": {
      "text/plain": [
       "1"
      ]
     },
     "execution_count": 9,
     "metadata": {},
     "output_type": "execute_result"
    }
   ],
   "source": [
    "min([2,1,3,9])"
   ]
  },
  {
   "cell_type": "code",
   "execution_count": 10,
   "id": "d9acce24",
   "metadata": {},
   "outputs": [
    {
     "data": {
      "text/plain": [
       "4"
      ]
     },
     "execution_count": 10,
     "metadata": {},
     "output_type": "execute_result"
    }
   ],
   "source": [
    "max([1,2,3,4])"
   ]
  },
  {
   "cell_type": "code",
   "execution_count": 11,
   "id": "7ac88a57",
   "metadata": {},
   "outputs": [
    {
     "data": {
      "text/plain": [
       "'t'"
      ]
     },
     "execution_count": 11,
     "metadata": {},
     "output_type": "execute_result"
    }
   ],
   "source": [
    "max('kolkata')"
   ]
  },
  {
   "cell_type": "markdown",
   "id": "56d844fb",
   "metadata": {},
   "source": [
    "### 8.round"
   ]
  },
  {
   "cell_type": "code",
   "execution_count": 12,
   "id": "d130eb7b",
   "metadata": {},
   "outputs": [
    {
     "data": {
      "text/plain": [
       "3.14"
      ]
     },
     "execution_count": 12,
     "metadata": {},
     "output_type": "execute_result"
    }
   ],
   "source": [
    "c = 22/7\n",
    "round(c,2)"
   ]
  },
  {
   "cell_type": "markdown",
   "id": "137a32d7",
   "metadata": {},
   "source": [
    "### 9.divmod"
   ]
  },
  {
   "cell_type": "code",
   "execution_count": 13,
   "id": "4bdf7169",
   "metadata": {},
   "outputs": [
    {
     "data": {
      "text/plain": [
       "(2, 1)"
      ]
     },
     "execution_count": 13,
     "metadata": {},
     "output_type": "execute_result"
    }
   ],
   "source": [
    "divmod(5,2)"
   ]
  },
  {
   "cell_type": "markdown",
   "id": "beb0255b",
   "metadata": {},
   "source": [
    "### 10.bin/oct/hex"
   ]
  },
  {
   "cell_type": "code",
   "execution_count": 14,
   "id": "742f44ce",
   "metadata": {},
   "outputs": [
    {
     "data": {
      "text/plain": [
       "'0b100'"
      ]
     },
     "execution_count": 14,
     "metadata": {},
     "output_type": "execute_result"
    }
   ],
   "source": [
    "bin(4)"
   ]
  },
  {
   "cell_type": "code",
   "execution_count": 15,
   "id": "3fc6e4b2",
   "metadata": {},
   "outputs": [
    {
     "data": {
      "text/plain": [
       "'0o4'"
      ]
     },
     "execution_count": 15,
     "metadata": {},
     "output_type": "execute_result"
    }
   ],
   "source": [
    "oct(4)"
   ]
  },
  {
   "cell_type": "code",
   "execution_count": 17,
   "id": "cb8aec0f",
   "metadata": {},
   "outputs": [
    {
     "data": {
      "text/plain": [
       "'0x4'"
      ]
     },
     "execution_count": 17,
     "metadata": {},
     "output_type": "execute_result"
    }
   ],
   "source": [
    "hex(4)"
   ]
  },
  {
   "cell_type": "markdown",
   "id": "b2f399cf",
   "metadata": {},
   "source": [
    "### 11.id"
   ]
  },
  {
   "cell_type": "code",
   "execution_count": 18,
   "id": "386d3f4f",
   "metadata": {},
   "outputs": [
    {
     "data": {
      "text/plain": [
       "2577612761424"
      ]
     },
     "execution_count": 18,
     "metadata": {},
     "output_type": "execute_result"
    }
   ],
   "source": [
    "a = 2\n",
    "id(a)"
   ]
  },
  {
   "cell_type": "markdown",
   "id": "3a3aa067",
   "metadata": {},
   "source": [
    "### 12.ord(returns ascii value)"
   ]
  },
  {
   "cell_type": "markdown",
   "id": "f8832104",
   "metadata": {},
   "source": [
    "ord('c')"
   ]
  },
  {
   "cell_type": "markdown",
   "id": "2bc7a3b3",
   "metadata": {},
   "source": [
    "### 13.len"
   ]
  },
  {
   "cell_type": "code",
   "execution_count": 20,
   "id": "e5274c60",
   "metadata": {},
   "outputs": [
    {
     "data": {
      "text/plain": [
       "7"
      ]
     },
     "execution_count": 20,
     "metadata": {},
     "output_type": "execute_result"
    }
   ],
   "source": [
    "len('kolkata')"
   ]
  },
  {
   "cell_type": "markdown",
   "id": "a2f60551",
   "metadata": {},
   "source": [
    "### 14.sum"
   ]
  },
  {
   "cell_type": "code",
   "execution_count": 21,
   "id": "9e8dc966",
   "metadata": {},
   "outputs": [
    {
     "data": {
      "text/plain": [
       "15"
      ]
     },
     "execution_count": 21,
     "metadata": {},
     "output_type": "execute_result"
    }
   ],
   "source": [
    "sum([1,2,3,4,5])"
   ]
  },
  {
   "cell_type": "markdown",
   "id": "e7f14728",
   "metadata": {},
   "source": [
    "### 15.help"
   ]
  },
  {
   "cell_type": "code",
   "execution_count": 1,
   "id": "b6d717d6",
   "metadata": {},
   "outputs": [
    {
     "name": "stdout",
     "output_type": "stream",
     "text": [
      "Help on built-in function len in module builtins:\n",
      "\n",
      "len(obj, /)\n",
      "    Return the number of items in a container.\n",
      "\n"
     ]
    }
   ],
   "source": [
    "help('len')"
   ]
  },
  {
   "cell_type": "markdown",
   "id": "4870dfd5",
   "metadata": {},
   "source": [
    "# Built in modules-"
   ]
  },
  {
   "cell_type": "markdown",
   "id": "8e75184a",
   "metadata": {},
   "source": [
    "## module is same as a code library\n",
    "    A file containing a set of functions you want to include in your application.\n",
    "    \n",
    "    Examples of python modules\n",
    "    -Math\n",
    "    -Random\n",
    "    -os\n",
    "    -time"
   ]
  },
  {
   "cell_type": "markdown",
   "id": "efbb0906",
   "metadata": {},
   "source": [
    "### 1.Math module"
   ]
  },
  {
   "cell_type": "code",
   "execution_count": 26,
   "id": "e480941a",
   "metadata": {},
   "outputs": [],
   "source": [
    "import math"
   ]
  },
  {
   "cell_type": "code",
   "execution_count": 27,
   "id": "28404fdd",
   "metadata": {},
   "outputs": [
    {
     "data": {
      "text/plain": [
       "3.141592653589793"
      ]
     },
     "execution_count": 27,
     "metadata": {},
     "output_type": "execute_result"
    }
   ],
   "source": [
    "math.pi"
   ]
  },
  {
   "cell_type": "code",
   "execution_count": 28,
   "id": "38f69330",
   "metadata": {},
   "outputs": [
    {
     "data": {
      "text/plain": [
       "2.718281828459045"
      ]
     },
     "execution_count": 28,
     "metadata": {},
     "output_type": "execute_result"
    }
   ],
   "source": [
    "math.e"
   ]
  },
  {
   "cell_type": "code",
   "execution_count": 29,
   "id": "73d49692",
   "metadata": {},
   "outputs": [
    {
     "data": {
      "text/plain": [
       "120"
      ]
     },
     "execution_count": 29,
     "metadata": {},
     "output_type": "execute_result"
    }
   ],
   "source": [
    "math.factorial(5)"
   ]
  },
  {
   "cell_type": "code",
   "execution_count": 30,
   "id": "89797ac3",
   "metadata": {},
   "outputs": [
    {
     "data": {
      "text/plain": [
       "7"
      ]
     },
     "execution_count": 30,
     "metadata": {},
     "output_type": "execute_result"
    }
   ],
   "source": [
    "math.ceil(6.3)"
   ]
  },
  {
   "cell_type": "code",
   "execution_count": 31,
   "id": "7c4ed8a5",
   "metadata": {},
   "outputs": [
    {
     "data": {
      "text/plain": [
       "6"
      ]
     },
     "execution_count": 31,
     "metadata": {},
     "output_type": "execute_result"
    }
   ],
   "source": [
    "math.floor(6.9)"
   ]
  },
  {
   "cell_type": "code",
   "execution_count": 32,
   "id": "b3cd76fe",
   "metadata": {},
   "outputs": [
    {
     "data": {
      "text/plain": [
       "10.0"
      ]
     },
     "execution_count": 32,
     "metadata": {},
     "output_type": "execute_result"
    }
   ],
   "source": [
    "math.sqrt(100)"
   ]
  },
  {
   "cell_type": "markdown",
   "id": "7d509bb6",
   "metadata": {},
   "source": [
    "### 2.Random module"
   ]
  },
  {
   "cell_type": "code",
   "execution_count": 33,
   "id": "6ffe6d35",
   "metadata": {},
   "outputs": [],
   "source": [
    "import random"
   ]
  },
  {
   "cell_type": "code",
   "execution_count": 4,
   "id": "d7203801",
   "metadata": {},
   "outputs": [
    {
     "data": {
      "text/plain": [
       "29"
      ]
     },
     "execution_count": 4,
     "metadata": {},
     "output_type": "execute_result"
    }
   ],
   "source": [
    "import random\n",
    "random.randint(1,100)"
   ]
  },
  {
   "cell_type": "code",
   "execution_count": 3,
   "id": "c084b5e3",
   "metadata": {},
   "outputs": [
    {
     "data": {
      "text/plain": [
       "[4, 2, 1, 3, 5]"
      ]
     },
     "execution_count": 3,
     "metadata": {},
     "output_type": "execute_result"
    }
   ],
   "source": [
    "import random\n",
    "a = [1,2,3,4,5]\n",
    "random.shuffle(a)\n",
    "a"
   ]
  },
  {
   "cell_type": "markdown",
   "id": "e8a5a536",
   "metadata": {},
   "source": [
    "### 3.time"
   ]
  },
  {
   "cell_type": "code",
   "execution_count": 4,
   "id": "5e22268c",
   "metadata": {},
   "outputs": [],
   "source": [
    "import time"
   ]
  },
  {
   "cell_type": "code",
   "execution_count": 7,
   "id": "2a55dfdc",
   "metadata": {},
   "outputs": [
    {
     "data": {
      "text/plain": [
       "1651659794.1197546"
      ]
     },
     "execution_count": 7,
     "metadata": {},
     "output_type": "execute_result"
    }
   ],
   "source": [
    "time.time()"
   ]
  },
  {
   "cell_type": "code",
   "execution_count": 8,
   "id": "cb146577",
   "metadata": {},
   "outputs": [
    {
     "data": {
      "text/plain": [
       "'Wed May  4 15:53:28 2022'"
      ]
     },
     "execution_count": 8,
     "metadata": {},
     "output_type": "execute_result"
    }
   ],
   "source": [
    "time.ctime()"
   ]
  },
  {
   "cell_type": "code",
   "execution_count": 10,
   "id": "af2b3795",
   "metadata": {},
   "outputs": [
    {
     "name": "stdout",
     "output_type": "stream",
     "text": [
      "Hello\n",
      "World\n"
     ]
    }
   ],
   "source": [
    "print('Hello')\n",
    "time.sleep(5)\n",
    "print('World')"
   ]
  },
  {
   "cell_type": "markdown",
   "id": "a16fcf1b",
   "metadata": {},
   "source": [
    "### 4.os"
   ]
  },
  {
   "cell_type": "code",
   "execution_count": 11,
   "id": "051eccb1",
   "metadata": {},
   "outputs": [],
   "source": [
    "import os"
   ]
  },
  {
   "cell_type": "code",
   "execution_count": 12,
   "id": "0fd3f372",
   "metadata": {},
   "outputs": [
    {
     "data": {
      "text/plain": [
       "'C:\\\\Users\\\\Vartika Singh\\\\mission-cs\\\\python'"
      ]
     },
     "execution_count": 12,
     "metadata": {},
     "output_type": "execute_result"
    }
   ],
   "source": [
    "os.getcwd()"
   ]
  },
  {
   "cell_type": "code",
   "execution_count": 13,
   "id": "881f2686",
   "metadata": {},
   "outputs": [
    {
     "data": {
      "text/plain": [
       "['.ipynb_checkpoints',\n",
       " 'day1_notes.ipynb',\n",
       " 'day2.ipynb',\n",
       " 'day3.ipynb',\n",
       " 'day4.ipynb',\n",
       " 'day4_notes.ipynb',\n",
       " 'day5.ipynb',\n",
       " 'Day6.ipynb',\n",
       " 'Day7.ipynb',\n",
       " 'day8_notes.ipynb']"
      ]
     },
     "execution_count": 13,
     "metadata": {},
     "output_type": "execute_result"
    }
   ],
   "source": [
    "os.listdir()"
   ]
  },
  {
   "cell_type": "markdown",
   "id": "fbf0159f",
   "metadata": {},
   "source": [
    "# String(datatype)"
   ]
  },
  {
   "cell_type": "markdown",
   "id": "38e77faa",
   "metadata": {},
   "source": [
    " Strings are sequence of characters\n",
    "\n",
    " In python specifically,strings are a sequence of unicode Characters  \n",
    "##### -Creating strings\n",
    "##### -Accessing string\n",
    "##### -Adding char to strings\n",
    "##### -Editing strings\n",
    "##### -Deleting strings\n",
    "##### -Operations on strings\n",
    "##### -String functions"
   ]
  },
  {
   "cell_type": "markdown",
   "id": "4b58afb1",
   "metadata": {},
   "source": [
    "### Creating strings"
   ]
  },
  {
   "cell_type": "code",
   "execution_count": 14,
   "id": "be893c22",
   "metadata": {},
   "outputs": [
    {
     "name": "stdout",
     "output_type": "stream",
     "text": [
      "Hello\n"
     ]
    }
   ],
   "source": [
    "c = 'Hello'\n",
    "print(c)"
   ]
  },
  {
   "cell_type": "code",
   "execution_count": 15,
   "id": "d42faff0",
   "metadata": {},
   "outputs": [
    {
     "name": "stdout",
     "output_type": "stream",
     "text": [
      "Hello\n"
     ]
    }
   ],
   "source": [
    "c = \"Hello\"\n",
    "print(c)"
   ]
  },
  {
   "cell_type": "code",
   "execution_count": 16,
   "id": "3fa44b71",
   "metadata": {},
   "outputs": [
    {
     "data": {
      "text/plain": [
       "\"It's raining outside\""
      ]
     },
     "execution_count": 16,
     "metadata": {},
     "output_type": "execute_result"
    }
   ],
   "source": [
    "\"It's raining outside\""
   ]
  },
  {
   "cell_type": "code",
   "execution_count": 17,
   "id": "6ef97000",
   "metadata": {},
   "outputs": [],
   "source": [
    "c = str('Hello')"
   ]
  },
  {
   "cell_type": "markdown",
   "id": "36dcc824",
   "metadata": {},
   "source": [
    "### Accessing substrings from a string"
   ]
  },
  {
   "cell_type": "code",
   "execution_count": 18,
   "id": "c99f355d",
   "metadata": {},
   "outputs": [
    {
     "name": "stdout",
     "output_type": "stream",
     "text": [
      "hello\n"
     ]
    }
   ],
   "source": [
    "c = 'hello'\n",
    "print(c)"
   ]
  },
  {
   "cell_type": "code",
   "execution_count": 19,
   "id": "2f1be126",
   "metadata": {},
   "outputs": [
    {
     "name": "stdout",
     "output_type": "stream",
     "text": [
      "l\n"
     ]
    }
   ],
   "source": [
    "print(c[2])"
   ]
  },
  {
   "cell_type": "code",
   "execution_count": 20,
   "id": "78248f49",
   "metadata": {},
   "outputs": [
    {
     "name": "stdout",
     "output_type": "stream",
     "text": [
      "l\n"
     ]
    }
   ],
   "source": [
    "# Types of indexing\n",
    "# 1.Positive indexing\n",
    "# 2.Negative indexing\n",
    "\n",
    "\n",
    "print(c[-3])"
   ]
  },
  {
   "cell_type": "markdown",
   "id": "0e214fc7",
   "metadata": {},
   "source": [
    "#### Slicing"
   ]
  },
  {
   "cell_type": "code",
   "execution_count": 22,
   "id": "8cc47127",
   "metadata": {},
   "outputs": [
    {
     "name": "stdout",
     "output_type": "stream",
     "text": [
      "Hell\n"
     ]
    }
   ],
   "source": [
    "c = 'Hello World'\n",
    "print(c[0:4])"
   ]
  },
  {
   "cell_type": "code",
   "execution_count": 2,
   "id": "0542625e",
   "metadata": {},
   "outputs": [
    {
     "name": "stdout",
     "output_type": "stream",
     "text": [
      "llo World\n"
     ]
    }
   ],
   "source": [
    "c = 'Hello World'\n",
    "print(c[2:])"
   ]
  },
  {
   "cell_type": "code",
   "execution_count": 3,
   "id": "2ad49e29",
   "metadata": {},
   "outputs": [
    {
     "name": "stdout",
     "output_type": "stream",
     "text": [
      "Hell\n"
     ]
    }
   ],
   "source": [
    "print(c[:4])"
   ]
  },
  {
   "cell_type": "code",
   "execution_count": 4,
   "id": "732dc2b1",
   "metadata": {},
   "outputs": [
    {
     "name": "stdout",
     "output_type": "stream",
     "text": [
      "Hello World\n"
     ]
    }
   ],
   "source": [
    "print(c[:])"
   ]
  },
  {
   "cell_type": "code",
   "execution_count": 5,
   "id": "4739d6ab",
   "metadata": {},
   "outputs": [
    {
     "name": "stdout",
     "output_type": "stream",
     "text": [
      "lo\n"
     ]
    }
   ],
   "source": [
    "print(c[2:6:2])"
   ]
  },
  {
   "cell_type": "code",
   "execution_count": 6,
   "id": "7045de5b",
   "metadata": {},
   "outputs": [
    {
     "name": "stdout",
     "output_type": "stream",
     "text": [
      "\n"
     ]
    }
   ],
   "source": [
    "print(c[0:6:-1])"
   ]
  },
  {
   "cell_type": "code",
   "execution_count": 7,
   "id": "dcbf3cca",
   "metadata": {},
   "outputs": [
    {
     "name": "stdout",
     "output_type": "stream",
     "text": [
      "Wr\n"
     ]
    }
   ],
   "source": [
    "print(c[-5:-1:2])"
   ]
  },
  {
   "cell_type": "code",
   "execution_count": 8,
   "id": "cc70e8b1",
   "metadata": {},
   "outputs": [
    {
     "name": "stdout",
     "output_type": "stream",
     "text": [
      "dlroW olleH\n"
     ]
    }
   ],
   "source": [
    "print(c[::-1])"
   ]
  },
  {
   "cell_type": "code",
   "execution_count": 10,
   "id": "12bc7d77",
   "metadata": {},
   "outputs": [
    {
     "name": "stdout",
     "output_type": "stream",
     "text": [
      "dlro\n"
     ]
    }
   ],
   "source": [
    "print(c[-1:-5:-1])"
   ]
  },
  {
   "cell_type": "markdown",
   "id": "eacefc5e",
   "metadata": {},
   "source": [
    "### Editing and deleting in Strings"
   ]
  },
  {
   "cell_type": "code",
   "execution_count": 11,
   "id": "8a1cc546",
   "metadata": {},
   "outputs": [
    {
     "name": "stdout",
     "output_type": "stream",
     "text": [
      "Hello\n"
     ]
    }
   ],
   "source": [
    "c = 'Hello'\n",
    "print(c)"
   ]
  },
  {
   "cell_type": "code",
   "execution_count": 12,
   "id": "da48306d",
   "metadata": {},
   "outputs": [
    {
     "ename": "TypeError",
     "evalue": "'str' object does not support item assignment",
     "output_type": "error",
     "traceback": [
      "\u001b[1;31m---------------------------------------------------------------------------\u001b[0m",
      "\u001b[1;31mTypeError\u001b[0m                                 Traceback (most recent call last)",
      "\u001b[1;32mC:\\Users\\VARTIK~1\\AppData\\Local\\Temp/ipykernel_21076/3060163700.py\u001b[0m in \u001b[0;36m<module>\u001b[1;34m\u001b[0m\n\u001b[1;32m----> 1\u001b[1;33m \u001b[0mc\u001b[0m\u001b[1;33m[\u001b[0m\u001b[1;36m0\u001b[0m\u001b[1;33m]\u001b[0m \u001b[1;33m=\u001b[0m \u001b[1;34m'x'\u001b[0m\u001b[1;33m\u001b[0m\u001b[1;33m\u001b[0m\u001b[0m\n\u001b[0m",
      "\u001b[1;31mTypeError\u001b[0m: 'str' object does not support item assignment"
     ]
    }
   ],
   "source": [
    "c[0] = 'x'"
   ]
  },
  {
   "cell_type": "code",
   "execution_count": 13,
   "id": "ba0a096e",
   "metadata": {},
   "outputs": [],
   "source": [
    "# Strings are immutable datatype"
   ]
  },
  {
   "cell_type": "code",
   "execution_count": 14,
   "id": "485705f7",
   "metadata": {},
   "outputs": [],
   "source": [
    "# Deletion"
   ]
  },
  {
   "cell_type": "code",
   "execution_count": 15,
   "id": "1f611616",
   "metadata": {},
   "outputs": [],
   "source": [
    "del c"
   ]
  },
  {
   "cell_type": "code",
   "execution_count": 16,
   "id": "040fb0f1",
   "metadata": {},
   "outputs": [
    {
     "ename": "NameError",
     "evalue": "name 'c' is not defined",
     "output_type": "error",
     "traceback": [
      "\u001b[1;31m---------------------------------------------------------------------------\u001b[0m",
      "\u001b[1;31mNameError\u001b[0m                                 Traceback (most recent call last)",
      "\u001b[1;32mC:\\Users\\VARTIK~1\\AppData\\Local\\Temp/ipykernel_21076/2743823995.py\u001b[0m in \u001b[0;36m<module>\u001b[1;34m\u001b[0m\n\u001b[1;32m----> 1\u001b[1;33m \u001b[0mprint\u001b[0m\u001b[1;33m(\u001b[0m\u001b[0mc\u001b[0m\u001b[1;33m)\u001b[0m\u001b[1;33m\u001b[0m\u001b[1;33m\u001b[0m\u001b[0m\n\u001b[0m",
      "\u001b[1;31mNameError\u001b[0m: name 'c' is not defined"
     ]
    }
   ],
   "source": [
    "print(c)"
   ]
  },
  {
   "cell_type": "markdown",
   "id": "bf6c8494",
   "metadata": {},
   "source": [
    "# operations on Strings\n",
    "\n",
    "##### -Arithmetic Operations\n",
    "##### -Relational Operations\n",
    "##### -Logical Operations\n",
    "##### -Loops on Strings\n",
    "##### -Membership Operations"
   ]
  },
  {
   "cell_type": "markdown",
   "id": "00b0201a",
   "metadata": {},
   "source": [
    "### Arithmetic Operations"
   ]
  },
  {
   "cell_type": "code",
   "execution_count": 17,
   "id": "b23e9d4b",
   "metadata": {},
   "outputs": [
    {
     "data": {
      "text/plain": [
       "'HelloWorld'"
      ]
     },
     "execution_count": 17,
     "metadata": {},
     "output_type": "execute_result"
    }
   ],
   "source": [
    "'Hello' + 'World'\n"
   ]
  },
  {
   "cell_type": "code",
   "execution_count": 18,
   "id": "ff6a14c0",
   "metadata": {},
   "outputs": [
    {
     "name": "stdout",
     "output_type": "stream",
     "text": [
      "**************************************************\n"
     ]
    }
   ],
   "source": [
    "print('*'*50)"
   ]
  },
  {
   "cell_type": "markdown",
   "id": "86fc8c10",
   "metadata": {},
   "source": [
    "### Relational Operations"
   ]
  },
  {
   "cell_type": "code",
   "execution_count": 19,
   "id": "2a7b8767",
   "metadata": {},
   "outputs": [
    {
     "data": {
      "text/plain": [
       "False"
      ]
     },
     "execution_count": 19,
     "metadata": {},
     "output_type": "execute_result"
    }
   ],
   "source": [
    "'hello' == 'World'"
   ]
  },
  {
   "cell_type": "code",
   "execution_count": 20,
   "id": "259365ce",
   "metadata": {},
   "outputs": [
    {
     "data": {
      "text/plain": [
       "True"
      ]
     },
     "execution_count": 20,
     "metadata": {},
     "output_type": "execute_result"
    }
   ],
   "source": [
    "'Hello' != 'World'"
   ]
  },
  {
   "cell_type": "code",
   "execution_count": 21,
   "id": "ba6569cd",
   "metadata": {},
   "outputs": [
    {
     "data": {
      "text/plain": [
       "False"
      ]
     },
     "execution_count": 21,
     "metadata": {},
     "output_type": "execute_result"
    }
   ],
   "source": [
    "'Mumbai' > 'Pune'\n",
    "#Lexiographically"
   ]
  },
  {
   "cell_type": "code",
   "execution_count": 22,
   "id": "6e48d3de",
   "metadata": {},
   "outputs": [
    {
     "data": {
      "text/plain": [
       "True"
      ]
     },
     "execution_count": 22,
     "metadata": {},
     "output_type": "execute_result"
    }
   ],
   "source": [
    "'kol' > 'Kol'"
   ]
  },
  {
   "cell_type": "code",
   "execution_count": 23,
   "id": "75c37a31",
   "metadata": {},
   "outputs": [
    {
     "data": {
      "text/plain": [
       "'world'"
      ]
     },
     "execution_count": 23,
     "metadata": {},
     "output_type": "execute_result"
    }
   ],
   "source": [
    "'hello' and 'world'"
   ]
  },
  {
   "cell_type": "markdown",
   "id": "5a38194b",
   "metadata": {},
   "source": [
    "### String Functions"
   ]
  },
  {
   "cell_type": "markdown",
   "id": "396b3507",
   "metadata": {},
   "source": [
    "### Common Functions\n",
    "##### -len\n",
    "##### -max \n",
    "##### -min\n",
    "##### -sorted"
   ]
  },
  {
   "cell_type": "code",
   "execution_count": 26,
   "id": "39fd0c6a",
   "metadata": {},
   "outputs": [
    {
     "data": {
      "text/plain": [
       "['t', 'o', 'l', 'k', 'k', 'a', 'a']"
      ]
     },
     "execution_count": 26,
     "metadata": {},
     "output_type": "execute_result"
    }
   ],
   "source": [
    "c = 'kolkata'\n",
    "sorted(c,reverse=True)"
   ]
  },
  {
   "cell_type": "markdown",
   "id": "30be4448",
   "metadata": {},
   "source": [
    "## 1. Capitalize/Title/Upper/Lower/Swapcase"
   ]
  },
  {
   "cell_type": "code",
   "execution_count": 29,
   "id": "626590dc",
   "metadata": {},
   "outputs": [
    {
     "data": {
      "text/plain": [
       "'It is raining today'"
      ]
     },
     "execution_count": 29,
     "metadata": {},
     "output_type": "execute_result"
    }
   ],
   "source": [
    "'it is raining today'.capitalize()\n"
   ]
  },
  {
   "cell_type": "code",
   "execution_count": 31,
   "id": "4e52846a",
   "metadata": {},
   "outputs": [
    {
     "data": {
      "text/plain": [
       "'Hello Hy Hi'"
      ]
     },
     "execution_count": 31,
     "metadata": {},
     "output_type": "execute_result"
    }
   ],
   "source": [
    "'hello hy hi'.title()"
   ]
  },
  {
   "cell_type": "code",
   "execution_count": 32,
   "id": "c9805947",
   "metadata": {},
   "outputs": [
    {
     "data": {
      "text/plain": [
       "'HELLO'"
      ]
     },
     "execution_count": 32,
     "metadata": {},
     "output_type": "execute_result"
    }
   ],
   "source": [
    "'hello'.upper()"
   ]
  },
  {
   "cell_type": "code",
   "execution_count": 33,
   "id": "e2559fc0",
   "metadata": {},
   "outputs": [
    {
     "data": {
      "text/plain": [
       "'hello'"
      ]
     },
     "execution_count": 33,
     "metadata": {},
     "output_type": "execute_result"
    }
   ],
   "source": [
    "'Hello'.lower()"
   ]
  },
  {
   "cell_type": "code",
   "execution_count": 34,
   "id": "a7fefe6a",
   "metadata": {},
   "outputs": [
    {
     "data": {
      "text/plain": [
       "'kOlkATA'"
      ]
     },
     "execution_count": 34,
     "metadata": {},
     "output_type": "execute_result"
    }
   ],
   "source": [
    "'KoLKata'.swapcase()"
   ]
  },
  {
   "cell_type": "markdown",
   "id": "cddd3db7",
   "metadata": {},
   "source": [
    "### 2. Count"
   ]
  },
  {
   "cell_type": "code",
   "execution_count": 37,
   "id": "38ced3c2",
   "metadata": {},
   "outputs": [
    {
     "data": {
      "text/plain": [
       "1"
      ]
     },
     "execution_count": 37,
     "metadata": {},
     "output_type": "execute_result"
    }
   ],
   "source": [
    "'it is raining'.count('ing')"
   ]
  },
  {
   "cell_type": "markdown",
   "id": "f9692835",
   "metadata": {},
   "source": [
    "### 3.Find/Index"
   ]
  },
  {
   "cell_type": "code",
   "execution_count": 40,
   "id": "bb11102d",
   "metadata": {},
   "outputs": [
    {
     "data": {
      "text/plain": [
       "6"
      ]
     },
     "execution_count": 40,
     "metadata": {},
     "output_type": "execute_result"
    }
   ],
   "source": [
    "'it is raining'.find('r')"
   ]
  },
  {
   "cell_type": "markdown",
   "id": "cd4de0c7",
   "metadata": {},
   "source": [
    "### 4.endswith/startswith"
   ]
  },
  {
   "cell_type": "code",
   "execution_count": 41,
   "id": "3c72d3b0",
   "metadata": {},
   "outputs": [
    {
     "data": {
      "text/plain": [
       "False"
      ]
     },
     "execution_count": 41,
     "metadata": {},
     "output_type": "execute_result"
    }
   ],
   "source": [
    "'it is raining'.endswith('ugf')"
   ]
  },
  {
   "cell_type": "code",
   "execution_count": 42,
   "id": "1c4327ae",
   "metadata": {},
   "outputs": [
    {
     "data": {
      "text/plain": [
       "False"
      ]
     },
     "execution_count": 42,
     "metadata": {},
     "output_type": "execute_result"
    }
   ],
   "source": [
    "'it is raining'.startswith('gvg')"
   ]
  },
  {
   "cell_type": "markdown",
   "id": "a2738f83",
   "metadata": {},
   "source": [
    "### format"
   ]
  },
  {
   "cell_type": "code",
   "execution_count": 44,
   "id": "1584f4bb",
   "metadata": {},
   "outputs": [
    {
     "data": {
      "text/plain": [
       "'Hello my name is Vartika and I am 24'"
      ]
     },
     "execution_count": 44,
     "metadata": {},
     "output_type": "execute_result"
    }
   ],
   "source": [
    "'Hello my name is {} and I am {}'.format('Vartika',24)"
   ]
  },
  {
   "cell_type": "code",
   "execution_count": 46,
   "id": "fa777c4b",
   "metadata": {},
   "outputs": [
    {
     "data": {
      "text/plain": [
       "'Hello my name is 24 and I am Vartika'"
      ]
     },
     "execution_count": 46,
     "metadata": {},
     "output_type": "execute_result"
    }
   ],
   "source": [
    "'Hello my name is {1} and I am {0}'.format('Vartika',24)"
   ]
  },
  {
   "cell_type": "code",
   "execution_count": 47,
   "id": "68052611",
   "metadata": {},
   "outputs": [
    {
     "data": {
      "text/plain": [
       "'Hello my name is Vartika and I am 24'"
      ]
     },
     "execution_count": 47,
     "metadata": {},
     "output_type": "execute_result"
    }
   ],
   "source": [
    "'Hello my name is {name} and I am {age}'.format(name = 'Vartika',age = 24)"
   ]
  },
  {
   "cell_type": "markdown",
   "id": "2fd86a68",
   "metadata": {},
   "source": [
    "### 6.isalnum/isalpha/isdecimal/isdigit/isidentifier"
   ]
  },
  {
   "cell_type": "code",
   "execution_count": 49,
   "id": "0bd9c1c7",
   "metadata": {},
   "outputs": [
    {
     "data": {
      "text/plain": [
       "False"
      ]
     },
     "execution_count": 49,
     "metadata": {},
     "output_type": "execute_result"
    }
   ],
   "source": [
    "'FLAT20&'.isalnum()"
   ]
  },
  {
   "cell_type": "code",
   "execution_count": 51,
   "id": "0e044dc3",
   "metadata": {},
   "outputs": [
    {
     "data": {
      "text/plain": [
       "True"
      ]
     },
     "execution_count": 51,
     "metadata": {},
     "output_type": "execute_result"
    }
   ],
   "source": [
    "\"FLAT\".isalpha()"
   ]
  },
  {
   "cell_type": "code",
   "execution_count": 53,
   "id": "77146d63",
   "metadata": {},
   "outputs": [
    {
     "data": {
      "text/plain": [
       "False"
      ]
     },
     "execution_count": 53,
     "metadata": {},
     "output_type": "execute_result"
    }
   ],
   "source": [
    "'20S'.isdigit()"
   ]
  },
  {
   "cell_type": "code",
   "execution_count": 55,
   "id": "0dfc10d9",
   "metadata": {},
   "outputs": [
    {
     "data": {
      "text/plain": [
       "True"
      ]
     },
     "execution_count": 55,
     "metadata": {},
     "output_type": "execute_result"
    }
   ],
   "source": [
    "'hello_world'.isidentifier()"
   ]
  },
  {
   "cell_type": "markdown",
   "id": "bee78979",
   "metadata": {},
   "source": [
    "### 7.Split"
   ]
  },
  {
   "cell_type": "code",
   "execution_count": 56,
   "id": "fb48e926",
   "metadata": {},
   "outputs": [
    {
     "data": {
      "text/plain": [
       "['who', 'is', 'the', 'prime', 'minister', 'of', 'india']"
      ]
     },
     "execution_count": 56,
     "metadata": {},
     "output_type": "execute_result"
    }
   ],
   "source": [
    "'who is the prime minister of india'.split()"
   ]
  },
  {
   "cell_type": "code",
   "execution_count": 57,
   "id": "c619c77a",
   "metadata": {},
   "outputs": [
    {
     "data": {
      "text/plain": [
       "['who ', 's the pr', 'me m', 'n', 'ster of ', 'nd', 'a']"
      ]
     },
     "execution_count": 57,
     "metadata": {},
     "output_type": "execute_result"
    }
   ],
   "source": [
    "'who is the prime minister of india'.split('i')"
   ]
  },
  {
   "cell_type": "markdown",
   "id": "95ad4eee",
   "metadata": {},
   "source": [
    "### 8.Join"
   ]
  },
  {
   "cell_type": "code",
   "execution_count": 58,
   "id": "51827c8b",
   "metadata": {},
   "outputs": [
    {
     "data": {
      "text/plain": [
       "'who-is-the-prime-minister-of-india'"
      ]
     },
     "execution_count": 58,
     "metadata": {},
     "output_type": "execute_result"
    }
   ],
   "source": [
    "'-'.join(['who', 'is', 'the', 'prime', 'minister', 'of', 'india'])"
   ]
  },
  {
   "cell_type": "markdown",
   "id": "ea183afa",
   "metadata": {},
   "source": [
    "### 9.Replace"
   ]
  },
  {
   "cell_type": "code",
   "execution_count": 59,
   "id": "70f5e477",
   "metadata": {},
   "outputs": [
    {
     "data": {
      "text/plain": [
       "'Hi my name is Raj'"
      ]
     },
     "execution_count": 59,
     "metadata": {},
     "output_type": "execute_result"
    }
   ],
   "source": [
    "'Hi my name is vartika'.replace('vartika','Raj')"
   ]
  },
  {
   "cell_type": "markdown",
   "id": "bbd3cea3",
   "metadata": {},
   "source": [
    "### 10. Strip"
   ]
  },
  {
   "cell_type": "code",
   "execution_count": 3,
   "id": "11d0f8da",
   "metadata": {},
   "outputs": [
    {
     "data": {
      "text/plain": [
       "'         vartika.singh     '"
      ]
     },
     "execution_count": 3,
     "metadata": {},
     "output_type": "execute_result"
    }
   ],
   "source": [
    "name='         vartika.singh     '\n",
    "name.strip('.')"
   ]
  },
  {
   "cell_type": "code",
   "execution_count": null,
   "id": "fccd601e",
   "metadata": {},
   "outputs": [],
   "source": []
  }
 ],
 "metadata": {
  "kernelspec": {
   "display_name": "Python 3 (ipykernel)",
   "language": "python",
   "name": "python3"
  },
  "language_info": {
   "codemirror_mode": {
    "name": "ipython",
    "version": 3
   },
   "file_extension": ".py",
   "mimetype": "text/x-python",
   "name": "python",
   "nbconvert_exporter": "python",
   "pygments_lexer": "ipython3",
   "version": "3.9.7"
  }
 },
 "nbformat": 4,
 "nbformat_minor": 5
}

{
 "cells": [
  {
   "cell_type": "markdown",
   "id": "13049625",
   "metadata": {},
   "source": [
    "# 1. Print Function"
   ]
  },
  {
   "cell_type": "code",
   "execution_count": 22,
   "id": "a20ace6d",
   "metadata": {},
   "outputs": [
    {
     "name": "stdout",
     "output_type": "stream",
     "text": [
      "Hello World\n"
     ]
    }
   ],
   "source": [
    "print('Hello World')"
   ]
  },
  {
   "cell_type": "code",
   "execution_count": 2,
   "id": "0d506c11",
   "metadata": {},
   "outputs": [
    {
     "name": "stdout",
     "output_type": "stream",
     "text": [
      "6\n"
     ]
    }
   ],
   "source": [
    "print('6')"
   ]
  },
  {
   "cell_type": "code",
   "execution_count": 3,
   "id": "14b6ebf8",
   "metadata": {},
   "outputs": [
    {
     "name": "stdout",
     "output_type": "stream",
     "text": [
      "5.6\n"
     ]
    }
   ],
   "source": [
    "print('5.6')"
   ]
  },
  {
   "cell_type": "code",
   "execution_count": 7,
   "id": "72616cd8",
   "metadata": {},
   "outputs": [
    {
     "name": "stdout",
     "output_type": "stream",
     "text": [
      "False\n"
     ]
    }
   ],
   "source": [
    "print(False)"
   ]
  },
  {
   "cell_type": "code",
   "execution_count": 9,
   "id": "e18333e8",
   "metadata": {},
   "outputs": [
    {
     "name": "stdout",
     "output_type": "stream",
     "text": [
      "India-Pakistan-Nepal-Srilanka\n"
     ]
    }
   ],
   "source": [
    "print('India','Pak istan','Nepal','Srilanka',sep='-')"
   ]
  },
  {
   "cell_type": "code",
   "execution_count": 6,
   "id": "e4cfe0ad",
   "metadata": {},
   "outputs": [
    {
     "name": "stdout",
     "output_type": "stream",
     "text": [
      "India 5 True\n"
     ]
    }
   ],
   "source": [
    "print('India',5,True)"
   ]
  },
  {
   "cell_type": "code",
   "execution_count": 10,
   "id": "ec36b24f",
   "metadata": {},
   "outputs": [
    {
     "name": "stdout",
     "output_type": "stream",
     "text": [
      "Hello\n",
      "World\n"
     ]
    }
   ],
   "source": [
    "print('Hello')\n",
    "print('World')"
   ]
  },
  {
   "cell_type": "code",
   "execution_count": 11,
   "id": "8b0618c9",
   "metadata": {},
   "outputs": [
    {
     "name": "stdout",
     "output_type": "stream",
     "text": [
      "hello world\n"
     ]
    }
   ],
   "source": [
    "print('hello',end=' ')\n",
    "print('world')"
   ]
  },
  {
   "cell_type": "markdown",
   "id": "5d6b1055",
   "metadata": {},
   "source": [
    "# 2. datatype"
   ]
  },
  {
   "cell_type": "code",
   "execution_count": 12,
   "id": "42baac0e",
   "metadata": {},
   "outputs": [
    {
     "name": "stdout",
     "output_type": "stream",
     "text": [
      "78889373778477575788483883883847748488484778483848848484848484848484888\n"
     ]
    }
   ],
   "source": [
    "#integer\n",
    "print(78889373778477575788483883883847748488484778483848848484848484848484888)"
   ]
  },
  {
   "cell_type": "code",
   "execution_count": 13,
   "id": "91afe27d",
   "metadata": {},
   "outputs": [
    {
     "name": "stdout",
     "output_type": "stream",
     "text": [
      "inf\n"
     ]
    }
   ],
   "source": [
    "print(1e309)"
   ]
  },
  {
   "cell_type": "code",
   "execution_count": 14,
   "id": "7d6d50a9",
   "metadata": {},
   "outputs": [
    {
     "name": "stdout",
     "output_type": "stream",
     "text": [
      "4.5\n",
      "inf\n"
     ]
    }
   ],
   "source": [
    "#float\n",
    "print(4.5)\n",
    "print(1.7e309)"
   ]
  },
  {
   "cell_type": "code",
   "execution_count": 15,
   "id": "d9d99422",
   "metadata": {},
   "outputs": [
    {
     "name": "stdout",
     "output_type": "stream",
     "text": [
      "1.7e+305\n"
     ]
    }
   ],
   "source": [
    "print(1.7e305)"
   ]
  },
  {
   "cell_type": "code",
   "execution_count": 17,
   "id": "8e452dc1",
   "metadata": {},
   "outputs": [
    {
     "name": "stdout",
     "output_type": "stream",
     "text": [
      "True\n",
      "False\n"
     ]
    }
   ],
   "source": [
    "#boolean\n",
    "print(True)\n",
    "print(False)"
   ]
  },
  {
   "cell_type": "code",
   "execution_count": 19,
   "id": "fa87f28f",
   "metadata": {},
   "outputs": [
    {
     "name": "stdout",
     "output_type": "stream",
     "text": [
      "(4+5j)\n"
     ]
    }
   ],
   "source": [
    "complex\n",
    "print(4+5j)"
   ]
  },
  {
   "cell_type": "code",
   "execution_count": 21,
   "id": "499fe883",
   "metadata": {},
   "outputs": [
    {
     "name": "stdout",
     "output_type": "stream",
     "text": [
      "Kolkata\n",
      "Kolkata\n"
     ]
    }
   ],
   "source": [
    "#string\n",
    "print('Kolkata')\n",
    "print(\"Kolkata\")"
   ]
  },
  {
   "cell_type": "code",
   "execution_count": 24,
   "id": "bdeff177",
   "metadata": {},
   "outputs": [
    {
     "name": "stdout",
     "output_type": "stream",
     "text": [
      "[1, 2, 3, 4, 5, 6]\n"
     ]
    }
   ],
   "source": [
    "#list\n",
    "print([1,2,3,4,5,6])"
   ]
  },
  {
   "cell_type": "code",
   "execution_count": 25,
   "id": "43aebdc6",
   "metadata": {},
   "outputs": [
    {
     "name": "stdout",
     "output_type": "stream",
     "text": [
      "(1, 2, 3, 4, 5)\n"
     ]
    }
   ],
   "source": [
    "#tuple\n",
    "print((1,2,3,4,5))"
   ]
  },
  {
   "cell_type": "code",
   "execution_count": 26,
   "id": "efea544f",
   "metadata": {},
   "outputs": [
    {
     "name": "stdout",
     "output_type": "stream",
     "text": [
      "{1, 2, 3, 4, 5}\n"
     ]
    }
   ],
   "source": [
    " #sets\n",
    " print({1,2,3,4,5})   \n",
    "    "
   ]
  },
  {
   "cell_type": "code",
   "execution_count": 27,
   "id": "ed82d139",
   "metadata": {},
   "outputs": [
    {
     "name": "stdout",
     "output_type": "stream",
     "text": [
      "{'Name': 'Vartika', 'Age': '24', 'Gender': 'Female'}\n"
     ]
    }
   ],
   "source": [
    "#dict\n",
    "print({'Name':'Vartika','Age':'24','Gender':'Female'})"
   ]
  },
  {
   "cell_type": "markdown",
   "id": "b58780f9",
   "metadata": {},
   "source": [
    "# Comments"
   ]
  },
  {
   "cell_type": "code",
   "execution_count": 29,
   "id": "bbddeb12",
   "metadata": {},
   "outputs": [],
   "source": [
    "#comments\n",
    "# this is a comment\n"
   ]
  },
  {
   "cell_type": "markdown",
   "id": "1cacaefc",
   "metadata": {},
   "source": [
    "# Variables"
   ]
  },
  {
   "cell_type": "code",
   "execution_count": 30,
   "id": "14858fa8",
   "metadata": {},
   "outputs": [],
   "source": [
    "name='vartika'"
   ]
  },
  {
   "cell_type": "code",
   "execution_count": 31,
   "id": "60a3f4d5",
   "metadata": {},
   "outputs": [
    {
     "name": "stdout",
     "output_type": "stream",
     "text": [
      "vartika\n"
     ]
    }
   ],
   "source": [
    "print(name)"
   ]
  },
  {
   "cell_type": "code",
   "execution_count": 32,
   "id": "38ebf95a",
   "metadata": {},
   "outputs": [],
   "source": [
    "name ='qwerty'"
   ]
  },
  {
   "cell_type": "code",
   "execution_count": 33,
   "id": "f0f3361f",
   "metadata": {},
   "outputs": [
    {
     "name": "stdout",
     "output_type": "stream",
     "text": [
      "qwerty\n"
     ]
    }
   ],
   "source": [
    "print(name)"
   ]
  },
  {
   "cell_type": "code",
   "execution_count": 34,
   "id": "40ee9aea",
   "metadata": {},
   "outputs": [],
   "source": [
    "x='what is your name?'"
   ]
  },
  {
   "cell_type": "code",
   "execution_count": 35,
   "id": "77d7f04d",
   "metadata": {},
   "outputs": [
    {
     "name": "stdout",
     "output_type": "stream",
     "text": [
      "what is your name?\n"
     ]
    }
   ],
   "source": [
    "print(x)"
   ]
  },
  {
   "cell_type": "markdown",
   "id": "db507de6",
   "metadata": {},
   "source": [
    "#### - no variable declaration"
   ]
  },
  {
   "cell_type": "markdown",
   "id": "f95d14fe",
   "metadata": {},
   "source": [
    "#### - dynamic typing(specification of datatype not required)\n",
    "#### - static typing(specification of datatype is required)"
   ]
  },
  {
   "cell_type": "code",
   "execution_count": 64,
   "id": "9803e88a",
   "metadata": {},
   "outputs": [
    {
     "name": "stdout",
     "output_type": "stream",
     "text": [
      "4\n"
     ]
    }
   ],
   "source": [
    "x=4\n",
    "print(x)"
   ]
  },
  {
   "cell_type": "markdown",
   "id": "8d552e07",
   "metadata": {},
   "source": [
    "x=True\n",
    "print(x)"
   ]
  },
  {
   "cell_type": "markdown",
   "id": "bb2837b8",
   "metadata": {},
   "source": [
    "####  -dynamic binding(when a variable can store multiple datatype)\n",
    "####  -static binding(when a variable cannot store multiple datatype)"
   ]
  },
  {
   "cell_type": "code",
   "execution_count": 44,
   "id": "19753eaa",
   "metadata": {},
   "outputs": [
    {
     "name": "stdout",
     "output_type": "stream",
     "text": [
      "2\n",
      "3\n",
      "4\n"
     ]
    }
   ],
   "source": [
    "# special syntax\n",
    "a=2;b=3;c=4\n",
    "print(a)\n",
    "print(b)\n",
    "print(c)"
   ]
  },
  {
   "cell_type": "code",
   "execution_count": 45,
   "id": "c51989ad",
   "metadata": {},
   "outputs": [
    {
     "name": "stdout",
     "output_type": "stream",
     "text": [
      "2\n",
      "5\n",
      "7\n"
     ]
    }
   ],
   "source": [
    "a,b,c=2,5,7\n",
    "print(a)\n",
    "print(b)\n",
    "print(c)"
   ]
  },
  {
   "cell_type": "code",
   "execution_count": 46,
   "id": "9907569b",
   "metadata": {},
   "outputs": [
    {
     "name": "stdout",
     "output_type": "stream",
     "text": [
      "8\n",
      "8\n",
      "8\n"
     ]
    }
   ],
   "source": [
    "a=b=c=8\n",
    "print(a)\n",
    "print(b)\n",
    "print(c)"
   ]
  },
  {
   "cell_type": "code",
   "execution_count": 47,
   "id": "732b89f5",
   "metadata": {},
   "outputs": [
    {
     "name": "stdout",
     "output_type": "stream",
     "text": [
      "10 10 10\n"
     ]
    }
   ],
   "source": [
    "a=b=c=10\n",
    "print(a,b,c)"
   ]
  },
  {
   "cell_type": "code",
   "execution_count": 48,
   "id": "20e2f6a8",
   "metadata": {},
   "outputs": [
    {
     "name": "stdout",
     "output_type": "stream",
     "text": [
      "1//1//1\n"
     ]
    }
   ],
   "source": [
    "a=b=c=1\n",
    "print(a,b,c, sep='//')"
   ]
  },
  {
   "cell_type": "code",
   "execution_count": 49,
   "id": "50f0893b",
   "metadata": {},
   "outputs": [
    {
     "name": "stdout",
     "output_type": "stream",
     "text": [
      "65#65#65 "
     ]
    }
   ],
   "source": [
    "a=b=c=65\n",
    "print(a,b,c, sep='#',end=' ')"
   ]
  },
  {
   "cell_type": "code",
   "execution_count": 51,
   "id": "f5591af5",
   "metadata": {},
   "outputs": [
    {
     "name": "stdout",
     "output_type": "stream",
     "text": [
      "54$54$54\n"
     ]
    }
   ],
   "source": [
    "a=b=c=54\n",
    "print(a,b,c,sep='$')"
   ]
  },
  {
   "cell_type": "code",
   "execution_count": 57,
   "id": "2bb5c902",
   "metadata": {},
   "outputs": [
    {
     "name": "stdout",
     "output_type": "stream",
     "text": [
      "8 8\n",
      "8\n"
     ]
    }
   ],
   "source": [
    "a=b=c=8\n",
    "print(a,b)\n",
    "\n",
    "print(c)"
   ]
  },
  {
   "cell_type": "markdown",
   "id": "5fa61375",
   "metadata": {},
   "source": [
    "# Identifiers and Keywords"
   ]
  },
  {
   "cell_type": "markdown",
   "id": "5951b6ef",
   "metadata": {},
   "source": [
    "#### keyword is a word that is reserved by a program because the word has a special meaning.Keywords can be commands or parameters.Every programming language has a set of keywords that cannot be used as variable names."
   ]
  },
  {
   "cell_type": "code",
   "execution_count": 59,
   "id": "42bd3e74",
   "metadata": {},
   "outputs": [
    {
     "name": "stdout",
     "output_type": "stream",
     "text": [
      "['False', 'None', 'True', '__peg_parser__', 'and', 'as', 'assert', 'async', 'await', 'break', 'class', 'continue', 'def', 'del', 'elif', 'else', 'except', 'finally', 'for', 'from', 'global', 'if', 'import', 'in', 'is', 'lambda', 'nonlocal', 'not', 'or', 'pass', 'raise', 'return', 'try', 'while', 'with', 'yield']\n"
     ]
    }
   ],
   "source": [
    "# python has 33 keywords\n",
    "import keyword\n",
    "print(keyword.kwlist)"
   ]
  },
  {
   "cell_type": "markdown",
   "id": "958bade3",
   "metadata": {},
   "source": [
    "# identifier\n",
    "is a name used to identify a variable,function,class,module,or other object.\n",
    "\n",
    "#### Rules for setting identifiers\n",
    "\n",
    "- can only start with an alphabet or _\n",
    "- Followed bu 0 or more letter,_and digits\n",
    "- keywords cannot be used as an identifiers"
   ]
  },
  {
   "cell_type": "code",
   "execution_count": 66,
   "id": "aa86d70c",
   "metadata": {},
   "outputs": [
    {
     "name": "stdout",
     "output_type": "stream",
     "text": [
      "Vartika\n"
     ]
    }
   ],
   "source": [
    "name='Vartika'\n",
    "print(name)"
   ]
  },
  {
   "cell_type": "code",
   "execution_count": 67,
   "id": "b487ff64",
   "metadata": {},
   "outputs": [
    {
     "name": "stdout",
     "output_type": "stream",
     "text": [
      "Vartika\n"
     ]
    }
   ],
   "source": [
    "_='Vartika'\n",
    "print(_)"
   ]
  },
  {
   "cell_type": "code",
   "execution_count": 68,
   "id": "f37c57aa",
   "metadata": {},
   "outputs": [
    {
     "ename": "SyntaxError",
     "evalue": "invalid syntax (Temp/ipykernel_13260/2068712926.py, line 1)",
     "output_type": "error",
     "traceback": [
      "\u001b[1;36m  File \u001b[1;32m\"C:\\Users\\VARTIK~1\\AppData\\Local\\Temp/ipykernel_13260/2068712926.py\"\u001b[1;36m, line \u001b[1;32m1\u001b[0m\n\u001b[1;33m    &='Vartika'\u001b[0m\n\u001b[1;37m    ^\u001b[0m\n\u001b[1;31mSyntaxError\u001b[0m\u001b[1;31m:\u001b[0m invalid syntax\n"
     ]
    }
   ],
   "source": [
    "&='Vartika'\n",
    "print(&)"
   ]
  },
  {
   "cell_type": "code",
   "execution_count": 69,
   "id": "5d6001ad",
   "metadata": {},
   "outputs": [
    {
     "ename": "SyntaxError",
     "evalue": "invalid syntax (Temp/ipykernel_13260/850611557.py, line 1)",
     "output_type": "error",
     "traceback": [
      "\u001b[1;36m  File \u001b[1;32m\"C:\\Users\\VARTIK~1\\AppData\\Local\\Temp/ipykernel_13260/850611557.py\"\u001b[1;36m, line \u001b[1;32m1\u001b[0m\n\u001b[1;33m    name$='vartika'\u001b[0m\n\u001b[1;37m        ^\u001b[0m\n\u001b[1;31mSyntaxError\u001b[0m\u001b[1;31m:\u001b[0m invalid syntax\n"
     ]
    }
   ],
   "source": [
    "name$='vartika'\n",
    "print(name$)"
   ]
  },
  {
   "cell_type": "code",
   "execution_count": 70,
   "id": "6bb441a9",
   "metadata": {},
   "outputs": [
    {
     "ename": "NameError",
     "evalue": "name 'vartika' is not defined",
     "output_type": "error",
     "traceback": [
      "\u001b[1;31m---------------------------------------------------------------------------\u001b[0m",
      "\u001b[1;31mNameError\u001b[0m                                 Traceback (most recent call last)",
      "\u001b[1;32mC:\\Users\\VARTIK~1\\AppData\\Local\\Temp/ipykernel_13260/4098890138.py\u001b[0m in \u001b[0;36m<module>\u001b[1;34m\u001b[0m\n\u001b[1;32m----> 1\u001b[1;33m \u001b[0mname1\u001b[0m\u001b[1;33m=\u001b[0m\u001b[1;33m(\u001b[0m\u001b[0mvartika\u001b[0m\u001b[1;33m)\u001b[0m\u001b[1;33m\u001b[0m\u001b[1;33m\u001b[0m\u001b[0m\n\u001b[0m\u001b[0;32m      2\u001b[0m \u001b[0mprint\u001b[0m\u001b[1;33m(\u001b[0m\u001b[0mname1\u001b[0m\u001b[1;33m)\u001b[0m\u001b[1;33m\u001b[0m\u001b[1;33m\u001b[0m\u001b[0m\n",
      "\u001b[1;31mNameError\u001b[0m: name 'vartika' is not defined"
     ]
    }
   ],
   "source": [
    "name1=(vartika)\n",
    "print(name1)"
   ]
  },
  {
   "cell_type": "code",
   "execution_count": 71,
   "id": "39b38b56",
   "metadata": {},
   "outputs": [
    {
     "name": "stdout",
     "output_type": "stream",
     "text": [
      "Vartika\n"
     ]
    }
   ],
   "source": [
    "name1 ='Vartika'\n",
    "print(name1)"
   ]
  },
  {
   "cell_type": "code",
   "execution_count": 72,
   "id": "b062bf05",
   "metadata": {},
   "outputs": [
    {
     "ename": "SyntaxError",
     "evalue": "invalid syntax (Temp/ipykernel_13260/1621182694.py, line 1)",
     "output_type": "error",
     "traceback": [
      "\u001b[1;36m  File \u001b[1;32m\"C:\\Users\\VARTIK~1\\AppData\\Local\\Temp/ipykernel_13260/1621182694.py\"\u001b[1;36m, line \u001b[1;32m1\u001b[0m\n\u001b[1;33m    name@ ='vartika'\u001b[0m\n\u001b[1;37m          ^\u001b[0m\n\u001b[1;31mSyntaxError\u001b[0m\u001b[1;31m:\u001b[0m invalid syntax\n"
     ]
    }
   ],
   "source": [
    "name@ ='vartika'\n",
    "print(name@)"
   ]
  },
  {
   "cell_type": "code",
   "execution_count": 73,
   "id": "0177bcdf",
   "metadata": {},
   "outputs": [
    {
     "name": "stdout",
     "output_type": "stream",
     "text": [
      "Vartika\n"
     ]
    }
   ],
   "source": [
    "name_0 ='Vartika'\n",
    "print(name_0)"
   ]
  },
  {
   "cell_type": "markdown",
   "id": "caf12463",
   "metadata": {},
   "source": [
    "# taking user input and type conversion"
   ]
  },
  {
   "cell_type": "code",
   "execution_count": 74,
   "id": "e5ca5976",
   "metadata": {},
   "outputs": [
    {
     "name": "stdout",
     "output_type": "stream",
     "text": [
      "32\n"
     ]
    },
    {
     "data": {
      "text/plain": [
       "'32'"
      ]
     },
     "execution_count": 74,
     "metadata": {},
     "output_type": "execute_result"
    }
   ],
   "source": [
    "input()"
   ]
  },
  {
   "cell_type": "code",
   "execution_count": 75,
   "id": "23a171d6",
   "metadata": {},
   "outputs": [
    {
     "name": "stdout",
     "output_type": "stream",
     "text": [
      "apna naam bataVartika\n"
     ]
    },
    {
     "data": {
      "text/plain": [
       "'Vartika'"
      ]
     },
     "execution_count": 75,
     "metadata": {},
     "output_type": "execute_result"
    }
   ],
   "source": [
    "input('apna naam bata')"
   ]
  },
  {
   "cell_type": "code",
   "execution_count": 76,
   "id": "07e802e0",
   "metadata": {},
   "outputs": [
    {
     "ename": "NameError",
     "evalue": "name 'firstinput' is not defined",
     "output_type": "error",
     "traceback": [
      "\u001b[1;31m---------------------------------------------------------------------------\u001b[0m",
      "\u001b[1;31mNameError\u001b[0m                                 Traceback (most recent call last)",
      "\u001b[1;32mC:\\Users\\VARTIK~1\\AppData\\Local\\Temp/ipykernel_13260/3073360854.py\u001b[0m in \u001b[0;36m<module>\u001b[1;34m\u001b[0m\n\u001b[1;32m----> 1\u001b[1;33m \u001b[0mfirstinput\u001b[0m\u001b[1;33m(\u001b[0m\u001b[1;34m'enter the first number'\u001b[0m\u001b[1;33m)\u001b[0m\u001b[1;33m\u001b[0m\u001b[1;33m\u001b[0m\u001b[0m\n\u001b[0m",
      "\u001b[1;31mNameError\u001b[0m: name 'firstinput' is not defined"
     ]
    }
   ],
   "source": [
    "firstinput('enter the first number')"
   ]
  },
  {
   "cell_type": "markdown",
   "id": "3270ca72",
   "metadata": {},
   "source": [
    "##### -type function tells the datatype"
   ]
  },
  {
   "cell_type": "code",
   "execution_count": 77,
   "id": "d19e7fd8",
   "metadata": {},
   "outputs": [
    {
     "data": {
      "text/plain": [
       "int"
      ]
     },
     "execution_count": 77,
     "metadata": {},
     "output_type": "execute_result"
    }
   ],
   "source": [
    "#type\n",
    "type(1)"
   ]
  },
  {
   "cell_type": "code",
   "execution_count": 78,
   "id": "d4cc78ac",
   "metadata": {},
   "outputs": [
    {
     "data": {
      "text/plain": [
       "bool"
      ]
     },
     "execution_count": 78,
     "metadata": {},
     "output_type": "execute_result"
    }
   ],
   "source": [
    "type(True)"
   ]
  },
  {
   "cell_type": "code",
   "execution_count": 79,
   "id": "c45b13d5",
   "metadata": {},
   "outputs": [
    {
     "data": {
      "text/plain": [
       "float"
      ]
     },
     "execution_count": 79,
     "metadata": {},
     "output_type": "execute_result"
    }
   ],
   "source": [
    "type(1.3)"
   ]
  },
  {
   "cell_type": "code",
   "execution_count": 80,
   "id": "270b538e",
   "metadata": {},
   "outputs": [
    {
     "data": {
      "text/plain": [
       "set"
      ]
     },
     "execution_count": 80,
     "metadata": {},
     "output_type": "execute_result"
    }
   ],
   "source": [
    "type({1,2,3,4})"
   ]
  },
  {
   "cell_type": "code",
   "execution_count": 81,
   "id": "6146b167",
   "metadata": {},
   "outputs": [
    {
     "data": {
      "text/plain": [
       "list"
      ]
     },
     "execution_count": 81,
     "metadata": {},
     "output_type": "execute_result"
    }
   ],
   "source": [
    "type([1,2,3,4])"
   ]
  },
  {
   "cell_type": "code",
   "execution_count": 82,
   "id": "de193ee4",
   "metadata": {},
   "outputs": [
    {
     "data": {
      "text/plain": [
       "str"
      ]
     },
     "execution_count": 82,
     "metadata": {},
     "output_type": "execute_result"
    }
   ],
   "source": [
    "type('1')"
   ]
  },
  {
   "cell_type": "code",
   "execution_count": 83,
   "id": "2b972782",
   "metadata": {},
   "outputs": [
    {
     "name": "stdout",
     "output_type": "stream",
     "text": [
      "Enter the first number4\n",
      "Enter the second number6\n"
     ]
    }
   ],
   "source": [
    "first_num = input('Enter the first number')\n",
    "second_num = input('Enter the second number')"
   ]
  },
  {
   "cell_type": "code",
   "execution_count": 84,
   "id": "fa9123c1",
   "metadata": {},
   "outputs": [
    {
     "name": "stdout",
     "output_type": "stream",
     "text": [
      "46\n"
     ]
    }
   ],
   "source": [
    "print(first_num + second_num)"
   ]
  },
  {
   "cell_type": "markdown",
   "id": "713638d8",
   "metadata": {},
   "source": [
    "# Types of type conversion\n",
    "\n",
    "#### -implicit - automatic type conversion\n",
    "#### -explicit - defined by the user in the program"
   ]
  },
  {
   "cell_type": "code",
   "execution_count": 86,
   "id": "5cdaded9",
   "metadata": {},
   "outputs": [
    {
     "ename": "SyntaxError",
     "evalue": "invalid syntax (Temp/ipykernel_13260/742551852.py, line 1)",
     "output_type": "error",
     "traceback": [
      "\u001b[1;36m  File \u001b[1;32m\"C:\\Users\\VARTIK~1\\AppData\\Local\\Temp/ipykernel_13260/742551852.py\"\u001b[1;36m, line \u001b[1;32m1\u001b[0m\n\u001b[1;33m    in[4+5.5]\u001b[0m\n\u001b[1;37m    ^\u001b[0m\n\u001b[1;31mSyntaxError\u001b[0m\u001b[1;31m:\u001b[0m invalid syntax\n"
     ]
    }
   ],
   "source": [
    "in[4+5.5]"
   ]
  },
  {
   "cell_type": "code",
   "execution_count": 87,
   "id": "3c568a28",
   "metadata": {},
   "outputs": [
    {
     "data": {
      "text/plain": [
       "9.5"
      ]
     },
     "execution_count": 87,
     "metadata": {},
     "output_type": "execute_result"
    }
   ],
   "source": [
    "4+5.5"
   ]
  },
  {
   "cell_type": "code",
   "execution_count": 88,
   "id": "7a5c0357",
   "metadata": {},
   "outputs": [
    {
     "data": {
      "text/plain": [
       "(10+6j)"
      ]
     },
     "execution_count": 88,
     "metadata": {},
     "output_type": "execute_result"
    }
   ],
   "source": [
    "5+5+6j"
   ]
  },
  {
   "cell_type": "code",
   "execution_count": 89,
   "id": "f4cbdb0c",
   "metadata": {},
   "outputs": [
    {
     "data": {
      "text/plain": [
       "0"
      ]
     },
     "execution_count": 89,
     "metadata": {},
     "output_type": "execute_result"
    }
   ],
   "source": [
    "7*0"
   ]
  },
  {
   "cell_type": "code",
   "execution_count": 90,
   "id": "75861c39",
   "metadata": {},
   "outputs": [
    {
     "data": {
      "text/plain": [
       "4"
      ]
     },
     "execution_count": 90,
     "metadata": {},
     "output_type": "execute_result"
    }
   ],
   "source": [
    "#int\n",
    "int(4.6)"
   ]
  },
  {
   "cell_type": "code",
   "execution_count": 91,
   "id": "cde4ea7a",
   "metadata": {},
   "outputs": [
    {
     "data": {
      "text/plain": [
       "'5'"
      ]
     },
     "execution_count": 91,
     "metadata": {},
     "output_type": "execute_result"
    }
   ],
   "source": [
    "str(5)"
   ]
  },
  {
   "cell_type": "code",
   "execution_count": 92,
   "id": "a5b4836d",
   "metadata": {},
   "outputs": [
    {
     "data": {
      "text/plain": [
       "True"
      ]
     },
     "execution_count": 92,
     "metadata": {},
     "output_type": "execute_result"
    }
   ],
   "source": [
    "bool(88)"
   ]
  },
  {
   "cell_type": "code",
   "execution_count": 93,
   "id": "0b46ec13",
   "metadata": {},
   "outputs": [
    {
     "data": {
      "text/plain": [
       "['h', 'e', 'l', 'l', 'o']"
      ]
     },
     "execution_count": 93,
     "metadata": {},
     "output_type": "execute_result"
    }
   ],
   "source": [
    "list('hello')"
   ]
  },
  {
   "cell_type": "code",
   "execution_count": 94,
   "id": "3c1a50a2",
   "metadata": {},
   "outputs": [
    {
     "ename": "ValueError",
     "evalue": "dictionary update sequence element #0 has length 1; 2 is required",
     "output_type": "error",
     "traceback": [
      "\u001b[1;31m---------------------------------------------------------------------------\u001b[0m",
      "\u001b[1;31mValueError\u001b[0m                                Traceback (most recent call last)",
      "\u001b[1;32mC:\\Users\\VARTIK~1\\AppData\\Local\\Temp/ipykernel_13260/3427426603.py\u001b[0m in \u001b[0;36m<module>\u001b[1;34m\u001b[0m\n\u001b[1;32m----> 1\u001b[1;33m \u001b[0mdict\u001b[0m\u001b[1;33m(\u001b[0m\u001b[1;34m'Kolkta'\u001b[0m\u001b[1;33m)\u001b[0m\u001b[1;33m\u001b[0m\u001b[1;33m\u001b[0m\u001b[0m\n\u001b[0m",
      "\u001b[1;31mValueError\u001b[0m: dictionary update sequence element #0 has length 1; 2 is required"
     ]
    }
   ],
   "source": [
    "dict('Kolkta')"
   ]
  },
  {
   "cell_type": "code",
   "execution_count": 95,
   "id": "58409e3d",
   "metadata": {},
   "outputs": [
    {
     "name": "stdout",
     "output_type": "stream",
     "text": [
      "Enter the first number45\n",
      "enter the second number65\n"
     ]
    },
    {
     "data": {
      "text/plain": [
       "110"
      ]
     },
     "execution_count": 95,
     "metadata": {},
     "output_type": "execute_result"
    }
   ],
   "source": [
    " first_num = input('Enter the first number')\n",
    " second_num = input('enter the second number')\n",
    "\n",
    "int(first_num)+int(second_num)"
   ]
  },
  {
   "cell_type": "code",
   "execution_count": 96,
   "id": "74aac064",
   "metadata": {},
   "outputs": [
    {
     "name": "stdout",
     "output_type": "stream",
     "text": [
      "enter the first number23\n",
      "Enter the second number5\n"
     ]
    },
    {
     "data": {
      "text/plain": [
       "28"
      ]
     },
     "execution_count": 96,
     "metadata": {},
     "output_type": "execute_result"
    }
   ],
   "source": [
    "first_num =int(input('enter the first number'))\n",
    "second_num = int(input('Enter the second number'))\n",
    " \n",
    "first_num+second_num"
   ]
  },
  {
   "cell_type": "code",
   "execution_count": 97,
   "id": "9daa1ac5",
   "metadata": {},
   "outputs": [
    {
     "name": "stdout",
     "output_type": "stream",
     "text": [
      "enter 1st number2\n",
      "enter 2nd number2\n"
     ]
    },
    {
     "data": {
      "text/plain": [
       "4"
      ]
     },
     "execution_count": 97,
     "metadata": {},
     "output_type": "execute_result"
    }
   ],
   "source": [
    "a = int(input('enter 1st number'))\n",
    "b = int(input('enter 2nd number'))\n",
    "\n",
    "a+b"
   ]
  },
  {
   "cell_type": "markdown",
   "id": "676d4068",
   "metadata": {},
   "source": [
    "# Literals"
   ]
  },
  {
   "cell_type": "markdown",
   "id": "b338f096",
   "metadata": {},
   "source": [
    "literal is a raw data given in a variable. \n",
    "\n",
    "## Types\n",
    "\n",
    "###### -Numeric Literals \n",
    "###### -String Literals\n",
    "###### -Boolean Literals\n",
    "###### -Special literals"
   ]
  },
  {
   "cell_type": "markdown",
   "id": "e90bc808",
   "metadata": {},
   "source": [
    "### 1. Numeric Literals"
   ]
  },
  {
   "cell_type": "code",
   "execution_count": 98,
   "id": "26292695",
   "metadata": {},
   "outputs": [
    {
     "name": "stdout",
     "output_type": "stream",
     "text": [
      "10 100 200 300\n",
      "10.6 150.0 0.0015\n",
      "3.14j 3.14 0.0\n"
     ]
    }
   ],
   "source": [
    "a=0b1010 #Binary Literal\n",
    "b=100 #Decimal Literal\n",
    "c=0o310 #Octal Literal\n",
    "d=0x12c #Hexadecimal Literal\n",
    "\n",
    "#Float Literal\n",
    "float_1 =10.6\n",
    "float_2 = 1.5e2\n",
    "float_3 = 1.5e-3\n",
    "\n",
    "#Complex Literal\n",
    "x = 3.14j\n",
    "\n",
    "print(a,b,c,d)\n",
    "print(float_1,float_2,float_3)\n",
    "print(x, x.imag, x.real)"
   ]
  },
  {
   "cell_type": "markdown",
   "id": "09fc7e03",
   "metadata": {},
   "source": [
    "### 2.String literals"
   ]
  },
  {
   "cell_type": "code",
   "execution_count": 102,
   "id": "f8030e81",
   "metadata": {},
   "outputs": [
    {
     "name": "stdout",
     "output_type": "stream",
     "text": [
      "this is Python\n",
      "This is Python\n",
      "c\n",
      "This is a multiline string with more than one line code.\n",
      "😀😆🤣\n",
      "raw \\n string\n"
     ]
    }
   ],
   "source": [
    "string ='this is Python'\n",
    "strings =\"This is Python\"\n",
    "char = \"c\"\n",
    "multiline_str =\"\"\"This is a multiline string with more than one line code.\"\"\"\n",
    "unicode =u\"\\U0001f600\\U0001F606\\U0001F923\"\n",
    "raw_str = r\"raw \\n string\"\n",
    "\n",
    "print(string)\n",
    "print(strings)\n",
    "print(char)\n",
    "print(multiline_str)\n",
    "print(unicode)\n",
    "print(raw_str)\n"
   ]
  },
  {
   "cell_type": "markdown",
   "id": "87615f8b",
   "metadata": {},
   "source": [
    "### 3. Boolean Literal"
   ]
  },
  {
   "cell_type": "code",
   "execution_count": 104,
   "id": "bd95bdb4",
   "metadata": {},
   "outputs": [
    {
     "name": "stdout",
     "output_type": "stream",
     "text": [
      "a: 5\n",
      "b: 10\n"
     ]
    }
   ],
   "source": [
    "a=True+ 4\n",
    "b=False + 10\n",
    "\n",
    "print(\"a:\",a)\n",
    "print(\"b:\",b)"
   ]
  },
  {
   "cell_type": "markdown",
   "id": "a76edca8",
   "metadata": {},
   "source": [
    "### 4. Special Literal"
   ]
  },
  {
   "cell_type": "code",
   "execution_count": 105,
   "id": "f1bce33e",
   "metadata": {},
   "outputs": [
    {
     "name": "stdout",
     "output_type": "stream",
     "text": [
      "None\n"
     ]
    }
   ],
   "source": [
    "a=None\n",
    "print(a)"
   ]
  },
  {
   "cell_type": "code",
   "execution_count": 106,
   "id": "6356d7ad",
   "metadata": {},
   "outputs": [],
   "source": [
    "c=34+45"
   ]
  },
  {
   "cell_type": "code",
   "execution_count": 107,
   "id": "49f961c5",
   "metadata": {},
   "outputs": [
    {
     "data": {
      "text/plain": [
       "3.14j"
      ]
     },
     "execution_count": 107,
     "metadata": {},
     "output_type": "execute_result"
    }
   ],
   "source": [
    "x"
   ]
  },
  {
   "cell_type": "code",
   "execution_count": 108,
   "id": "8725f900",
   "metadata": {},
   "outputs": [],
   "source": [
    "k=None"
   ]
  },
  {
   "cell_type": "code",
   "execution_count": 109,
   "id": "0c770117",
   "metadata": {},
   "outputs": [],
   "source": [
    "# variable declaration\n",
    "k=None"
   ]
  },
  {
   "cell_type": "markdown",
   "id": "b59f0c90",
   "metadata": {},
   "source": [
    "# Operators\n",
    "\n",
    " operators are used to perform operations on variables and values. Python has the following operators:\n",
    "\n",
    "- Arithmetic operators\n",
    "- Comparison operator\n",
    "- Logical operators \n",
    "- bitwise operators\n",
    "- Assignment operators \n",
    "- Identity operators\n",
    "- Membership operator"
   ]
  },
  {
   "cell_type": "markdown",
   "id": "1b132585",
   "metadata": {},
   "source": [
    "### 1. Arithmetic operators\n"
   ]
  },
  {
   "cell_type": "code",
   "execution_count": 2,
   "id": "beaa2ec0",
   "metadata": {},
   "outputs": [
    {
     "name": "stdout",
     "output_type": "stream",
     "text": [
      "13\n"
     ]
    }
   ],
   "source": [
    "x=6\n",
    "y=7\n",
    "\n",
    "print(x+y)"
   ]
  },
  {
   "cell_type": "code",
   "execution_count": 3,
   "id": "3e5fadfe",
   "metadata": {},
   "outputs": [
    {
     "name": "stdout",
     "output_type": "stream",
     "text": [
      "-1\n"
     ]
    }
   ],
   "source": [
    "print(x-y)"
   ]
  },
  {
   "cell_type": "code",
   "execution_count": 4,
   "id": "55df9003",
   "metadata": {},
   "outputs": [
    {
     "name": "stdout",
     "output_type": "stream",
     "text": [
      "42\n"
     ]
    }
   ],
   "source": [
    "print(x*y)"
   ]
  },
  {
   "cell_type": "code",
   "execution_count": 5,
   "id": "dfe4b115",
   "metadata": {},
   "outputs": [
    {
     "name": "stdout",
     "output_type": "stream",
     "text": [
      "6\n"
     ]
    }
   ],
   "source": [
    "print(x%y)"
   ]
  },
  {
   "cell_type": "code",
   "execution_count": 6,
   "id": "ba496529",
   "metadata": {},
   "outputs": [
    {
     "name": "stdout",
     "output_type": "stream",
     "text": [
      "0.8571428571428571\n"
     ]
    }
   ],
   "source": [
    "print(x/y)"
   ]
  },
  {
   "cell_type": "code",
   "execution_count": 7,
   "id": "3fde9d6d",
   "metadata": {},
   "outputs": [
    {
     "name": "stdout",
     "output_type": "stream",
     "text": [
      "279936\n"
     ]
    }
   ],
   "source": [
    "print(x ** y)"
   ]
  },
  {
   "cell_type": "code",
   "execution_count": 8,
   "id": "e08117ed",
   "metadata": {},
   "outputs": [
    {
     "name": "stdout",
     "output_type": "stream",
     "text": [
      "0\n"
     ]
    }
   ],
   "source": [
    "print(x // y)"
   ]
  },
  {
   "cell_type": "markdown",
   "id": "fcceb733",
   "metadata": {},
   "source": [
    "### 2.Comparison operator"
   ]
  },
  {
   "cell_type": "code",
   "execution_count": 9,
   "id": "c9930628",
   "metadata": {},
   "outputs": [
    {
     "name": "stdout",
     "output_type": "stream",
     "text": [
      "False\n"
     ]
    }
   ],
   "source": [
    "print(x>y)"
   ]
  },
  {
   "cell_type": "code",
   "execution_count": 10,
   "id": "84612016",
   "metadata": {},
   "outputs": [
    {
     "name": "stdout",
     "output_type": "stream",
     "text": [
      "True\n"
     ]
    }
   ],
   "source": [
    "print(x<y)"
   ]
  },
  {
   "cell_type": "code",
   "execution_count": 11,
   "id": "82713489",
   "metadata": {},
   "outputs": [
    {
     "name": "stdout",
     "output_type": "stream",
     "text": [
      "False\n"
     ]
    }
   ],
   "source": [
    "print(x>=y)"
   ]
  },
  {
   "cell_type": "code",
   "execution_count": 12,
   "id": "d9db1613",
   "metadata": {},
   "outputs": [
    {
     "name": "stdout",
     "output_type": "stream",
     "text": [
      "True\n"
     ]
    }
   ],
   "source": [
    "print(x<=y)"
   ]
  },
  {
   "cell_type": "code",
   "execution_count": 13,
   "id": "724300cf",
   "metadata": {},
   "outputs": [
    {
     "name": "stdout",
     "output_type": "stream",
     "text": [
      "False\n"
     ]
    }
   ],
   "source": [
    "print(x==y)"
   ]
  },
  {
   "cell_type": "code",
   "execution_count": 14,
   "id": "37c5ecc4",
   "metadata": {},
   "outputs": [
    {
     "name": "stdout",
     "output_type": "stream",
     "text": [
      "True\n"
     ]
    }
   ],
   "source": [
    "print(x!=y)"
   ]
  },
  {
   "cell_type": "markdown",
   "id": "080b7991",
   "metadata": {},
   "source": [
    "### 3.Logical operator"
   ]
  },
  {
   "cell_type": "code",
   "execution_count": 15,
   "id": "8c69dbb0",
   "metadata": {},
   "outputs": [
    {
     "name": "stdout",
     "output_type": "stream",
     "text": [
      "True\n"
     ]
    }
   ],
   "source": [
    "x=True\n",
    "y=False\n",
    "\n",
    "print(x or y)"
   ]
  },
  {
   "cell_type": "code",
   "execution_count": 16,
   "id": "d95a12a9",
   "metadata": {},
   "outputs": [
    {
     "name": "stdout",
     "output_type": "stream",
     "text": [
      "False\n"
     ]
    }
   ],
   "source": [
    "print(x and y)"
   ]
  },
  {
   "cell_type": "code",
   "execution_count": 17,
   "id": "4c0b0581",
   "metadata": {},
   "outputs": [
    {
     "name": "stdout",
     "output_type": "stream",
     "text": [
      "False\n"
     ]
    }
   ],
   "source": [
    "print(not x)"
   ]
  },
  {
   "cell_type": "code",
   "execution_count": 18,
   "id": "593f48bb",
   "metadata": {},
   "outputs": [
    {
     "name": "stdout",
     "output_type": "stream",
     "text": [
      "True\n"
     ]
    }
   ],
   "source": [
    "print(not y)"
   ]
  },
  {
   "cell_type": "markdown",
   "id": "eef6b627",
   "metadata": {},
   "source": [
    "### 4.Bitwise operators\n",
    "\n",
    "works on binary operators"
   ]
  },
  {
   "cell_type": "code",
   "execution_count": 21,
   "id": "1e7f7fc5",
   "metadata": {},
   "outputs": [],
   "source": [
    "x=2\n",
    "y=3"
   ]
  },
  {
   "cell_type": "code",
   "execution_count": 22,
   "id": "aafaf58b",
   "metadata": {},
   "outputs": [
    {
     "name": "stdout",
     "output_type": "stream",
     "text": [
      "2\n"
     ]
    }
   ],
   "source": [
    "print(x & y)"
   ]
  },
  {
   "cell_type": "code",
   "execution_count": 23,
   "id": "bef83aa2",
   "metadata": {},
   "outputs": [
    {
     "name": "stdout",
     "output_type": "stream",
     "text": [
      "3\n"
     ]
    }
   ],
   "source": [
    "print(x | y)"
   ]
  },
  {
   "cell_type": "code",
   "execution_count": 24,
   "id": "2b17d165",
   "metadata": {},
   "outputs": [
    {
     "name": "stdout",
     "output_type": "stream",
     "text": [
      "0\n"
     ]
    }
   ],
   "source": [
    "print(x >> 2)"
   ]
  },
  {
   "cell_type": "code",
   "execution_count": 25,
   "id": "9aee391c",
   "metadata": {},
   "outputs": [
    {
     "name": "stdout",
     "output_type": "stream",
     "text": [
      "24\n"
     ]
    }
   ],
   "source": [
    "print(y<<3)"
   ]
  },
  {
   "cell_type": "code",
   "execution_count": 27,
   "id": "ab208a9f",
   "metadata": {},
   "outputs": [
    {
     "name": "stdout",
     "output_type": "stream",
     "text": [
      "-3\n"
     ]
    }
   ],
   "source": [
    "print(~x)"
   ]
  },
  {
   "cell_type": "markdown",
   "id": "1aa063ba",
   "metadata": {},
   "source": [
    "### 5.Assignment operator"
   ]
  },
  {
   "cell_type": "code",
   "execution_count": 28,
   "id": "86e3d677",
   "metadata": {},
   "outputs": [
    {
     "name": "stdout",
     "output_type": "stream",
     "text": [
      "3\n"
     ]
    }
   ],
   "source": [
    "a=3\n",
    "print(a)"
   ]
  },
  {
   "cell_type": "code",
   "execution_count": 31,
   "id": "fc93139f",
   "metadata": {},
   "outputs": [
    {
     "name": "stdout",
     "output_type": "stream",
     "text": [
      "6\n"
     ]
    }
   ],
   "source": [
    "a +=3\n",
    "print(a)"
   ]
  },
  {
   "cell_type": "code",
   "execution_count": 32,
   "id": "5508b0a8",
   "metadata": {},
   "outputs": [
    {
     "name": "stdout",
     "output_type": "stream",
     "text": [
      "3\n"
     ]
    }
   ],
   "source": [
    "a-=3\n",
    "print(a)"
   ]
  },
  {
   "cell_type": "code",
   "execution_count": 33,
   "id": "599c7ead",
   "metadata": {},
   "outputs": [
    {
     "name": "stdout",
     "output_type": "stream",
     "text": [
      "6\n"
     ]
    }
   ],
   "source": [
    "a=a+3\n",
    "print(a)"
   ]
  },
  {
   "cell_type": "markdown",
   "id": "562ef6ca",
   "metadata": {},
   "source": [
    "### 6.Identity operator"
   ]
  },
  {
   "cell_type": "code",
   "execution_count": 34,
   "id": "82f9010f",
   "metadata": {},
   "outputs": [
    {
     "name": "stdout",
     "output_type": "stream",
     "text": [
      "True\n"
     ]
    }
   ],
   "source": [
    "a=4\n",
    "b=4\n",
    "\n",
    "print(a is b)"
   ]
  },
  {
   "cell_type": "code",
   "execution_count": 38,
   "id": "5956a8e3",
   "metadata": {},
   "outputs": [],
   "source": [
    "a= 'Hello'"
   ]
  },
  {
   "cell_type": "code",
   "execution_count": 39,
   "id": "0c6a2ffd",
   "metadata": {},
   "outputs": [
    {
     "data": {
      "text/plain": [
       "2838887697776"
      ]
     },
     "execution_count": 39,
     "metadata": {},
     "output_type": "execute_result"
    }
   ],
   "source": [
    "id(a)"
   ]
  },
  {
   "cell_type": "code",
   "execution_count": 40,
   "id": "fba21ef1",
   "metadata": {},
   "outputs": [],
   "source": [
    "b = 'Hello'"
   ]
  },
  {
   "cell_type": "code",
   "execution_count": 41,
   "id": "fb0e9bcb",
   "metadata": {},
   "outputs": [
    {
     "data": {
      "text/plain": [
       "2838887697776"
      ]
     },
     "execution_count": 41,
     "metadata": {},
     "output_type": "execute_result"
    }
   ],
   "source": [
    "id(b)"
   ]
  },
  {
   "cell_type": "code",
   "execution_count": 43,
   "id": "6f66269a",
   "metadata": {},
   "outputs": [],
   "source": [
    "a = 5\n",
    "b = 5"
   ]
  },
  {
   "cell_type": "code",
   "execution_count": 44,
   "id": "36477ebd",
   "metadata": {},
   "outputs": [
    {
     "data": {
      "text/plain": [
       "2838806358448"
      ]
     },
     "execution_count": 44,
     "metadata": {},
     "output_type": "execute_result"
    }
   ],
   "source": [
    "id(a)"
   ]
  },
  {
   "cell_type": "code",
   "execution_count": 45,
   "id": "aa97ccf4",
   "metadata": {},
   "outputs": [
    {
     "data": {
      "text/plain": [
       "2838806358448"
      ]
     },
     "execution_count": 45,
     "metadata": {},
     "output_type": "execute_result"
    }
   ],
   "source": [
    "id(b)"
   ]
  },
  {
   "cell_type": "code",
   "execution_count": 46,
   "id": "20816377",
   "metadata": {},
   "outputs": [],
   "source": [
    "a = 256\n",
    "b = 256"
   ]
  },
  {
   "cell_type": "code",
   "execution_count": 47,
   "id": "69b52885",
   "metadata": {},
   "outputs": [
    {
     "data": {
      "text/plain": [
       "2838806555024"
      ]
     },
     "execution_count": 47,
     "metadata": {},
     "output_type": "execute_result"
    }
   ],
   "source": [
    "id(a)"
   ]
  },
  {
   "cell_type": "code",
   "execution_count": 48,
   "id": "1660a0c2",
   "metadata": {},
   "outputs": [
    {
     "data": {
      "text/plain": [
       "2838806555024"
      ]
     },
     "execution_count": 48,
     "metadata": {},
     "output_type": "execute_result"
    }
   ],
   "source": [
    "id(b)"
   ]
  },
  {
   "cell_type": "code",
   "execution_count": 49,
   "id": "c7104c76",
   "metadata": {},
   "outputs": [],
   "source": [
    "a = 257\n",
    "b = 257"
   ]
  },
  {
   "cell_type": "code",
   "execution_count": 50,
   "id": "fbfbdcf0",
   "metadata": {},
   "outputs": [
    {
     "data": {
      "text/plain": [
       "2838887685072"
      ]
     },
     "execution_count": 50,
     "metadata": {},
     "output_type": "execute_result"
    }
   ],
   "source": [
    "id(a)"
   ]
  },
  {
   "cell_type": "code",
   "execution_count": 51,
   "id": "e5cbf644",
   "metadata": {},
   "outputs": [
    {
     "data": {
      "text/plain": [
       "2838887684144"
      ]
     },
     "execution_count": 51,
     "metadata": {},
     "output_type": "execute_result"
    }
   ],
   "source": [
    "id(b)"
   ]
  },
  {
   "cell_type": "code",
   "execution_count": 52,
   "id": "7b9e5af5",
   "metadata": {},
   "outputs": [
    {
     "data": {
      "text/plain": [
       "False"
      ]
     },
     "execution_count": 52,
     "metadata": {},
     "output_type": "execute_result"
    }
   ],
   "source": [
    "a is b"
   ]
  },
  {
   "cell_type": "markdown",
   "id": "949a445b",
   "metadata": {},
   "source": [
    "### 7.Membership operator"
   ]
  },
  {
   "cell_type": "code",
   "execution_count": 57,
   "id": "5c2d94a9",
   "metadata": {},
   "outputs": [
    {
     "name": "stdout",
     "output_type": "stream",
     "text": [
      "True\n"
     ]
    }
   ],
   "source": [
    "x = 'Delhi'\n",
    "print('Del' in x)"
   ]
  },
  {
   "cell_type": "markdown",
   "id": "b1a97145",
   "metadata": {},
   "source": [
    "# If else statement"
   ]
  },
  {
   "cell_type": "code",
   "execution_count": 15,
   "id": "dee0c8ce",
   "metadata": {},
   "outputs": [
    {
     "name": "stdout",
     "output_type": "stream",
     "text": [
      "Enter your emailvartika@gmail.com\n",
      "Enter your password677\n",
      "Password Incorrect\n",
      "Please type your password again1234\n",
      "Finally correct\n"
     ]
    }
   ],
   "source": [
    "# taking user input\n",
    "email = input(\"Enter your email\")\n",
    "password = input('Enter your password')\n",
    "\n",
    "\n",
    "# check\n",
    "if email == 'vartika@gmail.com' and password =='1234':\n",
    "    print('Welcome')\n",
    "    # do this\n",
    "elif email == 'vartika@gmail.com' and password != '1234':\n",
    "    print('Password Incorrect')\n",
    "    password = input('Please type your password again')\n",
    "    if password =='1234':\n",
    "        print('Finally correct')\n",
    "    else:\n",
    "        print('still incorrect')\n",
    "else:\n",
    "    print('Incorrect credentials')\n",
    "    # do this\n",
    "    \n",
    "\n"
   ]
  },
  {
   "cell_type": "markdown",
   "id": "5112ada1",
   "metadata": {},
   "source": [
    "# Indentation"
   ]
  },
  {
   "cell_type": "code",
   "execution_count": 29,
   "id": "5e427a26",
   "metadata": {},
   "outputs": [
    {
     "name": "stdout",
     "output_type": "stream",
     "text": [
      "line 1\n",
      "line2\n",
      "line 5\n"
     ]
    }
   ],
   "source": [
    "name = 'xyz'\n",
    "if name == 'xyz':\n",
    "    print('line 1')\n",
    "    print('line2')\n",
    "    if 5 == 5:\n",
    "        print('line 5')\n",
    "else:\n",
    "    print('line3')\n",
    "    "
   ]
  },
  {
   "cell_type": "code",
   "execution_count": null,
   "id": "00d311d0",
   "metadata": {},
   "outputs": [
    {
     "name": "stdout",
     "output_type": "stream",
     "text": [
      "Enter your first number5\n",
      "Enter your second number876453\n"
     ]
    }
   ],
   "source": [
    "a = int(input('Enter your first number'))\n",
    "b = int(input('Enter your second number'))\n",
    "c = input('enter the operation')\n",
    "if c == \"+\":\n",
    "    print(a+b)\n",
    "elif c == \"-\":\n",
    "    print(a-b)\n",
    "elif c == \"*\":\n",
    "    print(a*b)\n",
    "else:\n",
    "    print(a/b)\n",
    "\n",
    "\n",
    "    "
   ]
  },
  {
   "cell_type": "code",
   "execution_count": null,
   "id": "464b9f60",
   "metadata": {},
   "outputs": [],
   "source": []
  },
  {
   "cell_type": "code",
   "execution_count": null,
   "id": "72dc0dc4",
   "metadata": {},
   "outputs": [],
   "source": []
  }
 ],
 "metadata": {
  "kernelspec": {
   "display_name": "Python 3 (ipykernel)",
   "language": "python",
   "name": "python3"
  },
  "language_info": {
   "codemirror_mode": {
    "name": "ipython",
    "version": 3
   },
   "file_extension": ".py",
   "mimetype": "text/x-python",
   "name": "python",
   "nbconvert_exporter": "python",
   "pygments_lexer": "ipython3",
   "version": "3.9.7"
  }
 },
 "nbformat": 4,
 "nbformat_minor": 5
}

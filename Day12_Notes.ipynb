{
 "cells": [
  {
   "cell_type": "markdown",
   "id": "3c0c0913",
   "metadata": {},
   "source": [
    "## 1.Tuples"
   ]
  },
  {
   "cell_type": "code",
   "execution_count": 1,
   "id": "8a3965c2",
   "metadata": {},
   "outputs": [],
   "source": [
    "# create"
   ]
  },
  {
   "cell_type": "code",
   "execution_count": 6,
   "id": "aa54191d",
   "metadata": {},
   "outputs": [
    {
     "name": "stdout",
     "output_type": "stream",
     "text": [
      "(1, 2, 3, 4, 5)\n"
     ]
    }
   ],
   "source": [
    "T1 = (1,2,3,4,5)\n",
    "print(T1)"
   ]
  },
  {
   "cell_type": "code",
   "execution_count": 7,
   "id": "6f591675",
   "metadata": {},
   "outputs": [
    {
     "name": "stdout",
     "output_type": "stream",
     "text": [
      "()\n"
     ]
    }
   ],
   "source": [
    "T1 = ()\n",
    "print(T1)"
   ]
  },
  {
   "cell_type": "code",
   "execution_count": 12,
   "id": "0380f8a9",
   "metadata": {},
   "outputs": [
    {
     "name": "stdout",
     "output_type": "stream",
     "text": [
      "('Hello', 4, 5, 6)\n"
     ]
    }
   ],
   "source": [
    "T3 = ('Hello',4,5,6)\n",
    "print(T3)"
   ]
  },
  {
   "cell_type": "code",
   "execution_count": 11,
   "id": "64cf0dea",
   "metadata": {},
   "outputs": [
    {
     "name": "stdout",
     "output_type": "stream",
     "text": [
      "(1, 2, 3, (4, 5))\n"
     ]
    }
   ],
   "source": [
    "T4 = (1,2,3,(4,5))\n",
    "print(T4)"
   ]
  },
  {
   "cell_type": "code",
   "execution_count": 14,
   "id": "3246113e",
   "metadata": {},
   "outputs": [
    {
     "name": "stdout",
     "output_type": "stream",
     "text": [
      "1\n"
     ]
    },
    {
     "data": {
      "text/plain": [
       "int"
      ]
     },
     "execution_count": 14,
     "metadata": {},
     "output_type": "execute_result"
    }
   ],
   "source": [
    "T5 =(1)\n",
    "print(T5)\n",
    "type(T5)"
   ]
  },
  {
   "cell_type": "code",
   "execution_count": 16,
   "id": "0b19d1a9",
   "metadata": {},
   "outputs": [
    {
     "data": {
      "text/plain": [
       "tuple"
      ]
     },
     "execution_count": 16,
     "metadata": {},
     "output_type": "execute_result"
    }
   ],
   "source": [
    "T5 = ('Hello',)\n",
    "type(T5)"
   ]
  },
  {
   "cell_type": "code",
   "execution_count": 17,
   "id": "b0614f2e",
   "metadata": {},
   "outputs": [
    {
     "name": "stdout",
     "output_type": "stream",
     "text": [
      "('G', 'o', 'a')\n"
     ]
    }
   ],
   "source": [
    "T6 = tuple('Goa')\n",
    "print(T6)"
   ]
  },
  {
   "cell_type": "code",
   "execution_count": 18,
   "id": "7b0776cf",
   "metadata": {},
   "outputs": [
    {
     "name": "stdout",
     "output_type": "stream",
     "text": [
      "(1, 2, 3, 4, 5)\n"
     ]
    }
   ],
   "source": [
    "T6 = tuple((1,2,3,4,5))\n",
    "print(T6)"
   ]
  },
  {
   "cell_type": "code",
   "execution_count": 19,
   "id": "f5242155",
   "metadata": {},
   "outputs": [],
   "source": [
    "#Access"
   ]
  },
  {
   "cell_type": "code",
   "execution_count": 21,
   "id": "cda02563",
   "metadata": {},
   "outputs": [
    {
     "name": "stdout",
     "output_type": "stream",
     "text": [
      "1\n",
      "5\n",
      "(1, 2, 3, 4)\n"
     ]
    }
   ],
   "source": [
    "T2 = (1,2,3,4,5)\n",
    "print(T2[0])\n",
    "print(T2[-1])\n",
    "print(T2[:4])"
   ]
  },
  {
   "cell_type": "code",
   "execution_count": 23,
   "id": "6d9d8e5a",
   "metadata": {},
   "outputs": [],
   "source": [
    "#Edit"
   ]
  },
  {
   "cell_type": "code",
   "execution_count": 25,
   "id": "be8559d9",
   "metadata": {},
   "outputs": [
    {
     "name": "stdout",
     "output_type": "stream",
     "text": [
      "[100, 2, 3, 4, 5]\n"
     ]
    }
   ],
   "source": [
    "L = [1,2,3,4,5]\n",
    "L[0] = 100\n",
    "print(L)"
   ]
  },
  {
   "cell_type": "code",
   "execution_count": 27,
   "id": "98989cfc",
   "metadata": {},
   "outputs": [],
   "source": [
    "# Tuples are immutable.editing is not possible"
   ]
  },
  {
   "cell_type": "code",
   "execution_count": 28,
   "id": "ba7508c5",
   "metadata": {},
   "outputs": [],
   "source": [
    "# addition is also not possible in tuple"
   ]
  },
  {
   "cell_type": "code",
   "execution_count": 29,
   "id": "b3d30e86",
   "metadata": {},
   "outputs": [],
   "source": [
    "# You cannot delete a part of a tuple"
   ]
  },
  {
   "cell_type": "code",
   "execution_count": 31,
   "id": "d3746d82",
   "metadata": {},
   "outputs": [
    {
     "data": {
      "text/plain": [
       "(1, 2, 3, 4, 5)"
      ]
     },
     "execution_count": 31,
     "metadata": {},
     "output_type": "execute_result"
    }
   ],
   "source": [
    "T1+T2"
   ]
  },
  {
   "cell_type": "code",
   "execution_count": 32,
   "id": "025df412",
   "metadata": {},
   "outputs": [
    {
     "data": {
      "text/plain": [
       "True"
      ]
     },
     "execution_count": 32,
     "metadata": {},
     "output_type": "execute_result"
    }
   ],
   "source": [
    "1 in T2"
   ]
  },
  {
   "cell_type": "code",
   "execution_count": 34,
   "id": "be803ebe",
   "metadata": {},
   "outputs": [],
   "source": [
    "# Function\n",
    "#Everything is possible like #len(),min(),max(),sum(),sorted()"
   ]
  },
  {
   "cell_type": "markdown",
   "id": "fc4a6e93",
   "metadata": {},
   "source": [
    "###### Tuples are read only datatype"
   ]
  },
  {
   "cell_type": "markdown",
   "id": "9147a2ae",
   "metadata": {},
   "source": [
    "### 2.Sets"
   ]
  },
  {
   "cell_type": "code",
   "execution_count": 35,
   "id": "83a14357",
   "metadata": {},
   "outputs": [],
   "source": [
    "#Sets do not allow duplicates\n",
    "#Sets have no indexing/slicing\n",
    "#Sets don't allow mutable datatype\n",
    "#Sets itself is a mutable datatype"
   ]
  },
  {
   "cell_type": "code",
   "execution_count": 37,
   "id": "91fdf3ba",
   "metadata": {},
   "outputs": [
    {
     "name": "stdout",
     "output_type": "stream",
     "text": [
      "{}\n"
     ]
    },
    {
     "data": {
      "text/plain": [
       "dict"
      ]
     },
     "execution_count": 37,
     "metadata": {},
     "output_type": "execute_result"
    }
   ],
   "source": [
    "#Create\n",
    "S1 = {}\n",
    "print(S1)\n",
    "type(S1)"
   ]
  },
  {
   "cell_type": "code",
   "execution_count": 38,
   "id": "a99be9a0",
   "metadata": {},
   "outputs": [
    {
     "name": "stdout",
     "output_type": "stream",
     "text": [
      "set()\n"
     ]
    }
   ],
   "source": [
    "S1 = set()\n",
    "print(S1)"
   ]
  },
  {
   "cell_type": "code",
   "execution_count": 39,
   "id": "23707a09",
   "metadata": {},
   "outputs": [
    {
     "name": "stdout",
     "output_type": "stream",
     "text": [
      "{1, 2, 3, 4, 5}\n"
     ]
    }
   ],
   "source": [
    "S1 = {1,2,3,4,5}\n",
    "print(S1)"
   ]
  },
  {
   "cell_type": "code",
   "execution_count": 40,
   "id": "759d262a",
   "metadata": {},
   "outputs": [
    {
     "name": "stdout",
     "output_type": "stream",
     "text": [
      "{True, 4.5, 'Hello'}\n"
     ]
    }
   ],
   "source": [
    "S2 = {'Hello',4.5,True}\n",
    "print(S2)"
   ]
  },
  {
   "cell_type": "code",
   "execution_count": 41,
   "id": "436d14bb",
   "metadata": {},
   "outputs": [
    {
     "name": "stdout",
     "output_type": "stream",
     "text": [
      "{1, 2, 3}\n"
     ]
    }
   ],
   "source": [
    "S3 = {1,1,2,2,3,3}\n",
    "print(S3)"
   ]
  },
  {
   "cell_type": "code",
   "execution_count": 42,
   "id": "04d6b3dc",
   "metadata": {},
   "outputs": [
    {
     "ename": "TypeError",
     "evalue": "unhashable type: 'list'",
     "output_type": "error",
     "traceback": [
      "\u001b[1;31m---------------------------------------------------------------------------\u001b[0m",
      "\u001b[1;31mTypeError\u001b[0m                                 Traceback (most recent call last)",
      "\u001b[1;32mC:\\Users\\VARTIK~1\\AppData\\Local\\Temp/ipykernel_14416/2066132444.py\u001b[0m in \u001b[0;36m<module>\u001b[1;34m\u001b[0m\n\u001b[1;32m----> 1\u001b[1;33m \u001b[0mS4\u001b[0m \u001b[1;33m=\u001b[0m \u001b[1;33m{\u001b[0m\u001b[1;33m[\u001b[0m\u001b[1;36m1\u001b[0m\u001b[1;33m,\u001b[0m\u001b[1;36m2\u001b[0m\u001b[1;33m,\u001b[0m\u001b[1;36m3\u001b[0m\u001b[1;33m]\u001b[0m\u001b[1;33m,\u001b[0m\u001b[1;34m'Hello'\u001b[0m\u001b[1;33m}\u001b[0m\u001b[1;33m\u001b[0m\u001b[1;33m\u001b[0m\u001b[0m\n\u001b[0m\u001b[0;32m      2\u001b[0m \u001b[0mprint\u001b[0m\u001b[1;33m(\u001b[0m\u001b[0mS4\u001b[0m\u001b[1;33m)\u001b[0m\u001b[1;33m\u001b[0m\u001b[1;33m\u001b[0m\u001b[0m\n",
      "\u001b[1;31mTypeError\u001b[0m: unhashable type: 'list'"
     ]
    }
   ],
   "source": [
    "S4 = {[1,2,3],'Hello'}\n",
    "print(S4)"
   ]
  },
  {
   "cell_type": "code",
   "execution_count": 43,
   "id": "3079fd2b",
   "metadata": {},
   "outputs": [
    {
     "name": "stdout",
     "output_type": "stream",
     "text": [
      "{(1, 2, 3), 'Hello'}\n"
     ]
    }
   ],
   "source": [
    "S4 = {(1,2,3),'Hello'}\n",
    "print(S4)"
   ]
  },
  {
   "cell_type": "code",
   "execution_count": 44,
   "id": "9411e592",
   "metadata": {},
   "outputs": [
    {
     "ename": "TypeError",
     "evalue": "unhashable type: 'set'",
     "output_type": "error",
     "traceback": [
      "\u001b[1;31m---------------------------------------------------------------------------\u001b[0m",
      "\u001b[1;31mTypeError\u001b[0m                                 Traceback (most recent call last)",
      "\u001b[1;32mC:\\Users\\VARTIK~1\\AppData\\Local\\Temp/ipykernel_14416/3409946162.py\u001b[0m in \u001b[0;36m<module>\u001b[1;34m\u001b[0m\n\u001b[1;32m----> 1\u001b[1;33m \u001b[0mS5\u001b[0m \u001b[1;33m=\u001b[0m \u001b[1;33m{\u001b[0m\u001b[1;33m{\u001b[0m\u001b[1;36m1\u001b[0m\u001b[1;33m}\u001b[0m\u001b[1;33m,\u001b[0m\u001b[1;33m{\u001b[0m\u001b[1;36m2\u001b[0m\u001b[1;33m}\u001b[0m\u001b[1;33m}\u001b[0m\u001b[1;33m\u001b[0m\u001b[1;33m\u001b[0m\u001b[0m\n\u001b[0m\u001b[0;32m      2\u001b[0m \u001b[0mprint\u001b[0m\u001b[1;33m(\u001b[0m\u001b[0mS5\u001b[0m\u001b[1;33m)\u001b[0m\u001b[1;33m\u001b[0m\u001b[1;33m\u001b[0m\u001b[0m\n",
      "\u001b[1;31mTypeError\u001b[0m: unhashable type: 'set'"
     ]
    }
   ],
   "source": [
    "S5 = {{1},{2}}\n",
    "print(S5)"
   ]
  },
  {
   "cell_type": "code",
   "execution_count": 48,
   "id": "353f716d",
   "metadata": {},
   "outputs": [],
   "source": [
    "#Access items\n",
    "#You cannot access item out of the set\n",
    "# You can not edit sets"
   ]
  },
  {
   "cell_type": "code",
   "execution_count": 53,
   "id": "8e437e23",
   "metadata": {},
   "outputs": [
    {
     "name": "stdout",
     "output_type": "stream",
     "text": [
      "{1, 2, 3, 4, 5, 6}\n"
     ]
    }
   ],
   "source": [
    "print(S1)"
   ]
  },
  {
   "cell_type": "code",
   "execution_count": 54,
   "id": "c36e2c0d",
   "metadata": {},
   "outputs": [
    {
     "data": {
      "text/plain": [
       "2927873949024"
      ]
     },
     "execution_count": 54,
     "metadata": {},
     "output_type": "execute_result"
    }
   ],
   "source": [
    "id(S1)"
   ]
  },
  {
   "cell_type": "code",
   "execution_count": 55,
   "id": "14e9e03f",
   "metadata": {},
   "outputs": [
    {
     "name": "stdout",
     "output_type": "stream",
     "text": [
      "[1, 2, 3, 4, 5, 6]\n"
     ]
    }
   ],
   "source": [
    "L = list(S1)\n",
    "print(L)"
   ]
  },
  {
   "cell_type": "code",
   "execution_count": 56,
   "id": "db168c9b",
   "metadata": {},
   "outputs": [
    {
     "name": "stdout",
     "output_type": "stream",
     "text": [
      "[200, 2, 3, 4, 5, 6]\n"
     ]
    }
   ],
   "source": [
    "L[0]=200\n",
    "print(L)"
   ]
  },
  {
   "cell_type": "code",
   "execution_count": 58,
   "id": "2c0d6bb6",
   "metadata": {},
   "outputs": [
    {
     "data": {
      "text/plain": [
       "2927874008896"
      ]
     },
     "execution_count": 58,
     "metadata": {},
     "output_type": "execute_result"
    }
   ],
   "source": [
    "id(S1)"
   ]
  },
  {
   "cell_type": "code",
   "execution_count": 57,
   "id": "53369d76",
   "metadata": {},
   "outputs": [
    {
     "name": "stdout",
     "output_type": "stream",
     "text": [
      "{2, 3, 4, 5, 6, 200}\n"
     ]
    }
   ],
   "source": [
    "S1 = set(L)\n",
    "print(S1)"
   ]
  },
  {
   "cell_type": "code",
   "execution_count": 49,
   "id": "26f167a1",
   "metadata": {},
   "outputs": [],
   "source": [
    "#Add"
   ]
  },
  {
   "cell_type": "code",
   "execution_count": 52,
   "id": "9d858fd6",
   "metadata": {},
   "outputs": [
    {
     "name": "stdout",
     "output_type": "stream",
     "text": [
      "{1, 2, 3, 4, 5, 6}\n"
     ]
    }
   ],
   "source": [
    "S1.add(6)\n",
    "print(S1)"
   ]
  },
  {
   "cell_type": "code",
   "execution_count": 59,
   "id": "af965d18",
   "metadata": {},
   "outputs": [],
   "source": [
    "#Delete\n",
    "#1.del\n",
    "#2.remove\n",
    "#3.pop"
   ]
  },
  {
   "cell_type": "code",
   "execution_count": 61,
   "id": "fa1a05c4",
   "metadata": {},
   "outputs": [
    {
     "name": "stdout",
     "output_type": "stream",
     "text": [
      "{2, 3, 4, 5, 6}\n"
     ]
    }
   ],
   "source": [
    "S1.remove(200)\n",
    "print(S1)"
   ]
  },
  {
   "cell_type": "code",
   "execution_count": 62,
   "id": "1cd0c8ae",
   "metadata": {},
   "outputs": [
    {
     "data": {
      "text/plain": [
       "2"
      ]
     },
     "execution_count": 62,
     "metadata": {},
     "output_type": "execute_result"
    }
   ],
   "source": [
    "S1.pop()"
   ]
  },
  {
   "cell_type": "code",
   "execution_count": 63,
   "id": "75b3b4a9",
   "metadata": {},
   "outputs": [],
   "source": [
    "#Set operation\n"
   ]
  },
  {
   "cell_type": "code",
   "execution_count": 64,
   "id": "22e255ff",
   "metadata": {},
   "outputs": [
    {
     "ename": "TypeError",
     "evalue": "unsupported operand type(s) for +: 'set' and 'set'",
     "output_type": "error",
     "traceback": [
      "\u001b[1;31m---------------------------------------------------------------------------\u001b[0m",
      "\u001b[1;31mTypeError\u001b[0m                                 Traceback (most recent call last)",
      "\u001b[1;32mC:\\Users\\VARTIK~1\\AppData\\Local\\Temp/ipykernel_14416/542318059.py\u001b[0m in \u001b[0;36m<module>\u001b[1;34m\u001b[0m\n\u001b[0;32m      1\u001b[0m \u001b[0mS1\u001b[0m \u001b[1;33m=\u001b[0m \u001b[1;33m{\u001b[0m\u001b[1;36m1\u001b[0m\u001b[1;33m,\u001b[0m\u001b[1;36m2\u001b[0m\u001b[1;33m,\u001b[0m\u001b[1;36m3\u001b[0m\u001b[1;33m,\u001b[0m\u001b[1;36m4\u001b[0m\u001b[1;33m,\u001b[0m\u001b[1;36m5\u001b[0m\u001b[1;33m}\u001b[0m\u001b[1;33m\u001b[0m\u001b[1;33m\u001b[0m\u001b[0m\n\u001b[0;32m      2\u001b[0m \u001b[0mS2\u001b[0m \u001b[1;33m=\u001b[0m \u001b[1;33m{\u001b[0m\u001b[1;36m3\u001b[0m\u001b[1;33m,\u001b[0m\u001b[1;36m4\u001b[0m\u001b[1;33m,\u001b[0m\u001b[1;36m5\u001b[0m\u001b[1;33m,\u001b[0m\u001b[1;36m6\u001b[0m\u001b[1;33m,\u001b[0m\u001b[1;36m7\u001b[0m\u001b[1;33m}\u001b[0m\u001b[1;33m\u001b[0m\u001b[1;33m\u001b[0m\u001b[0m\n\u001b[1;32m----> 3\u001b[1;33m \u001b[0mS1\u001b[0m\u001b[1;33m+\u001b[0m\u001b[0mS2\u001b[0m\u001b[1;33m\u001b[0m\u001b[1;33m\u001b[0m\u001b[0m\n\u001b[0m",
      "\u001b[1;31mTypeError\u001b[0m: unsupported operand type(s) for +: 'set' and 'set'"
     ]
    }
   ],
   "source": [
    "S1 = {1,2,3,4,5}\n",
    "S2 = {3,4,5,6,7}\n",
    "S1+S2"
   ]
  },
  {
   "cell_type": "code",
   "execution_count": 65,
   "id": "8e0e81b0",
   "metadata": {},
   "outputs": [
    {
     "name": "stdout",
     "output_type": "stream",
     "text": [
      "1\n",
      "2\n",
      "3\n",
      "4\n",
      "5\n"
     ]
    }
   ],
   "source": [
    "for i in S1:\n",
    "    print(i)"
   ]
  },
  {
   "cell_type": "code",
   "execution_count": 66,
   "id": "256e7e53",
   "metadata": {},
   "outputs": [
    {
     "data": {
      "text/plain": [
       "True"
      ]
     },
     "execution_count": 66,
     "metadata": {},
     "output_type": "execute_result"
    }
   ],
   "source": [
    "1 in S1"
   ]
  },
  {
   "cell_type": "code",
   "execution_count": 67,
   "id": "0772a527",
   "metadata": {},
   "outputs": [
    {
     "ename": "TypeError",
     "evalue": "unsupported operand type(s) for *: 'set' and 'int'",
     "output_type": "error",
     "traceback": [
      "\u001b[1;31m---------------------------------------------------------------------------\u001b[0m",
      "\u001b[1;31mTypeError\u001b[0m                                 Traceback (most recent call last)",
      "\u001b[1;32mC:\\Users\\VARTIK~1\\AppData\\Local\\Temp/ipykernel_14416/1115564574.py\u001b[0m in \u001b[0;36m<module>\u001b[1;34m\u001b[0m\n\u001b[1;32m----> 1\u001b[1;33m \u001b[0mS1\u001b[0m\u001b[1;33m*\u001b[0m\u001b[1;36m2\u001b[0m\u001b[1;33m\u001b[0m\u001b[1;33m\u001b[0m\u001b[0m\n\u001b[0m",
      "\u001b[1;31mTypeError\u001b[0m: unsupported operand type(s) for *: 'set' and 'int'"
     ]
    }
   ],
   "source": [
    "S1*2"
   ]
  },
  {
   "cell_type": "code",
   "execution_count": 68,
   "id": "43f22f89",
   "metadata": {},
   "outputs": [],
   "source": [
    "#Function"
   ]
  },
  {
   "cell_type": "code",
   "execution_count": 69,
   "id": "2bf79f4b",
   "metadata": {},
   "outputs": [
    {
     "data": {
      "text/plain": [
       "5"
      ]
     },
     "execution_count": 69,
     "metadata": {},
     "output_type": "execute_result"
    }
   ],
   "source": [
    "len(S1)"
   ]
  },
  {
   "cell_type": "code",
   "execution_count": 70,
   "id": "ede313e1",
   "metadata": {},
   "outputs": [
    {
     "data": {
      "text/plain": [
       "1"
      ]
     },
     "execution_count": 70,
     "metadata": {},
     "output_type": "execute_result"
    }
   ],
   "source": [
    "min(S1)"
   ]
  },
  {
   "cell_type": "code",
   "execution_count": 71,
   "id": "d822bca5",
   "metadata": {},
   "outputs": [
    {
     "data": {
      "text/plain": [
       "5"
      ]
     },
     "execution_count": 71,
     "metadata": {},
     "output_type": "execute_result"
    }
   ],
   "source": [
    "max(S1)"
   ]
  },
  {
   "cell_type": "code",
   "execution_count": 72,
   "id": "451b8a08",
   "metadata": {},
   "outputs": [
    {
     "data": {
      "text/plain": [
       "15"
      ]
     },
     "execution_count": 72,
     "metadata": {},
     "output_type": "execute_result"
    }
   ],
   "source": [
    "sum(S1)"
   ]
  },
  {
   "cell_type": "code",
   "execution_count": 73,
   "id": "22b8c358",
   "metadata": {},
   "outputs": [
    {
     "data": {
      "text/plain": [
       "[1, 2, 3, 4, 5]"
      ]
     },
     "execution_count": 73,
     "metadata": {},
     "output_type": "execute_result"
    }
   ],
   "source": [
    "sorted(S1)"
   ]
  },
  {
   "cell_type": "code",
   "execution_count": 74,
   "id": "3078e7f4",
   "metadata": {},
   "outputs": [
    {
     "data": {
      "text/plain": [
       "[5, 4, 3, 2, 1]"
      ]
     },
     "execution_count": 74,
     "metadata": {},
     "output_type": "execute_result"
    }
   ],
   "source": [
    "sorted(S1,reverse = True)"
   ]
  },
  {
   "cell_type": "code",
   "execution_count": 75,
   "id": "f5f5b240",
   "metadata": {},
   "outputs": [
    {
     "data": {
      "text/plain": [
       "{1, 2, 3, 4, 5, 6, 7}"
      ]
     },
     "execution_count": 75,
     "metadata": {},
     "output_type": "execute_result"
    }
   ],
   "source": [
    "S1.union(S2)"
   ]
  },
  {
   "cell_type": "code",
   "execution_count": 76,
   "id": "c9c956ae",
   "metadata": {},
   "outputs": [
    {
     "data": {
      "text/plain": [
       "{3, 4, 5}"
      ]
     },
     "execution_count": 76,
     "metadata": {},
     "output_type": "execute_result"
    }
   ],
   "source": [
    "S1.intersection(S2)"
   ]
  },
  {
   "cell_type": "code",
   "execution_count": 77,
   "id": "2afbbaf5",
   "metadata": {},
   "outputs": [
    {
     "data": {
      "text/plain": [
       "{1, 2}"
      ]
     },
     "execution_count": 77,
     "metadata": {},
     "output_type": "execute_result"
    }
   ],
   "source": [
    "S1.difference(S2)"
   ]
  },
  {
   "cell_type": "code",
   "execution_count": 78,
   "id": "150a53dd",
   "metadata": {},
   "outputs": [
    {
     "data": {
      "text/plain": [
       "{6, 7}"
      ]
     },
     "execution_count": 78,
     "metadata": {},
     "output_type": "execute_result"
    }
   ],
   "source": [
    "S2.difference(S1)"
   ]
  },
  {
   "cell_type": "code",
   "execution_count": 79,
   "id": "58c022d2",
   "metadata": {},
   "outputs": [
    {
     "data": {
      "text/plain": [
       "{1, 2, 6, 7}"
      ]
     },
     "execution_count": 79,
     "metadata": {},
     "output_type": "execute_result"
    }
   ],
   "source": [
    "S1.symmetric_difference(S2)"
   ]
  },
  {
   "cell_type": "code",
   "execution_count": 80,
   "id": "31e4e62e",
   "metadata": {},
   "outputs": [
    {
     "data": {
      "text/plain": [
       "False"
      ]
     },
     "execution_count": 80,
     "metadata": {},
     "output_type": "execute_result"
    }
   ],
   "source": [
    "S1.isdisjoint(S2)"
   ]
  },
  {
   "cell_type": "code",
   "execution_count": 81,
   "id": "887c8821",
   "metadata": {},
   "outputs": [
    {
     "data": {
      "text/plain": [
       "False"
      ]
     },
     "execution_count": 81,
     "metadata": {},
     "output_type": "execute_result"
    }
   ],
   "source": [
    "S1.issubset(S2)"
   ]
  },
  {
   "cell_type": "code",
   "execution_count": 82,
   "id": "baab023b",
   "metadata": {},
   "outputs": [
    {
     "data": {
      "text/plain": [
       "False"
      ]
     },
     "execution_count": 82,
     "metadata": {},
     "output_type": "execute_result"
    }
   ],
   "source": [
    "S1.issuperset(S2)"
   ]
  },
  {
   "cell_type": "markdown",
   "id": "317b4d59",
   "metadata": {},
   "source": [
    "### 3.Dictionary"
   ]
  },
  {
   "cell_type": "code",
   "execution_count": 83,
   "id": "3d595f84",
   "metadata": {},
   "outputs": [
    {
     "data": {
      "text/plain": [
       "{'Name': 'Vartika', 'Gender': 'Female'}"
      ]
     },
     "execution_count": 83,
     "metadata": {},
     "output_type": "execute_result"
    }
   ],
   "source": [
    "{'Name':'Vartika','Gender':'Female'}"
   ]
  },
  {
   "cell_type": "code",
   "execution_count": 84,
   "id": "54e252ab",
   "metadata": {},
   "outputs": [],
   "source": [
    "# R1: Dictionary has no indexing\n",
    "# R2: Dictionary is a mutable datatype\n",
    "# R3: Keys-immutable;values-they can be mutable\n",
    "# R4: Keys should be unique"
   ]
  },
  {
   "cell_type": "code",
   "execution_count": 85,
   "id": "daf88401",
   "metadata": {},
   "outputs": [],
   "source": [
    "#Mutable - List/sets/Dictionary\n",
    "#Immutable - Strings/tuples/int/float/boolean/complex"
   ]
  },
  {
   "cell_type": "code",
   "execution_count": 86,
   "id": "6d63c7af",
   "metadata": {},
   "outputs": [],
   "source": [
    "# Create"
   ]
  },
  {
   "cell_type": "code",
   "execution_count": 87,
   "id": "c5a77b67",
   "metadata": {},
   "outputs": [
    {
     "name": "stdout",
     "output_type": "stream",
     "text": [
      "{}\n"
     ]
    }
   ],
   "source": [
    "D = {}\n",
    "print(D)"
   ]
  },
  {
   "cell_type": "code",
   "execution_count": 88,
   "id": "e4b652d3",
   "metadata": {},
   "outputs": [
    {
     "name": "stdout",
     "output_type": "stream",
     "text": [
      "{'Name': 'Vartika', 'Gender': 'Female'}\n"
     ]
    }
   ],
   "source": [
    "D = {'Name':'Vartika','Gender':'Female'}\n",
    "print(D)"
   ]
  },
  {
   "cell_type": "code",
   "execution_count": 89,
   "id": "3fd2037b",
   "metadata": {},
   "outputs": [
    {
     "ename": "TypeError",
     "evalue": "unhashable type: 'list'",
     "output_type": "error",
     "traceback": [
      "\u001b[1;31m---------------------------------------------------------------------------\u001b[0m",
      "\u001b[1;31mTypeError\u001b[0m                                 Traceback (most recent call last)",
      "\u001b[1;32mC:\\Users\\VARTIK~1\\AppData\\Local\\Temp/ipykernel_14416/983590749.py\u001b[0m in \u001b[0;36m<module>\u001b[1;34m\u001b[0m\n\u001b[1;32m----> 1\u001b[1;33m \u001b[0mD1\u001b[0m \u001b[1;33m=\u001b[0m \u001b[1;33m{\u001b[0m\u001b[1;33m[\u001b[0m\u001b[1;36m1\u001b[0m\u001b[1;33m,\u001b[0m\u001b[1;36m2\u001b[0m\u001b[1;33m,\u001b[0m\u001b[1;36m3\u001b[0m\u001b[1;33m]\u001b[0m\u001b[1;33m:\u001b[0m\u001b[1;34m'Vartika'\u001b[0m\u001b[1;33m}\u001b[0m\u001b[1;33m\u001b[0m\u001b[1;33m\u001b[0m\u001b[0m\n\u001b[0m\u001b[0;32m      2\u001b[0m \u001b[0mprint\u001b[0m\u001b[1;33m(\u001b[0m\u001b[0mD1\u001b[0m\u001b[1;33m)\u001b[0m\u001b[1;33m\u001b[0m\u001b[1;33m\u001b[0m\u001b[0m\n",
      "\u001b[1;31mTypeError\u001b[0m: unhashable type: 'list'"
     ]
    }
   ],
   "source": [
    "D1 = {[1,2,3]:'Vartika'}\n",
    "print(D1)"
   ]
  },
  {
   "cell_type": "code",
   "execution_count": 90,
   "id": "6d11bbf8",
   "metadata": {},
   "outputs": [
    {
     "name": "stdout",
     "output_type": "stream",
     "text": [
      "{(1, 2, 3): 'Vartika'}\n"
     ]
    }
   ],
   "source": [
    "D1 = {(1,2,3):'Vartika'}\n",
    "print(D1)"
   ]
  },
  {
   "cell_type": "code",
   "execution_count": 92,
   "id": "f547c1c4",
   "metadata": {},
   "outputs": [
    {
     "name": "stdout",
     "output_type": "stream",
     "text": [
      "{'Name': 'Singh'}\n"
     ]
    }
   ],
   "source": [
    "D2 = {'Name':'Vartika','Name':'Singh'}\n",
    "print(D2)"
   ]
  },
  {
   "cell_type": "code",
   "execution_count": 93,
   "id": "bca09cfa",
   "metadata": {},
   "outputs": [
    {
     "name": "stdout",
     "output_type": "stream",
     "text": [
      "{'Name': 'Vartika', 'college': 'HIT', 'marks': {'M1': 56, 'Ds': 54, 'Eng': 67}}\n"
     ]
    }
   ],
   "source": [
    "D3 = {'Name':'Vartika','college':'HIT','marks':{'M1':56,'Ds':54,'Eng':67}}\n",
    "print(D3)"
   ]
  },
  {
   "cell_type": "code",
   "execution_count": 94,
   "id": "d1a0045a",
   "metadata": {},
   "outputs": [],
   "source": [
    "# Accessing items from the dictionary"
   ]
  },
  {
   "cell_type": "code",
   "execution_count": 95,
   "id": "ec7cda4a",
   "metadata": {},
   "outputs": [
    {
     "name": "stdout",
     "output_type": "stream",
     "text": [
      "{(1, 2, 3): 'Vartika'}\n"
     ]
    }
   ],
   "source": [
    "print(D1)"
   ]
  },
  {
   "cell_type": "code",
   "execution_count": 97,
   "id": "9fd31d40",
   "metadata": {},
   "outputs": [
    {
     "data": {
      "text/plain": [
       "'Vartika'"
      ]
     },
     "execution_count": 97,
     "metadata": {},
     "output_type": "execute_result"
    }
   ],
   "source": [
    "D['Name']\n"
   ]
  },
  {
   "cell_type": "code",
   "execution_count": 98,
   "id": "bef2b7d1",
   "metadata": {},
   "outputs": [
    {
     "data": {
      "text/plain": [
       "'Female'"
      ]
     },
     "execution_count": 98,
     "metadata": {},
     "output_type": "execute_result"
    }
   ],
   "source": [
    "D['Gender']"
   ]
  },
  {
   "cell_type": "code",
   "execution_count": 102,
   "id": "47ee0de9",
   "metadata": {},
   "outputs": [
    {
     "data": {
      "text/plain": [
       "54"
      ]
     },
     "execution_count": 102,
     "metadata": {},
     "output_type": "execute_result"
    }
   ],
   "source": [
    "D3['marks']['Ds']"
   ]
  },
  {
   "cell_type": "code",
   "execution_count": 103,
   "id": "571d65dd",
   "metadata": {},
   "outputs": [],
   "source": [
    "# Edit"
   ]
  },
  {
   "cell_type": "code",
   "execution_count": 105,
   "id": "ddad3442",
   "metadata": {},
   "outputs": [
    {
     "name": "stdout",
     "output_type": "stream",
     "text": [
      "{'Name': 'Nishu', 'Gender': 'Female'}\n"
     ]
    }
   ],
   "source": [
    "D['Name']='Nishu'\n",
    "print(D)"
   ]
  },
  {
   "cell_type": "code",
   "execution_count": 106,
   "id": "b8125432",
   "metadata": {},
   "outputs": [
    {
     "name": "stdout",
     "output_type": "stream",
     "text": [
      "{'Name': 'Vartika', 'college': 'HIT', 'marks': {'M1': 56, 'Ds': 54, 'Eng': 67, 'DS': 43}}\n"
     ]
    }
   ],
   "source": [
    "D3['marks']['DS']=43\n",
    "print(D3)"
   ]
  },
  {
   "cell_type": "code",
   "execution_count": 108,
   "id": "f530bfc6",
   "metadata": {},
   "outputs": [
    {
     "name": "stdout",
     "output_type": "stream",
     "text": [
      "{'Name': 'Nishu', 'Gender': 'Female'}\n"
     ]
    }
   ],
   "source": [
    "# Add new key-value pairs\n",
    "print(D)"
   ]
  },
  {
   "cell_type": "code",
   "execution_count": 109,
   "id": "b798f676",
   "metadata": {},
   "outputs": [
    {
     "name": "stdout",
     "output_type": "stream",
     "text": [
      "{'Name': 'Nishu', 'Gender': 'Female', 'Age': 23}\n"
     ]
    }
   ],
   "source": [
    "D['Age']=23\n",
    "print(D)"
   ]
  },
  {
   "cell_type": "code",
   "execution_count": 110,
   "id": "2eccb469",
   "metadata": {},
   "outputs": [
    {
     "name": "stdout",
     "output_type": "stream",
     "text": [
      "{'Name': 'Vartika', 'college': 'HIT', 'marks': {'M1': 56, 'Ds': 54, 'Eng': 67, 'DS': 43, 'M2': 50}}\n"
     ]
    }
   ],
   "source": [
    "D3['marks'][\"M2\"]=50\n",
    "print(D3)"
   ]
  },
  {
   "cell_type": "code",
   "execution_count": 111,
   "id": "6c1d96ce",
   "metadata": {},
   "outputs": [],
   "source": [
    "# Delete"
   ]
  },
  {
   "cell_type": "code",
   "execution_count": 112,
   "id": "0bab643a",
   "metadata": {},
   "outputs": [],
   "source": [
    "D5={}\n",
    "del D5"
   ]
  },
  {
   "cell_type": "code",
   "execution_count": 118,
   "id": "360cae14",
   "metadata": {},
   "outputs": [
    {
     "name": "stdout",
     "output_type": "stream",
     "text": [
      "{'Name': 'Nishu', 'Age': 23}\n"
     ]
    }
   ],
   "source": [
    "print(D)"
   ]
  },
  {
   "cell_type": "code",
   "execution_count": 119,
   "id": "bf4dcaaf",
   "metadata": {},
   "outputs": [
    {
     "name": "stdout",
     "output_type": "stream",
     "text": [
      "{'Name': 'Nishu'}\n"
     ]
    }
   ],
   "source": [
    "del D['Age']\n",
    "print(D)"
   ]
  },
  {
   "cell_type": "code",
   "execution_count": 121,
   "id": "6491ce5c",
   "metadata": {},
   "outputs": [
    {
     "name": "stdout",
     "output_type": "stream",
     "text": [
      "{}\n"
     ]
    }
   ],
   "source": [
    "D.clear()\n",
    "print(D)"
   ]
  },
  {
   "cell_type": "code",
   "execution_count": 122,
   "id": "4bfa2e12",
   "metadata": {},
   "outputs": [],
   "source": [
    "#Operations"
   ]
  },
  {
   "cell_type": "code",
   "execution_count": 123,
   "id": "fb2ebfa2",
   "metadata": {},
   "outputs": [
    {
     "name": "stdout",
     "output_type": "stream",
     "text": [
      "{}\n"
     ]
    }
   ],
   "source": [
    "print(D)"
   ]
  },
  {
   "cell_type": "code",
   "execution_count": 124,
   "id": "f747ae79",
   "metadata": {},
   "outputs": [
    {
     "name": "stdout",
     "output_type": "stream",
     "text": [
      "{(1, 2, 3): 'Vartika'}\n"
     ]
    }
   ],
   "source": [
    "print(D1)"
   ]
  },
  {
   "cell_type": "code",
   "execution_count": 125,
   "id": "2db48c26",
   "metadata": {},
   "outputs": [
    {
     "name": "stdout",
     "output_type": "stream",
     "text": [
      "{'Name': 'Singh'}\n"
     ]
    }
   ],
   "source": [
    "print(D2)"
   ]
  },
  {
   "cell_type": "code",
   "execution_count": 126,
   "id": "9206e96c",
   "metadata": {},
   "outputs": [
    {
     "name": "stdout",
     "output_type": "stream",
     "text": [
      "{'Name': 'Vartika', 'college': 'HIT', 'marks': {'M1': 56, 'Ds': 54, 'Eng': 67, 'DS': 43, 'M2': 50}}\n"
     ]
    }
   ],
   "source": [
    "print(D3)"
   ]
  },
  {
   "cell_type": "code",
   "execution_count": 127,
   "id": "b2c49568",
   "metadata": {},
   "outputs": [
    {
     "ename": "TypeError",
     "evalue": "unsupported operand type(s) for +: 'dict' and 'dict'",
     "output_type": "error",
     "traceback": [
      "\u001b[1;31m---------------------------------------------------------------------------\u001b[0m",
      "\u001b[1;31mTypeError\u001b[0m                                 Traceback (most recent call last)",
      "\u001b[1;32mC:\\Users\\VARTIK~1\\AppData\\Local\\Temp/ipykernel_14416/3579322690.py\u001b[0m in \u001b[0;36m<module>\u001b[1;34m\u001b[0m\n\u001b[1;32m----> 1\u001b[1;33m \u001b[0mD1\u001b[0m \u001b[1;33m+\u001b[0m \u001b[0mD2\u001b[0m\u001b[1;33m\u001b[0m\u001b[1;33m\u001b[0m\u001b[0m\n\u001b[0m",
      "\u001b[1;31mTypeError\u001b[0m: unsupported operand type(s) for +: 'dict' and 'dict'"
     ]
    }
   ],
   "source": [
    "D1 + D2"
   ]
  },
  {
   "cell_type": "code",
   "execution_count": 128,
   "id": "0f221ca8",
   "metadata": {},
   "outputs": [
    {
     "ename": "TypeError",
     "evalue": "unsupported operand type(s) for *: 'dict' and 'int'",
     "output_type": "error",
     "traceback": [
      "\u001b[1;31m---------------------------------------------------------------------------\u001b[0m",
      "\u001b[1;31mTypeError\u001b[0m                                 Traceback (most recent call last)",
      "\u001b[1;32mC:\\Users\\VARTIK~1\\AppData\\Local\\Temp/ipykernel_14416/4203859800.py\u001b[0m in \u001b[0;36m<module>\u001b[1;34m\u001b[0m\n\u001b[1;32m----> 1\u001b[1;33m \u001b[0mD1\u001b[0m \u001b[1;33m*\u001b[0m \u001b[1;36m3\u001b[0m\u001b[1;33m\u001b[0m\u001b[1;33m\u001b[0m\u001b[0m\n\u001b[0m",
      "\u001b[1;31mTypeError\u001b[0m: unsupported operand type(s) for *: 'dict' and 'int'"
     ]
    }
   ],
   "source": [
    "D1 * 3"
   ]
  },
  {
   "cell_type": "code",
   "execution_count": 129,
   "id": "239942d7",
   "metadata": {},
   "outputs": [
    {
     "name": "stdout",
     "output_type": "stream",
     "text": [
      "Name\n",
      "college\n",
      "marks\n"
     ]
    }
   ],
   "source": [
    "for i in D3:\n",
    "    print(i)"
   ]
  },
  {
   "cell_type": "code",
   "execution_count": 130,
   "id": "620b050e",
   "metadata": {},
   "outputs": [
    {
     "name": "stdout",
     "output_type": "stream",
     "text": [
      "Name Vartika\n",
      "college HIT\n",
      "marks {'M1': 56, 'Ds': 54, 'Eng': 67, 'DS': 43, 'M2': 50}\n"
     ]
    }
   ],
   "source": [
    "for i in D3:\n",
    "    print(i,D3[i])"
   ]
  },
  {
   "cell_type": "code",
   "execution_count": 131,
   "id": "57faea23",
   "metadata": {},
   "outputs": [
    {
     "data": {
      "text/plain": [
       "False"
      ]
     },
     "execution_count": 131,
     "metadata": {},
     "output_type": "execute_result"
    }
   ],
   "source": [
    "\"Vartika\" in D3"
   ]
  },
  {
   "cell_type": "code",
   "execution_count": 132,
   "id": "8334f075",
   "metadata": {},
   "outputs": [
    {
     "data": {
      "text/plain": [
       "True"
      ]
     },
     "execution_count": 132,
     "metadata": {},
     "output_type": "execute_result"
    }
   ],
   "source": [
    "'Name' in D2"
   ]
  },
  {
   "cell_type": "code",
   "execution_count": 133,
   "id": "e4c5d3b5",
   "metadata": {},
   "outputs": [
    {
     "data": {
      "text/plain": [
       "3"
      ]
     },
     "execution_count": 133,
     "metadata": {},
     "output_type": "execute_result"
    }
   ],
   "source": [
    "len(D3)"
   ]
  },
  {
   "cell_type": "code",
   "execution_count": 134,
   "id": "3fec7e8c",
   "metadata": {},
   "outputs": [
    {
     "data": {
      "text/plain": [
       "'Name'"
      ]
     },
     "execution_count": 134,
     "metadata": {},
     "output_type": "execute_result"
    }
   ],
   "source": [
    "min(D3)"
   ]
  },
  {
   "cell_type": "code",
   "execution_count": 135,
   "id": "64803eda",
   "metadata": {},
   "outputs": [
    {
     "data": {
      "text/plain": [
       "'marks'"
      ]
     },
     "execution_count": 135,
     "metadata": {},
     "output_type": "execute_result"
    }
   ],
   "source": [
    "max(D3)"
   ]
  },
  {
   "cell_type": "code",
   "execution_count": 136,
   "id": "0266f593",
   "metadata": {},
   "outputs": [
    {
     "data": {
      "text/plain": [
       "['Name', 'college', 'marks']"
      ]
     },
     "execution_count": 136,
     "metadata": {},
     "output_type": "execute_result"
    }
   ],
   "source": [
    "sorted(D3)"
   ]
  },
  {
   "cell_type": "code",
   "execution_count": null,
   "id": "87877cae",
   "metadata": {},
   "outputs": [],
   "source": []
  }
 ],
 "metadata": {
  "kernelspec": {
   "display_name": "Python 3 (ipykernel)",
   "language": "python",
   "name": "python3"
  },
  "language_info": {
   "codemirror_mode": {
    "name": "ipython",
    "version": 3
   },
   "file_extension": ".py",
   "mimetype": "text/x-python",
   "name": "python",
   "nbconvert_exporter": "python",
   "pygments_lexer": "ipython3",
   "version": "3.9.7"
  }
 },
 "nbformat": 4,
 "nbformat_minor": 5
}

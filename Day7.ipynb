{
 "cells": [
  {
   "cell_type": "markdown",
   "id": "d6e9f008",
   "metadata": {},
   "source": [
    "# 1.Write a program to print the following pattern.\n",
    "\n",
    " "
   ]
  },
  {
   "cell_type": "code",
   "execution_count": 2,
   "id": "ddcf7a8a",
   "metadata": {},
   "outputs": [],
   "source": [
    "# *\n",
    "# **\n",
    "# ***"
   ]
  },
  {
   "cell_type": "code",
   "execution_count": 1,
   "id": "21100de9",
   "metadata": {},
   "outputs": [
    {
     "name": "stdout",
     "output_type": "stream",
     "text": [
      "Enter number of rows:5\n",
      "* \n",
      "* * \n",
      "* * * \n",
      "* * * * \n",
      "* * * * * \n"
     ]
    }
   ],
   "source": [
    "row = int(input('Enter number of rows:'))\n",
    "for i in range(1,row+1):\n",
    "    for j in range(0,i):\n",
    "        print('*',end=' ')\n",
    "    print('')"
   ]
  },
  {
   "cell_type": "markdown",
   "id": "de32ec28",
   "metadata": {},
   "source": [
    "# 2.Write a program to print the following pattern\n",
    "\n"
   ]
  },
  {
   "cell_type": "code",
   "execution_count": 3,
   "id": "284a7624",
   "metadata": {},
   "outputs": [],
   "source": [
    "# *\n",
    "# **\n",
    "# ***\n",
    "# **\n",
    "# *"
   ]
  },
  {
   "cell_type": "code",
   "execution_count": 1,
   "id": "7a4dee71",
   "metadata": {},
   "outputs": [
    {
     "name": "stdout",
     "output_type": "stream",
     "text": [
      "* \n",
      "* * \n",
      "* * * \n",
      "* * * * \n",
      "* * * * * \n",
      "* * * * \n",
      "* * * \n",
      "* * \n",
      "* \n",
      "\n"
     ]
    }
   ],
   "source": [
    "row = 5\n",
    "for i in range(1,row+1):\n",
    "    for j in range(0,i):\n",
    "        print('*',end=\" \")\n",
    "    print('')\n",
    "for i in range(row,0,-1):\n",
    "    for j in range(0,i-1):\n",
    "        print('*',end=' ')\n",
    "    print('')\n",
    "        \n"
   ]
  },
  {
   "cell_type": "markdown",
   "id": "a19b5b79",
   "metadata": {},
   "source": [
    "# 3.Write  a program to print the following pattern\n",
    "                \n"
   ]
  },
  {
   "cell_type": "code",
   "execution_count": 4,
   "id": "b3dbbfe2",
   "metadata": {},
   "outputs": [],
   "source": [
    "#   *\n",
    "#  ***\n",
    "# *****"
   ]
  },
  {
   "cell_type": "code",
   "execution_count": 7,
   "id": "a0e5f925",
   "metadata": {},
   "outputs": [
    {
     "name": "stdout",
     "output_type": "stream",
     "text": [
      "Enter number of rows5\n"
     ]
    }
   ],
   "source": [
    "rows = int(input('Enter number of rows'))\n",
    "for i in range(0,rows):\n",
    "    for j in range(0,rows-i,-1):\n",
    "        print('*',end=' ')\n",
    "    "
   ]
  },
  {
   "cell_type": "markdown",
   "id": "d7a35ff1",
   "metadata": {},
   "source": [
    "# 4.Write a program to print the following pattern\n"
   ]
  },
  {
   "cell_type": "code",
   "execution_count": 5,
   "id": "d80b5537",
   "metadata": {},
   "outputs": [],
   "source": [
    "# 1\n",
    "# 121\n",
    "# 12321\n",
    "# 1234321"
   ]
  },
  {
   "cell_type": "code",
   "execution_count": 6,
   "id": "a3bb689b",
   "metadata": {},
   "outputs": [
    {
     "name": "stdout",
     "output_type": "stream",
     "text": [
      "Enter number of rows6\n",
      "1  \n",
      "1 2 1  \n",
      "1 2 3 2 1  \n",
      "1 2 3 4 3 2 1  \n",
      "1 2 3 4 5 4 3 2 1  \n",
      "1 2 3 4 5 6 5 4 3 2 1  \n"
     ]
    }
   ],
   "source": [
    "rows = int(input('Enter number of rows'))\n",
    "for i in range(1,rows + 1):\n",
    "    for j in range(1,i+1):\n",
    "        print(j,end=' ')\n",
    "    for k in range(i-1,0,-1):\n",
    "        print(k,end=' ')\n",
    "    print(' ')\n",
    "    "
   ]
  },
  {
   "cell_type": "markdown",
   "id": "6b6b9683",
   "metadata": {},
   "source": [
    "# 5.Write a program to print the following pattern\n",
    "\n"
   ]
  },
  {
   "cell_type": "code",
   "execution_count": null,
   "id": "f284b202",
   "metadata": {},
   "outputs": [],
   "source": [
    "# 1\n",
    "# 23\n",
    "# 456"
   ]
  },
  {
   "cell_type": "code",
   "execution_count": 7,
   "id": "efa8bc2b",
   "metadata": {},
   "outputs": [
    {
     "name": "stdout",
     "output_type": "stream",
     "text": [
      "Enter row value4\n",
      "1  \n",
      "2 3  \n",
      "4 5 6  \n",
      "7 8 9 10  \n"
     ]
    }
   ],
   "source": [
    "rows = int(input('Enter row value'))\n",
    "num = 1\n",
    "for i in range(1,rows + 1):\n",
    "    for j in range(1,i+1):\n",
    "        print(num,end=' ')\n",
    "        num = num + 1\n",
    "    print(' ')\n",
    "    "
   ]
  },
  {
   "cell_type": "markdown",
   "id": "c48f8c50",
   "metadata": {},
   "source": [
    "# 6.Write a program to calculate the sum of the following series till the nth term\n",
    "1/1! + 2/2! + 3/3! + 4/4! +…….+ n/n!\n",
    "\tn will be provided by the user\n"
   ]
  },
  {
   "cell_type": "code",
   "execution_count": 2,
   "id": "d76a0566",
   "metadata": {},
   "outputs": [
    {
     "name": "stdout",
     "output_type": "stream",
     "text": [
      "Enter a number:5\n",
      "2.708333333333333\n"
     ]
    }
   ],
   "source": [
    "num = int(input('Enter a number:'))\n",
    "result = 0\n",
    "fact = 1\n",
    "for i in range(1,num+1):\n",
    "    fact = fact * i\n",
    "    result = result + (i/fact)\n",
    "print(result)\n"
   ]
  },
  {
   "cell_type": "markdown",
   "id": "e5fc63ea",
   "metadata": {},
   "source": [
    "### 7.Write a Python Program to Find the Sum of the Series till the nth term: \n",
    "1 + x^2/2 + x^3/3 + … x^n/n\n",
    "n will be provided by the user\n"
   ]
  },
  {
   "cell_type": "code",
   "execution_count": 3,
   "id": "4c32bb64",
   "metadata": {},
   "outputs": [
    {
     "name": "stdout",
     "output_type": "stream",
     "text": [
      "Enter your number:4\n",
      "Enter nth value:4\n",
      "94.33333333333333\n"
     ]
    }
   ],
   "source": [
    "x = int(input('Enter your number:'))\n",
    "n = int(input('Enter nth value:'))\n",
    "sum = 1\n",
    "for i in range(2,n+1):\n",
    "    sum = sum + ((x**i)/i)\n",
    "print(sum)"
   ]
  },
  {
   "cell_type": "markdown",
   "id": "0537f8e5",
   "metadata": {},
   "source": [
    "# 8.The natural logarithm can be approximated by the following series.\n",
    "\n",
    "If x is input through the keyboard, write a program to calculate the sum of first seven terms of this series.\n",
    "(x-1/x) + 1/2(x-1/x)**2 + 1/2(x-1/x)**3 +..\n"
   ]
  },
  {
   "cell_type": "code",
   "execution_count": 4,
   "id": "00fee5a2",
   "metadata": {},
   "outputs": [
    {
     "name": "stdout",
     "output_type": "stream",
     "text": [
      "Enter a number:4\n",
      "0.816741943359375\n"
     ]
    }
   ],
   "source": [
    "x = int(input('Enter a number:'))\n",
    "n = 7\n",
    "sum = ((x-1)/x)\n",
    "for i in range(2,n+1):\n",
    "    sum1 = sum + (1/2*(sum)**i)\n",
    "print(sum1)\n",
    "    \n"
   ]
  },
  {
   "cell_type": "markdown",
   "id": "1003d99d",
   "metadata": {},
   "source": [
    "### 9.Write a program that keeps on accepting a number from the user until the user enters Zero. Display the sum and average of all the numbers.\n"
   ]
  },
  {
   "cell_type": "code",
   "execution_count": 2,
   "id": "63be702d",
   "metadata": {},
   "outputs": [
    {
     "name": "stdout",
     "output_type": "stream",
     "text": [
      "Enter your number:7\n",
      "Another number please:9\n",
      "Another number please:6\n",
      "Another number please:0\n",
      "Thank you\n",
      "Your sum is : 22\n",
      "Your average is: 7.333333333333333\n"
     ]
    }
   ],
   "source": [
    "num = int(input('Enter your number:'))\n",
    "add = 0\n",
    "counter = 0\n",
    "avg = 0\n",
    "while True:\n",
    "    if num != 0:\n",
    "        add = add + num\n",
    "        counter = counter + 1\n",
    "        avg = add/counter\n",
    "        num = int(input('Another number please:'))\n",
    "        \n",
    "    else:\n",
    "        if num == 0:\n",
    "            print('Thank you')\n",
    "            break\n",
    "\n",
    "print('Your sum is :',add)\n",
    "print('Your average is:',avg)        "
   ]
  },
  {
   "cell_type": "markdown",
   "id": "8a781d8e",
   "metadata": {},
   "source": [
    "# 10.Write a program that accepts 2 numbers from the user a numerator and a denominator and then simplifies it\n",
    "Eg if the num = 5, den = 15 the answer should be ⅓\n",
    "Eg if the num = 6, den = 9 the answer should be 2/3\n",
    "\n"
   ]
  },
  {
   "cell_type": "code",
   "execution_count": 16,
   "id": "1ba3588b",
   "metadata": {},
   "outputs": [
    {
     "name": "stdout",
     "output_type": "stream",
     "text": [
      "Enter numerator value12\n",
      "Enter denominator value36\n",
      "Your numerator : 12\n",
      "Your denominator: 36\n"
     ]
    }
   ],
   "source": [
    "a = int(input('Enter numerator value'))\n",
    "b = int(input('Enter denominator value'))\n",
    "hcf = 1\n",
    "if hcf == 1:\n",
    "    print('Your numerator :',a)\n",
    "    print('Your denominator:',b)\n",
    "    \n",
    "else:\n",
    "    while a % b != 0:\n",
    "        rem = a % b\n",
    "        a = b\n",
    "        b = rem\n",
    "        hcf = b\n",
    "        print(hcf)\n",
    "        a = a/hcf\n",
    "        b = b/hcf\n",
    "        \n",
    "        \n",
    "        \n",
    "    \n",
    "    \n",
    "    \n"
   ]
  },
  {
   "cell_type": "code",
   "execution_count": null,
   "id": "77e7fd5a",
   "metadata": {},
   "outputs": [],
   "source": []
  }
 ],
 "metadata": {
  "kernelspec": {
   "display_name": "Python 3 (ipykernel)",
   "language": "python",
   "name": "python3"
  },
  "language_info": {
   "codemirror_mode": {
    "name": "ipython",
    "version": 3
   },
   "file_extension": ".py",
   "mimetype": "text/x-python",
   "name": "python",
   "nbconvert_exporter": "python",
   "pygments_lexer": "ipython3",
   "version": "3.9.7"
  }
 },
 "nbformat": 4,
 "nbformat_minor": 5
}

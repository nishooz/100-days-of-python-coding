{
 "cells": [
  {
   "cell_type": "markdown",
   "id": "4fe1aba1",
   "metadata": {},
   "source": [
    "# 1.Sum of first n numbers"
   ]
  },
  {
   "cell_type": "code",
   "execution_count": 1,
   "id": "50b2d210",
   "metadata": {},
   "outputs": [
    {
     "name": "stdout",
     "output_type": "stream",
     "text": [
      "Enter your number2\n",
      "Your sum is- 3.0\n"
     ]
    }
   ],
   "source": [
    "n = int(input('Enter your number'))\n",
    "s = n*(n+1)/2\n",
    "print('Your sum is-',s)"
   ]
  },
  {
   "cell_type": "markdown",
   "id": "7173c556",
   "metadata": {},
   "source": [
    "# 2.Multiply 2 numbers without '*' operator"
   ]
  },
  {
   "cell_type": "code",
   "execution_count": 2,
   "id": "4aca7c6b",
   "metadata": {},
   "outputs": [
    {
     "name": "stdout",
     "output_type": "stream",
     "text": [
      "Enter a number4\n",
      "Enter a number5\n",
      "Product of given number is 20\n"
     ]
    }
   ],
   "source": [
    "first_num = int(input('Enter a number'))\n",
    "second_num = int(input('Enter a number'))\n",
    "sum = 0\n",
    "for i in range(0,first_num):\n",
    "    sum = sum + second_num\n",
    "print('Product of given number is',sum)"
   ]
  },
  {
   "cell_type": "markdown",
   "id": "dc0a4d35",
   "metadata": {},
   "source": [
    "# 3.Factorial of a given number"
   ]
  },
  {
   "cell_type": "code",
   "execution_count": 13,
   "id": "6a765b94",
   "metadata": {},
   "outputs": [
    {
     "name": "stdout",
     "output_type": "stream",
     "text": [
      "Enter your number7\n",
      "Factorial of given number is: 5040\n"
     ]
    }
   ],
   "source": [
    "\n",
    "num = int(input('Enter your number'))\n",
    "i = 1\n",
    "if num > 0:\n",
    "    while num >= 1:\n",
    "        i = i * num\n",
    "        num -= 1\n",
    "    print('Factorial of given number is:',i)\n",
    "else:\n",
    "    print('Not possible')"
   ]
  },
  {
   "cell_type": "markdown",
   "id": "e7165d58",
   "metadata": {},
   "source": [
    "# 4.Print the first 25 odd numbers"
   ]
  },
  {
   "cell_type": "code",
   "execution_count": 3,
   "id": "3ae408f3",
   "metadata": {},
   "outputs": [
    {
     "name": "stdout",
     "output_type": "stream",
     "text": [
      "1\n",
      "3\n",
      "5\n",
      "7\n",
      "9\n",
      "11\n",
      "13\n",
      "15\n",
      "17\n",
      "19\n",
      "21\n",
      "23\n",
      "25\n",
      "27\n",
      "29\n",
      "31\n",
      "33\n",
      "35\n",
      "37\n",
      "39\n",
      "41\n",
      "43\n",
      "45\n",
      "47\n",
      "49\n"
     ]
    }
   ],
   "source": [
    "flag = 0\n",
    "i = 1\n",
    "\n",
    "while True:\n",
    "    if i % 2 != 0:\n",
    "        print(i)\n",
    "        flag = flag + 1\n",
    "    if flag == 25:\n",
    "        break\n",
    "    \n",
    "    i = i + 1\n",
    "    \n",
    " \n",
    "    \n",
    "        \n",
    "   "
   ]
  },
  {
   "cell_type": "markdown",
   "id": "b57f2364",
   "metadata": {},
   "source": [
    "# 5.Print the first 25 prime numbers"
   ]
  },
  {
   "cell_type": "code",
   "execution_count": 24,
   "id": "e542e18a",
   "metadata": {},
   "outputs": [
    {
     "name": "stdout",
     "output_type": "stream",
     "text": [
      "Enter a number2\n",
      "Prime number\n"
     ]
    }
   ],
   "source": [
    "num = int(input('Enter a number'))\n",
    "if num == 2:\n",
    "    print('Prime number')\n",
    "         \n",
    "elif num > 1:\n",
    "    for i in range(2, num//2):\n",
    "        if (num % i) == 0:\n",
    "            print(num,'is not a prime number')\n",
    "            break\n",
    "            \n",
    "        else:\n",
    "            print(num, 'is a prime number')\n",
    "            break\n",
    "      \n",
    "    \n",
    "    else:\n",
    "        print(num, 'is not a prime number')\n",
    "\n",
    "    \n",
    "            \n",
    "        \n"
   ]
  },
  {
   "cell_type": "markdown",
   "id": "877cfbe8",
   "metadata": {},
   "source": [
    "# 6.Armstrong number in the range of 100 - 1000"
   ]
  },
  {
   "cell_type": "code",
   "execution_count": 1,
   "id": "d5f0f895",
   "metadata": {},
   "outputs": [
    {
     "name": "stdout",
     "output_type": "stream",
     "text": [
      "153\n",
      "370\n",
      "371\n",
      "407\n"
     ]
    }
   ],
   "source": [
    "for num in range(100,1000):\n",
    "    \n",
    "    i = num\n",
    "    a = num % 10\n",
    "    num = num //10\n",
    "    b = num % 10\n",
    "    c = num // 10\n",
    "    \n",
    "    if (a**3)+(b**3)+(c**3)==i:\n",
    "        print(i)\n",
    "    i = i + 1\n",
    "    \n",
    "    \n",
    "    \n",
    "\n",
    "\n",
    "\n",
    "    \n",
    "    \n",
    "\n"
   ]
  },
  {
   "cell_type": "markdown",
   "id": "75d785b5",
   "metadata": {},
   "source": [
    "# 7.Population of last 10 years"
   ]
  },
  {
   "cell_type": "code",
   "execution_count": 5,
   "id": "4d800da6",
   "metadata": {},
   "outputs": [
    {
     "name": "stdout",
     "output_type": "stream",
     "text": [
      "Population in 10th year is: 10000\n",
      "9000.0\n",
      "8100.0\n",
      "7290.0\n",
      "6561.0\n",
      "5904.9\n",
      "5314.41\n",
      "4782.969\n",
      "4304.6721\n",
      "3874.20489\n"
     ]
    }
   ],
   "source": [
    "flag = 0\n",
    "a = 10000\n",
    "print('Population in 10th year is:',10000) \n",
    "while True:\n",
    "    b = (a)-((10*a)/100)\n",
    "    a = b\n",
    "    print(b)\n",
    "    flag = flag + 1\n",
    "    if flag == 9:\n",
    "        break\n",
    "        \n",
    "\n",
    "    \n",
    "       \n"
   ]
  },
  {
   "cell_type": "markdown",
   "id": "1c350b07",
   "metadata": {},
   "source": [
    "# 8.Unique combination of 1,2,3 and 4"
   ]
  },
  {
   "cell_type": "code",
   "execution_count": 6,
   "id": "afd18b02",
   "metadata": {},
   "outputs": [
    {
     "name": "stdout",
     "output_type": "stream",
     "text": [
      "1 2\n",
      "1 3\n",
      "1 4\n",
      "2 1\n",
      "2 3\n",
      "2 4\n",
      "3 1\n",
      "3 2\n",
      "3 4\n",
      "4 1\n",
      "4 2\n",
      "4 3\n"
     ]
    }
   ],
   "source": [
    "for i in range(1,5):\n",
    "    for j in range (1,5):\n",
    "        if (i != j):\n",
    "            print(i,j)"
   ]
  },
  {
   "cell_type": "markdown",
   "id": "fc4263cc",
   "metadata": {},
   "source": [
    "# 9. HCF of 2 numbers using for loop"
   ]
  },
  {
   "cell_type": "code",
   "execution_count": 15,
   "id": "775e9b2a",
   "metadata": {},
   "outputs": [
    {
     "name": "stdout",
     "output_type": "stream",
     "text": [
      "Enter  your first number44\n",
      "Enter your second number80\n",
      "Your HCF is: 4\n"
     ]
    }
   ],
   "source": [
    "a = int(input('Enter your first number'))\n",
    "b = int(input('enter your second number'))\n",
    "\n",
    "for i in range(1,a):\n",
    "    if a % i == 0 and b % i == 0:\n",
    "        hcf = i\n",
    "print('Your HCF is:',hcf)\n",
    "    \n",
    "    "
   ]
  },
  {
   "cell_type": "markdown",
   "id": "f4a55aeb",
   "metadata": {},
   "source": [
    "# 10.LCM of 2 numbers"
   ]
  },
  {
   "cell_type": "code",
   "execution_count": 21,
   "id": "20d72949",
   "metadata": {},
   "outputs": [
    {
     "name": "stdout",
     "output_type": "stream",
     "text": [
      "Enter your first number60\n",
      "Enter your second number90\n",
      "Your LCM is: 180.0\n"
     ]
    }
   ],
   "source": [
    "a = int(input('Enter your first number'))\n",
    "b = int(input('Enter your second number'))\n",
    "\n",
    "for i in range(1,a):\n",
    "    if a % i == 0 and b % i == 0:\n",
    "        hcf = i\n",
    "lcm = (a * b)/hcf\n",
    "print('Your LCM is:',lcm)\n",
    "\n",
    "\n",
    "    "
   ]
  },
  {
   "cell_type": "markdown",
   "id": "1dc79e9b",
   "metadata": {},
   "source": [
    "# HCF of two number using while loop"
   ]
  },
  {
   "cell_type": "code",
   "execution_count": null,
   "id": "c5cec774",
   "metadata": {},
   "outputs": [],
   "source": [
    "a = int(input('Enter  your first number'))\n",
    "b = int(input('Enter your second number'))\n",
    "while a % b != 0:\n",
    "    rem = a % b\n",
    "    a = b\n",
    "    b = rem\n",
    "print('Your HCF is:',b)"
   ]
  }
 ],
 "metadata": {
  "kernelspec": {
   "display_name": "Python 3 (ipykernel)",
   "language": "python",
   "name": "python3"
  },
  "language_info": {
   "codemirror_mode": {
    "name": "ipython",
    "version": 3
   },
   "file_extension": ".py",
   "mimetype": "text/x-python",
   "name": "python",
   "nbconvert_exporter": "python",
   "pygments_lexer": "ipython3",
   "version": "3.9.7"
  }
 },
 "nbformat": 4,
 "nbformat_minor": 5
}

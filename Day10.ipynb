{
 "cells": [
  {
   "cell_type": "markdown",
   "id": "ed9db913",
   "metadata": {},
   "source": [
    "# 1.Write a python program to remove all the duplicates from a list\n"
   ]
  },
  {
   "cell_type": "code",
   "execution_count": 4,
   "id": "0aa2403b",
   "metadata": {},
   "outputs": [
    {
     "name": "stdout",
     "output_type": "stream",
     "text": [
      "[2, 3, 4, 5, 6, 8, 0]\n"
     ]
    }
   ],
   "source": [
    "L1 = [2,2,3,4,5,5,6,8,8,0]\n",
    "L = []\n",
    "\n",
    "for i in L1:\n",
    "    if i not in L:\n",
    "        L.append(i)\n",
    "print(L)\n"
   ]
  },
  {
   "cell_type": "markdown",
   "id": "291d6939",
   "metadata": {},
   "source": [
    "# 2.Write a python program to convert a string to title case without using the title()\n"
   ]
  },
  {
   "cell_type": "code",
   "execution_count": 31,
   "id": "14dd0cb8",
   "metadata": {},
   "outputs": [
    {
     "name": "stdout",
     "output_type": "stream",
     "text": [
      "['HeLlo', 'VaRTika', 'SinGh']\n",
      "Hello Vartika Singh \n"
     ]
    }
   ],
   "source": [
    "a = 'HeLlo VaRTika SinGh'\n",
    "y = a.split()\n",
    "r = ''\n",
    "for i in y:\n",
    "    r = r + i[0].upper() + i[1:].lower() + ' '\n",
    "print(r)\n",
    "    \n",
    "\n",
    "    \n",
    "    \n",
    "    "
   ]
  },
  {
   "cell_type": "markdown",
   "id": "f09dffe8",
   "metadata": {},
   "source": [
    "# 3.Write a python program to find the max item from a list without using the max function\n"
   ]
  },
  {
   "cell_type": "code",
   "execution_count": 3,
   "id": "6aeb1183",
   "metadata": {},
   "outputs": [
    {
     "name": "stdout",
     "output_type": "stream",
     "text": [
      "4653\n"
     ]
    }
   ],
   "source": [
    "i = [100,3837,4653,863]\n",
    "max = i[0]\n",
    "for j in i:\n",
    "    if j > max :\n",
    "        max = j\n",
    "print(max)\n",
    "\n"
   ]
  },
  {
   "cell_type": "markdown",
   "id": "44ab5505",
   "metadata": {},
   "source": [
    "# 4.Write a python program to reverse a list\n"
   ]
  },
  {
   "cell_type": "code",
   "execution_count": 24,
   "id": "74707993",
   "metadata": {},
   "outputs": [
    {
     "name": "stdout",
     "output_type": "stream",
     "text": [
      "[7, 0, 9, 6, 4]\n"
     ]
    }
   ],
   "source": [
    "L = [4,6,9,0,7]\n",
    "rev = []\n",
    "for i in range(len(L)-1,-1,-1):\n",
    "    rev.append(L[i])\n",
    "print(rev)\n",
    "\n",
    "\n",
    "\n"
   ]
  },
  {
   "cell_type": "markdown",
   "id": "6859ee26",
   "metadata": {},
   "source": [
    "# 5.Write a python program to search a given number from a list\n"
   ]
  },
  {
   "cell_type": "code",
   "execution_count": 57,
   "id": "0b28f043",
   "metadata": {},
   "outputs": [
    {
     "name": "stdout",
     "output_type": "stream",
     "text": [
      "Enter your number:6\n",
      "Yes it is there in the list\n"
     ]
    }
   ],
   "source": [
    "L = [1,2,3,4,5,6,7,8,9,0]\n",
    "num = int(input('Enter your number:'))\n",
    "for i in L:\n",
    "    if i == num:\n",
    "        print('Yes it is there in the list')\n",
    "        break\n",
    "else:\n",
    "    print('Not there')\n",
    "        \n",
    "        "
   ]
  },
  {
   "cell_type": "markdown",
   "id": "3b5ed9dd",
   "metadata": {},
   "source": [
    "# 6.Write a program that can create a new list from a given list where each item in the new list is square of the item of the old list\n"
   ]
  },
  {
   "cell_type": "code",
   "execution_count": 29,
   "id": "60f625f7",
   "metadata": {},
   "outputs": [
    {
     "name": "stdout",
     "output_type": "stream",
     "text": [
      "[4, 9, 16, 25, 36, 49, 64, 81]\n"
     ]
    }
   ],
   "source": [
    "L = [2,3,4,5,6,7,8,9]\n",
    "L1 = []\n",
    "for i in L:\n",
    "    L1.append(i ** 2)\n",
    "print(L1)\n",
    "    "
   ]
  },
  {
   "cell_type": "markdown",
   "id": "c3d60a54",
   "metadata": {},
   "source": [
    "# 7.Write a program that can reverse words of a given string.\n",
    "Eg if the input is Hello how are you\n",
    "Output should be you are how Hello\n"
   ]
  },
  {
   "cell_type": "code",
   "execution_count": 63,
   "id": "ca2f7752",
   "metadata": {},
   "outputs": [
    {
     "name": "stdout",
     "output_type": "stream",
     "text": [
      "Enter your string:hello vartika singh\n",
      "singh vartika hello\n"
     ]
    }
   ],
   "source": [
    "a = input('Enter your string:')\n",
    "x = a.split()\n",
    "rev = []\n",
    "for i in range(len(x)-1,-1,-1):\n",
    "    rev.append(x[i])\n",
    "y = ' '.join(rev)\n",
    "print(y)\n",
    "    \n",
    "    \n"
   ]
  },
  {
   "cell_type": "markdown",
   "id": "43399e61",
   "metadata": {},
   "source": [
    "# 8.Write a program that can count the number of words in a given string\n"
   ]
  },
  {
   "cell_type": "code",
   "execution_count": 9,
   "id": "eee3f2c5",
   "metadata": {},
   "outputs": [
    {
     "name": "stdout",
     "output_type": "stream",
     "text": [
      "Enter your sentence:hello vartika how are you doing\n",
      "Number of words are: 6\n"
     ]
    }
   ],
   "source": [
    "sen = input('Enter your sentence:')\n",
    "count = 0\n",
    "for i in sen:\n",
    "    if i == ' ':\n",
    "        count = count + 1\n",
    "num = count + 1\n",
    "print('Number of words are:',num)"
   ]
  },
  {
   "cell_type": "markdown",
   "id": "654b0ab5",
   "metadata": {},
   "source": [
    "# 9.Write a program to check if a list is in ascending order or not"
   ]
  },
  {
   "cell_type": "code",
   "execution_count": 7,
   "id": "ccc7f96c",
   "metadata": {},
   "outputs": [
    {
     "name": "stdout",
     "output_type": "stream",
     "text": [
      "Sorted\n"
     ]
    }
   ],
   "source": [
    "L = [1,2,3,4,5]\n",
    "flag = 0\n",
    "for i in range(0,len(L)-1):\n",
    "    if L[i] >= L[i+1]:\n",
    "        flag = 1\n",
    "        break\n",
    "if flag == 0:\n",
    "    print('Sorted')\n",
    "else:\n",
    "    print('Not Sorted')\n",
    "       \n",
    "    \n",
    "        \n",
    "\n"
   ]
  },
  {
   "cell_type": "markdown",
   "id": "3c36ee63",
   "metadata": {},
   "source": [
    "# 10.Create 2 lists from a given list where 1st list will contain all the odd numbers from the original list and the 2nd one will contain all the even numbers \n"
   ]
  },
  {
   "cell_type": "code",
   "execution_count": 35,
   "id": "b5934a51",
   "metadata": {},
   "outputs": [
    {
     "name": "stdout",
     "output_type": "stream",
     "text": [
      "Even numbers are: [100, 3654, 36374, 9576]\n",
      "Odd numbers are: [93645]\n"
     ]
    }
   ],
   "source": [
    "L = [100,3654,36374,93645,9576]\n",
    "L_even = []\n",
    "L_odd = []\n",
    "for i in L:\n",
    "    if i % 2 == 0:\n",
    "        L_even.append(i)\n",
    "    else:\n",
    "        L_odd.append(i)\n",
    "print('Even numbers are:',L_even)\n",
    "print('Odd numbers are:',L_odd)\n"
   ]
  },
  {
   "cell_type": "code",
   "execution_count": null,
   "id": "401c599c",
   "metadata": {},
   "outputs": [],
   "source": []
  }
 ],
 "metadata": {
  "kernelspec": {
   "display_name": "Python 3 (ipykernel)",
   "language": "python",
   "name": "python3"
  },
  "language_info": {
   "codemirror_mode": {
    "name": "ipython",
    "version": 3
   },
   "file_extension": ".py",
   "mimetype": "text/x-python",
   "name": "python",
   "nbconvert_exporter": "python",
   "pygments_lexer": "ipython3",
   "version": "3.9.7"
  }
 },
 "nbformat": 4,
 "nbformat_minor": 5
}

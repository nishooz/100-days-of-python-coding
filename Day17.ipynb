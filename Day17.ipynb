{
 "cells": [
  {
   "cell_type": "markdown",
   "id": "b9a0a899",
   "metadata": {},
   "source": [
    "### 1.Write a function that accepts a string and returns the number of upper case chars and lower case chars as a dictionary\n"
   ]
  },
  {
   "cell_type": "code",
   "execution_count": 30,
   "id": "f6bee749",
   "metadata": {},
   "outputs": [
    {
     "name": "stdout",
     "output_type": "stream",
     "text": [
      "Enter your String:Hello\n",
      "{'Upper Case': 1, 'Lower Case': 4}\n"
     ]
    }
   ],
   "source": [
    "a = input('Enter your String:')\n",
    "D = {}\n",
    "upper_count = 0\n",
    "lower_count = 0\n",
    "for i in a:\n",
    "    if(i.isupper()):\n",
    "        upper_count = upper_count + 1\n",
    "    elif(i.islower()):\n",
    "        lower_count = lower_count + 1\n",
    "D = {'Upper Case':upper_count,'Lower Case':lower_count}\n",
    "print(D)\n"
   ]
  },
  {
   "cell_type": "markdown",
   "id": "efea4f2d",
   "metadata": {},
   "source": [
    "### 2.Write a function that accepts a list of strings and performs BOW"
   ]
  },
  {
   "cell_type": "code",
   "execution_count": 4,
   "id": "868a692e",
   "metadata": {},
   "outputs": [
    {
     "data": {
      "text/plain": [
       "[[0, 1, 0, 1, 0, 0, 1, 0, 0, 0, 1, 0, 0],\n",
       " [0, 0, 1, 0, 0, 0, 1, 0, 1, 0, 0, 1, 0],\n",
       " [1, 0, 0, 0, 1, 1, 1, 1, 0, 1, 0, 0, 1]]"
      ]
     },
     "execution_count": 4,
     "metadata": {},
     "output_type": "execute_result"
    }
   ],
   "source": [
    "def bow(sentences):\n",
    "    vocab = []\n",
    "    \n",
    "    for i in sentences:\n",
    "        vocab.extend(i.split())\n",
    "        \n",
    "    vocab = list(set(vocab))\n",
    "    \n",
    "    vector2d = []\n",
    "    for sentence in sentences:\n",
    "        vector = []\n",
    "        for word in vocab:\n",
    "            vector.append(sentence.count(word))\n",
    "        vector2d.append(vector)\n",
    "        \n",
    "    return vector2d\n",
    "\n",
    "sentences = [\n",
    "    'Hello how are you',\n",
    "    'where have you been',\n",
    "    'I was waiting for your call'\n",
    "]\n",
    "bow(sentences)"
   ]
  },
  {
   "cell_type": "markdown",
   "id": "a5d34f34",
   "metadata": {},
   "source": [
    "### 3.Write a program that can perform login and registration\n"
   ]
  },
  {
   "cell_type": "code",
   "execution_count": null,
   "id": "ee179ceb",
   "metadata": {},
   "outputs": [],
   "source": [
    "database = {}\n",
    "\n",
    "def user_menu():\n",
    "    user_input = input('''\n",
    "    1. Enter 1 to Register\n",
    "    2. Enter 2 for Login\n",
    "    3. Enter 3 to Exit\n",
    "    ''')\n",
    "    \n",
    "    if user_input == '1':\n",
    "        register()\n",
    "    elif user_input == '2':\n",
    "        login()\n",
    "    else:\n",
    "        print('Bye')\n",
    "        \n",
    "def register():\n",
    "    name = input('Enter your name:')\n",
    "    email = input('Enter your email id:')\n",
    "    password = input('Enter your password:')\n",
    "    \n",
    "    database[email]=[name,password]\n",
    "    \n",
    "    print('Registration successful')\n",
    "    print()\n",
    "    user_menu()\n",
    "    \n",
    "def login():\n",
    "    email = input('enter your email id:')\n",
    "    password = input('Enter your password:')\n",
    "    \n",
    "    flag = 0\n",
    "    \n",
    "    for i in database:\n",
    "        if email == i:\n",
    "            flag = 1\n",
    "            if password == database[i][1]:\n",
    "                print('Welcome')\n",
    "            else:\n",
    "                print('Incorrect password')\n",
    "                \n",
    "    if flag == 0:\n",
    "        print('Email not found')\n",
    "        \n",
    "user_menu()\n",
    "                  \n",
    "    "
   ]
  },
  {
   "cell_type": "markdown",
   "id": "69b2b0a0",
   "metadata": {},
   "source": [
    "### 4.Write a program that accepts neighbors and a point and tells nearest neighbor\n"
   ]
  },
  {
   "cell_type": "code",
   "execution_count": 5,
   "id": "fb0537fc",
   "metadata": {},
   "outputs": [
    {
     "name": "stdout",
     "output_type": "stream",
     "text": [
      "Nearest neighbor is 4 at the distance of 12.806248474865697\n"
     ]
    }
   ],
   "source": [
    "def nearest_neighbor(neighbors,you):\n",
    "    def calculate_distance(c1,c2):\n",
    "        return((c1[0]-c2[0])**2 + (c1[1]-c2[1])**2)**0.5\n",
    "    \n",
    "    distances = []\n",
    "    \n",
    "    for i in neighbors:\n",
    "        distances.append(calculate_distance(you,i))\n",
    "        \n",
    "    neighbor_index,distance = sorted(list(enumerate(distances)),key=lambda x:x[1])[0]\n",
    "        \n",
    "    print('Nearest neighbor is',neighbor_index,'at the distance of',distance)\n",
    "    \n",
    "neighbors = [\n",
    "        [89,45],\n",
    "        [23,45],\n",
    "        [200,7],\n",
    "        [5,3],\n",
    "        [1,0]\n",
    "]       \n",
    "\n",
    "you = [-9,8]\n",
    "nearest_neighbor(neighbors,you)\n",
    "\n"
   ]
  },
  {
   "cell_type": "markdown",
   "id": "5df612f9",
   "metadata": {},
   "source": [
    "### 5.Write a function that accepts a number and returns it’s factorial. You can not use any loop\n"
   ]
  },
  {
   "cell_type": "code",
   "execution_count": 18,
   "id": "afa8308c",
   "metadata": {},
   "outputs": [
    {
     "data": {
      "text/plain": [
       "120"
      ]
     },
     "execution_count": 18,
     "metadata": {},
     "output_type": "execute_result"
    }
   ],
   "source": [
    "def fact(number):\n",
    "    if number == 1:\n",
    "        return 1\n",
    "    else:\n",
    "        return number*fact(number - 1)\n",
    "    \n",
    "fact(5)\n",
    "    "
   ]
  },
  {
   "cell_type": "code",
   "execution_count": 20,
   "id": "d79cf054",
   "metadata": {},
   "outputs": [
    {
     "data": {
      "text/plain": [
       "40320"
      ]
     },
     "execution_count": 20,
     "metadata": {},
     "output_type": "execute_result"
    }
   ],
   "source": [
    "fact(8)"
   ]
  },
  {
   "cell_type": "code",
   "execution_count": null,
   "id": "56921847",
   "metadata": {},
   "outputs": [],
   "source": []
  }
 ],
 "metadata": {
  "kernelspec": {
   "display_name": "Python 3 (ipykernel)",
   "language": "python",
   "name": "python3"
  },
  "language_info": {
   "codemirror_mode": {
    "name": "ipython",
    "version": 3
   },
   "file_extension": ".py",
   "mimetype": "text/x-python",
   "name": "python",
   "nbconvert_exporter": "python",
   "pygments_lexer": "ipython3",
   "version": "3.9.7"
  }
 },
 "nbformat": 4,
 "nbformat_minor": 5
}

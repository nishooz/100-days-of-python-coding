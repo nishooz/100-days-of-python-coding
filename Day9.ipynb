{
 "cells": [
  {
   "cell_type": "markdown",
   "id": "a353e8b0",
   "metadata": {},
   "source": [
    "# 1. Find the length of a given string without using len() function."
   ]
  },
  {
   "cell_type": "code",
   "execution_count": 1,
   "id": "cd7ac754",
   "metadata": {},
   "outputs": [
    {
     "name": "stdout",
     "output_type": "stream",
     "text": [
      "Enter your sentencevartika singh\n",
      "Length of the string is : 13\n"
     ]
    }
   ],
   "source": [
    "a = input('Enter your sentence:')\n",
    "count = 0\n",
    "for i in a:\n",
    "    count = count + 1\n",
    "print('Length of the string is :',count)\n",
    "\n"
   ]
  },
  {
   "cell_type": "markdown",
   "id": "b47b8cbb",
   "metadata": {},
   "source": [
    "# 2.Extract username from a given email."
   ]
  },
  {
   "cell_type": "code",
   "execution_count": null,
   "id": "aee74228",
   "metadata": {},
   "outputs": [],
   "source": [
    "email = input('Enter your email:')\n",
    "username,mail = email.split('@')\n",
    "print(username)"
   ]
  },
  {
   "cell_type": "markdown",
   "id": "922ee787",
   "metadata": {},
   "source": [
    "# 3.Count the frequency of a particular character in the given string."
   ]
  },
  {
   "cell_type": "code",
   "execution_count": 2,
   "id": "eb7de7d7",
   "metadata": {},
   "outputs": [
    {
     "name": "stdout",
     "output_type": "stream",
     "text": [
      "Enter your stringvartijsjshshgagv\n",
      "Enter character to check frequencyj\n",
      "character occured: 2 times\n"
     ]
    }
   ],
   "source": [
    "a = input('Enter your string:')\n",
    "b = input('Enter character to check frequency:')\n",
    "count = 0\n",
    "for i in a:\n",
    "    if i in b:\n",
    "        count = count + 1\n",
    "print('character occured:',count,'times')\n",
    "\n"
   ]
  },
  {
   "cell_type": "markdown",
   "id": "2bce1138",
   "metadata": {},
   "source": [
    "# 4.Find the index position of a particular character in another  string."
   ]
  },
  {
   "cell_type": "code",
   "execution_count": 1,
   "id": "4dd2ac6d",
   "metadata": {},
   "outputs": [
    {
     "name": "stdout",
     "output_type": "stream",
     "text": [
      "Enter a string:function\n",
      "Enter another string:return\n",
      "Which character:n\n",
      "5\n"
     ]
    }
   ],
   "source": [
    "a = input('Enter a string:')\n",
    "b = input('Enter another string:')\n",
    "c = input('Which character:')\n",
    "print(b.index(c))"
   ]
  },
  {
   "cell_type": "markdown",
   "id": "8c0f6f42",
   "metadata": {},
   "source": [
    "# 5.Write a program which can remove a particular character from a given string."
   ]
  },
  {
   "cell_type": "code",
   "execution_count": 1,
   "id": "0577ff06",
   "metadata": {},
   "outputs": [
    {
     "name": "stdout",
     "output_type": "stream",
     "text": [
      "Enter your string:vartika\n",
      "Enter the value of character:4\n",
      "var\n",
      "ika\n",
      "varika\n"
     ]
    }
   ],
   "source": [
    "a = input('Enter your string:')\n",
    "b = int(input('Enter the value of character:'))\n",
    "\n",
    "c = a[0:b-1]\n",
    "print(c)\n",
    "d = a[b:]\n",
    "print(d)\n",
    "\n",
    "print(c+d)"
   ]
  },
  {
   "cell_type": "markdown",
   "id": "f92f5f7b",
   "metadata": {},
   "source": [
    "# 6.Count the number of vowels in a particular string provided by the user."
   ]
  },
  {
   "cell_type": "code",
   "execution_count": 2,
   "id": "681fc3e1",
   "metadata": {},
   "outputs": [
    {
     "name": "stdout",
     "output_type": "stream",
     "text": [
      "Enter your string:gvuyftf\n",
      "Number of vowels are: 1\n"
     ]
    }
   ],
   "source": [
    "a = input('Enter your string:')\n",
    "vowels = 'aeiou'\n",
    "count = 0\n",
    "for i in a:\n",
    "    if i in vowels:\n",
    "        count = count + 1\n",
    "print('Number of vowels are:',count)\n",
    "        "
   ]
  },
  {
   "cell_type": "markdown",
   "id": "3ecc1c78",
   "metadata": {},
   "source": [
    "# 7.Write a program that can chech whether the given string is a palindrome or not"
   ]
  },
  {
   "cell_type": "code",
   "execution_count": 3,
   "id": "6ac45b5a",
   "metadata": {},
   "outputs": [
    {
     "name": "stdout",
     "output_type": "stream",
     "text": [
      "Enter your string:\n",
      "\n",
      "Palindrome\n"
     ]
    }
   ],
   "source": [
    "a = input('Enter your string:')\n",
    "rev = ''\n",
    "for i in range(len(a)-1,-1,-1):\n",
    "    rev = rev + a[i]\n",
    "print(rev)\n",
    "if rev == a:\n",
    "    print('Palindrome')\n",
    "else:\n",
    "    print('Not Palindrome')\n"
   ]
  },
  {
   "cell_type": "code",
   "execution_count": null,
   "id": "8dcc0b62",
   "metadata": {},
   "outputs": [],
   "source": []
  }
 ],
 "metadata": {
  "kernelspec": {
   "display_name": "Python 3 (ipykernel)",
   "language": "python",
   "name": "python3"
  },
  "language_info": {
   "codemirror_mode": {
    "name": "ipython",
    "version": 3
   },
   "file_extension": ".py",
   "mimetype": "text/x-python",
   "name": "python",
   "nbconvert_exporter": "python",
   "pygments_lexer": "ipython3",
   "version": "3.9.7"
  }
 },
 "nbformat": 4,
 "nbformat_minor": 5
}
